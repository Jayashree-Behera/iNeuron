{
 "cells": [
  {
   "cell_type": "markdown",
   "id": "22c4298d",
   "metadata": {},
   "source": [
    "### 1. To what does a relative path refer?\n",
    "\n",
    "ans : A relative path refers to a location that is relative to a current directory\n",
    "\n",
    "### 2. What does an absolute path start with your operating system?\n",
    "\n",
    "ans : An absolute path refers to the complete details needed to locate a file or folder, starting from the root element and ending with the other subdirectories.\n",
    "\n",
    "### 3. What do the functions os.getcwd() and os.chdir() do?\n",
    "\n",
    "ans : os. getcwd() returns the absolute path of the working directory where Python is currently running as a string str . getcwd stands for \"get current working directory\".\n",
    "\n",
    "chdir() method in Python used to change the current working directory to specified path. It takes only a single argument as new directory path.\n",
    "\n",
    "### 4. What are the . and .. folders?\n",
    "\n",
    "ans : When a directory B is created in Unix, it is added as a new entry to another directory A (its parent directory), and in B, two entries are added: one called . as a hard link to itself, and one called .. as a hard link to A.'.' is the current directory and '..' is the parent directory. So we don't have to type the entire path to access some file/folder.\n",
    "\n",
    "### 5. In C:\\bacon\\eggs\\spam.txt, which part is the dir name, and which part is the base name?\n",
    "\n",
    "ans : C:\\bacon\\eggs is the dir name, while spam. txt is the base name.\n",
    "\n",
    "### 6. What are the three “mode” arguments that can be passed to the open() function?\n",
    "\n",
    "ans : The string 'r' for read mode, 'w' for write mode, and 'a' for append mode.\n",
    "\n",
    "### 7. What happens if an existing file is opened in write mode?\n",
    "\n",
    "ans : An existing file opened in write mode is erased and completely overwritten.\n",
    "\n",
    "### 8. How do you tell the difference between read() and readlines()?\n",
    "\n",
    "ans : The read() method returns the file's entire contents as a single string value. The readlines() method returns a list of strings, where each string is a line from the file's contents. \n",
    "\n",
    "### 9. What data structure does a shelf value resemble?\n",
    "\n",
    "ans : A shelf value resembles a dictionary value; it has keys and values, along with keys() and values() methods that work similarly to the dictionary methods of the same names.\n"
   ]
  },
  {
   "cell_type": "code",
   "execution_count": null,
   "id": "80664e27",
   "metadata": {},
   "outputs": [],
   "source": []
  }
 ],
 "metadata": {
  "kernelspec": {
   "display_name": "Python 3",
   "language": "python",
   "name": "python3"
  },
  "language_info": {
   "codemirror_mode": {
    "name": "ipython",
    "version": 3
   },
   "file_extension": ".py",
   "mimetype": "text/x-python",
   "name": "python",
   "nbconvert_exporter": "python",
   "pygments_lexer": "ipython3",
   "version": "3.8.10"
  }
 },
 "nbformat": 4,
 "nbformat_minor": 5
}
