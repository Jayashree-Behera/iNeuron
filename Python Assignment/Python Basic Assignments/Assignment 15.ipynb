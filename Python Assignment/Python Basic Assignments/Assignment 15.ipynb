{
 "cells": [
  {
   "cell_type": "markdown",
   "id": "5fc201c6",
   "metadata": {},
   "source": [
    "### 1.How many seconds are in an hour? Use the interactive interpreter as a calculator and multiply the number of seconds in a minute (60) by the number of minutes in an hour (also 60)."
   ]
  },
  {
   "cell_type": "code",
   "execution_count": 1,
   "id": "7a52275b",
   "metadata": {},
   "outputs": [
    {
     "data": {
      "text/plain": [
       "3600"
      ]
     },
     "execution_count": 1,
     "metadata": {},
     "output_type": "execute_result"
    }
   ],
   "source": [
    "60*60"
   ]
  },
  {
   "cell_type": "markdown",
   "id": "325bc15c",
   "metadata": {},
   "source": [
    "### 2. Assign the result from the previous task (seconds in an hour) to a variable called seconds_per_hour.\n"
   ]
  },
  {
   "cell_type": "code",
   "execution_count": 2,
   "id": "6fc47c48",
   "metadata": {},
   "outputs": [],
   "source": [
    "seconds_per_hour = 3600"
   ]
  },
  {
   "cell_type": "markdown",
   "id": "a9210338",
   "metadata": {},
   "source": [
    "### 3. How many seconds do you think there are in a day? Make use of the variables seconds per hour and minutes per hour."
   ]
  },
  {
   "cell_type": "code",
   "execution_count": 3,
   "id": "a3ac3579",
   "metadata": {},
   "outputs": [
    {
     "data": {
      "text/plain": [
       "86400"
      ]
     },
     "execution_count": 3,
     "metadata": {},
     "output_type": "execute_result"
    }
   ],
   "source": [
    "minutes_per_hour = 60\n",
    "seconds_per_minute = seconds_per_hour//minutes_per_hour\n",
    "seconds_per_minute*minutes_per_hour*24 #prints seconds per day"
   ]
  },
  {
   "cell_type": "markdown",
   "id": "ced0bae4",
   "metadata": {},
   "source": [
    "### 4. Calculate seconds per day again, but this time save the result in a variable called seconds_per_day\n"
   ]
  },
  {
   "cell_type": "code",
   "execution_count": 5,
   "id": "5f8a6f6e",
   "metadata": {},
   "outputs": [],
   "source": [
    "seconds_per_day = seconds_per_minute*minutes_per_hour*24"
   ]
  },
  {
   "cell_type": "markdown",
   "id": "63ce9355",
   "metadata": {},
   "source": [
    "### 5. Divide seconds_per_day by seconds_per_hour. Use floating-point (/) division."
   ]
  },
  {
   "cell_type": "code",
   "execution_count": null,
   "id": "e01ff8df",
   "metadata": {},
   "outputs": [],
   "source": [
    "seconds_per_day/seconds_per_hour\n"
   ]
  },
  {
   "cell_type": "markdown",
   "id": "11df9ba0",
   "metadata": {},
   "source": [
    "### 6. Divide seconds_per_day by seconds_per_hour, using integer (//) division. Did this number agree with the floating-point value from the previous question, aside from the final .0?\n",
    "Yes it does agree."
   ]
  },
  {
   "cell_type": "code",
   "execution_count": 6,
   "id": "7466f09b",
   "metadata": {},
   "outputs": [
    {
     "data": {
      "text/plain": [
       "24"
      ]
     },
     "execution_count": 6,
     "metadata": {},
     "output_type": "execute_result"
    }
   ],
   "source": [
    "seconds_per_day//seconds_per_hour\n"
   ]
  },
  {
   "cell_type": "markdown",
   "id": "c51ce8a5",
   "metadata": {},
   "source": [
    "\n",
    "### 7. Write a generator, genPrimes, that returns the sequence of prime numbers on successive calls to its next() method: 2, 3, 5, 7, 11, ..."
   ]
  },
  {
   "cell_type": "code",
   "execution_count": 7,
   "id": "c36b727a",
   "metadata": {},
   "outputs": [],
   "source": [
    "def genPrimes():\n",
    "    prime = [2]\n",
    "    start = 3\n",
    "    yield prime[0]\n",
    "    while True:\n",
    "        for i in prime:\n",
    "            if (start % i == 0):\n",
    "                break                \n",
    "                \n",
    "        else:\n",
    "            prime.append(start)\n",
    "            yield start\n",
    "        start += 1"
   ]
  },
  {
   "cell_type": "code",
   "execution_count": 8,
   "id": "7d2bd364",
   "metadata": {},
   "outputs": [],
   "source": [
    "generator = genPrimes()\n"
   ]
  },
  {
   "cell_type": "code",
   "execution_count": 9,
   "id": "01f7b9c1",
   "metadata": {},
   "outputs": [
    {
     "data": {
      "text/plain": [
       "[2, 3, 5, 7, 11, 13, 17, 19, 23, 29]"
      ]
     },
     "execution_count": 9,
     "metadata": {},
     "output_type": "execute_result"
    }
   ],
   "source": [
    "[next(generator) for _ in range(10)]\n"
   ]
  }
 ],
 "metadata": {
  "kernelspec": {
   "display_name": "Python 3",
   "language": "python",
   "name": "python3"
  },
  "language_info": {
   "codemirror_mode": {
    "name": "ipython",
    "version": 3
   },
   "file_extension": ".py",
   "mimetype": "text/x-python",
   "name": "python",
   "nbconvert_exporter": "python",
   "pygments_lexer": "ipython3",
   "version": "3.8.10"
  }
 },
 "nbformat": 4,
 "nbformat_minor": 5
}
