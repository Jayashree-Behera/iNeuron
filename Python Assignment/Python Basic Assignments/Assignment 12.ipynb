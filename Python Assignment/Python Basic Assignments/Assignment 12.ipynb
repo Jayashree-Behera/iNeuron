{
 "cells": [
  {
   "cell_type": "markdown",
   "id": "ae7d51a6",
   "metadata": {},
   "source": [
    "### 1. In what modes should the PdfFileReader() and PdfFileWriter() File objects will be opened?\n",
    "Ans: PdfFileReader() : 'rb' mode to specify the file should be read in binary mode.\n",
    "\n",
    "   PdfFileWriter() : 'wb' mode to specify the file should be written in binary mode.\n",
    "\n",
    "### 2. From a PdfFileReader object, how do you get a Page object for page 5?\n",
    "Ans: getPage(5)\n",
    "\n",
    "### 3. What PdfFileReader variable stores the number of pages in the PDF document?\n",
    "Ans: \"numPages\" attribute \n",
    "\n",
    "### 4. If a PdfFileReader object’s PDF is encrypted with the password swordfish, what must you do before you can obtain Page objects from it?\n",
    "Ans: Open the pdf using \"PdfFileReader()\" and then check if the pdf is encripted or not using \"isEncrypted\" method. Then we have to decrypt the pdf using decrypt('swordfish') method.\n",
    "\n",
    "### 5. What methods do you use to rotate a page?\n",
    "Ans: For clockwise rotation, use \"rotateClockwise()\" (pass desired rotation integer inside the function)\n",
    "\n",
    "For counter clockwise rotation, use \"rotateCounterClockwise()\" (pass desired rotation integer inside the function)\n",
    "\n",
    "### 6. What is the difference between a Run object and a Paragraph object?\n",
    "Ans:Paragraph object contains the number of paragraphs in a python document.\n",
    "\n",
    "The text in word documents has different styles like font, size, color, and other attributes. Run object contains similar text stylings. A new Run object is created when there's a change in text style.\n",
    "\n",
    "### 7. How do you obtain a list of Paragraph objects for a Document object that’s stored in a variable named doc?\n",
    "Ans: We will use doc.paragraphs\n",
    "\n",
    "### 8. What type of object has bold, underline, italic, strike, and outline variables?\n",
    "Ans: Run object.\n",
    "\n",
    "### 9. What is the difference between False, True, and None for the bold variable?\n",
    "Ans: True -- the bold attribute is always enabled.\n",
    "\n",
    "False -- The bold attribute is always disabled.\n",
    "\n",
    "None -- Defaults to bold.\n",
    "\n",
    "\n",
    "### 10. How do you create a Document object for a new Word document?\n",
    "Ans:\n"
   ]
  },
  {
   "cell_type": "code",
   "execution_count": 2,
   "id": "dab17a14",
   "metadata": {},
   "outputs": [
    {
     "data": {
      "text/plain": [
       "<docx.text.paragraph.Paragraph at 0x2192152e160>"
      ]
     },
     "execution_count": 2,
     "metadata": {},
     "output_type": "execute_result"
    }
   ],
   "source": [
    "#!pip install python-docx\n",
    "import docx\n",
    "doc = docx.Document()\n",
    "doc.add_paragraph('This is the first Paragraph')\n"
   ]
  },
  {
   "cell_type": "markdown",
   "id": "91cc6609",
   "metadata": {},
   "source": [
    "### 11. How do you add a paragraph with the text 'Hello, there!' to a Document object stored in a variable named doc?\n",
    "Ans:\n",
    "\n",
    "doc.add_paragraph('Hello,there!')\n",
    "\n",
    "### 12. What integers represent the levels of headings available in Word documents?\n",
    "Ans: 1 - 4 integers represent the levels of headings available in Word documents. 1 is the main heading and 4 is the lowest subheading."
   ]
  }
 ],
 "metadata": {
  "kernelspec": {
   "display_name": "Python 3",
   "language": "python",
   "name": "python3"
  },
  "language_info": {
   "codemirror_mode": {
    "name": "ipython",
    "version": 3
   },
   "file_extension": ".py",
   "mimetype": "text/x-python",
   "name": "python",
   "nbconvert_exporter": "python",
   "pygments_lexer": "ipython3",
   "version": "3.8.10"
  }
 },
 "nbformat": 4,
 "nbformat_minor": 5
}
