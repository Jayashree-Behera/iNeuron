{
 "cells": [
  {
   "cell_type": "markdown",
   "id": "9abbdf67",
   "metadata": {},
   "source": [
    "### 1. What does RGBA stand for?\n",
    "Ans: RGBA stands for Red, Blue, Green, and Alpha (alpha means transparency)\n",
    "\n",
    "### 2. From the Pillow module, how do you get the RGBA value of any images?\n",
    "Ans: We can use getdata() function to to get the RGBA values of an image. For Example:\n"
   ]
  },
  {
   "cell_type": "code",
   "execution_count": 10,
   "id": "c04e417f",
   "metadata": {},
   "outputs": [
    {
     "name": "stdout",
     "output_type": "stream",
     "text": [
      "[(49, 21, 47, 255), (82, 30, 61, 255), (69, 29, 61, 255), (29, 22, 51, 255), (61, 29, 63, 255), (96, 37, 71, 255), (119, 42, 74, 255), (82, 30, 59, 255), (118, 52, 75, 255), (117, 51, 63, 255), (129, 54, 62, 255), (139, 44, 57, 255), (17, 11, 24, 255), (46, 18, 27, 255), (46, 18, 26, 255), (16, 11, 22, 255)]\n"
     ]
    }
   ],
   "source": [
    "from PIL import Image\n",
    "\n",
    "img=Image.open('C:\\\\Users\\\\Shree\\\\Documents\\\\iNEURON\\\\image\\\\test_image.jpg') # loading the image\n",
    "\n",
    "img = img.resize((4,4)) # resizing to the image to avoid long output\n",
    "\n",
    "rgba = img.convert(\"RGBA\") # convert to RGBA values\n",
    "\n",
    "print (list(rgba.getdata())) #printing the RGBA values"
   ]
  },
  {
   "cell_type": "markdown",
   "id": "28de9629",
   "metadata": {},
   "source": [
    "### 3. What is a box tuple, and how does it work?\n",
    "Ans: Box tuple is a way of passing the arguments to Pillow's functions and methods. The argument is passed as a tuple of four integer coordinates, where the first two values represent the upper left corner and the last two values represent the lower right corner of a rectangular region of the image.\n",
    "\n",
    "### 4. Use your image and load in notebook then, How can you find out the width and height of an Image object?\n"
   ]
  },
  {
   "cell_type": "code",
   "execution_count": 9,
   "id": "8f55da15",
   "metadata": {},
   "outputs": [
    {
     "name": "stdout",
     "output_type": "stream",
     "text": [
      "771 480\n"
     ]
    }
   ],
   "source": [
    "from PIL import Image\n",
    "img=Image.open('C:\\\\Users\\\\Shree\\\\Documents\\\\iNEURON\\\\image\\\\test_image.jpg') # loading the image\n",
    "width, height = img.size\n",
    "print (width,height) # prints the width and height"
   ]
  },
  {
   "cell_type": "markdown",
   "id": "a2672fe9",
   "metadata": {},
   "source": [
    "\n",
    "### 5. What method would you call to get Image object for a 100×100 image, excluding the lower-left quarter of it?\n",
    "Ans: If img is an image object. We will use img.crop((0,50,50,100)) method for this.\n",
    "\n",
    "### 6. After making changes to an Image object, how could you save it as an image file?\n",
    "Ans. If img is an image object, we can use img.save(filename) to save an image.\n",
    "\n",
    "### 7. What module contains Pillow’s shape-drawing code?\n",
    "Ans: ImageDraw module contains Pillow’s shape-drawing code\n",
    "\n",
    "### 8. Image objects do not have drawing methods. What kind of object does? How do you get this kind of object?\n",
    "Ans: ImageDraw has drawing methods. We can create a new image object by using Image.new() function and pass the Image object to ImageDraw.Draw() function to get an ImageDraw object."
   ]
  }
 ],
 "metadata": {
  "kernelspec": {
   "display_name": "Python 3",
   "language": "python",
   "name": "python3"
  },
  "language_info": {
   "codemirror_mode": {
    "name": "ipython",
    "version": 3
   },
   "file_extension": ".py",
   "mimetype": "text/x-python",
   "name": "python",
   "nbconvert_exporter": "python",
   "pygments_lexer": "ipython3",
   "version": "3.8.10"
  }
 },
 "nbformat": 4,
 "nbformat_minor": 5
}
