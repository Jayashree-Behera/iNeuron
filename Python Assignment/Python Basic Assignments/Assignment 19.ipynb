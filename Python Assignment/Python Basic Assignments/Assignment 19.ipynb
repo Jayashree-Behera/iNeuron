{
 "cells": [
  {
   "cell_type": "markdown",
   "id": "75f3cbe8",
   "metadata": {},
   "source": [
    "1. Make a class called Thing with no contents and print it. Then, create an object called example from this class and also print it. Are the printed values the same or different?"
   ]
  },
  {
   "cell_type": "code",
   "execution_count": 2,
   "id": "a7d0dc8a",
   "metadata": {},
   "outputs": [
    {
     "name": "stdout",
     "output_type": "stream",
     "text": [
      "<class '__main__.Thing'>\n",
      "<__main__.Thing object at 0x00000257656B7A60>\n"
     ]
    }
   ],
   "source": [
    "class Thing:\n",
    "    pass\n",
    "\n",
    "print (Thing)\n",
    "\n",
    "example = Thing()\n",
    "\n",
    "print (example)"
   ]
  },
  {
   "cell_type": "markdown",
   "id": "a6d0d808",
   "metadata": {},
   "source": [
    "2. Create a new class called Thing2 and add the value 'abc' to the letters class attribute. Letters should be printed."
   ]
  },
  {
   "cell_type": "code",
   "execution_count": 3,
   "id": "cfb43bf0",
   "metadata": {},
   "outputs": [
    {
     "name": "stdout",
     "output_type": "stream",
     "text": [
      "abc\n"
     ]
    }
   ],
   "source": [
    "class Thing2:\n",
    "    letters = 'abc'\n",
    "    \n",
    "print (Thing2.letters)"
   ]
  },
  {
   "cell_type": "markdown",
   "id": "2f3c54de",
   "metadata": {},
   "source": [
    "3. Make yet another class called, of course, Thing3. This time, assign the value 'xyz' to an instance (object) attribute called letters. Print letters. Do you need to make an object from the class to do this?\n"
   ]
  },
  {
   "cell_type": "code",
   "execution_count": 4,
   "id": "992050fd",
   "metadata": {},
   "outputs": [],
   "source": [
    "class Thing3:\n",
    "    def __init__(self):\n",
    "        self.letters = 'xyz'\n",
    "# The variable letters belongs to Thing3 object not to the class Thing3\n",
    "# So we need to create object first else it will show error.\n"
   ]
  },
  {
   "cell_type": "code",
   "execution_count": 5,
   "id": "0c3ddf8e",
   "metadata": {},
   "outputs": [
    {
     "ename": "AttributeError",
     "evalue": "type object 'Thing3' has no attribute 'letters'",
     "output_type": "error",
     "traceback": [
      "\u001b[1;31m---------------------------------------------------------------------------\u001b[0m",
      "\u001b[1;31mAttributeError\u001b[0m                            Traceback (most recent call last)",
      "\u001b[1;32m<ipython-input-5-d927f1dfc9d8>\u001b[0m in \u001b[0;36m<module>\u001b[1;34m\u001b[0m\n\u001b[0;32m      1\u001b[0m \u001b[1;31m# WRONG ONE\u001b[0m\u001b[1;33m\u001b[0m\u001b[1;33m\u001b[0m\u001b[1;33m\u001b[0m\u001b[0m\n\u001b[0;32m      2\u001b[0m \u001b[1;33m\u001b[0m\u001b[0m\n\u001b[1;32m----> 3\u001b[1;33m \u001b[0mprint\u001b[0m \u001b[1;33m(\u001b[0m\u001b[0mThing3\u001b[0m\u001b[1;33m.\u001b[0m\u001b[0mletters\u001b[0m\u001b[1;33m)\u001b[0m\u001b[1;33m\u001b[0m\u001b[1;33m\u001b[0m\u001b[0m\n\u001b[0m",
      "\u001b[1;31mAttributeError\u001b[0m: type object 'Thing3' has no attribute 'letters'"
     ]
    }
   ],
   "source": [
    "# INCORRECT METHOD\n",
    "\n",
    "print (Thing3.letters)"
   ]
  },
  {
   "cell_type": "code",
   "execution_count": 6,
   "id": "2e5e71f9",
   "metadata": {},
   "outputs": [
    {
     "name": "stdout",
     "output_type": "stream",
     "text": [
      "xyz\n"
     ]
    }
   ],
   "source": [
    "# RIGHT METHOD \n",
    "\n",
    "obj = Thing3()\n",
    "\n",
    "print (obj.letters)"
   ]
  },
  {
   "cell_type": "markdown",
   "id": "8a4cdb63",
   "metadata": {},
   "source": [
    "4. Create an Element class with the instance attributes name, symbol, and number. Create a class object with the values 'Hydrogen,' 'H,' and 1."
   ]
  },
  {
   "cell_type": "code",
   "execution_count": 7,
   "id": "dbffa439",
   "metadata": {},
   "outputs": [],
   "source": [
    "class Element:\n",
    "    def __init__(self,name,symbol,number):\n",
    "        self.name = name\n",
    "        self.symbol = symbol\n",
    "        self.number = number\n",
    "    \n",
    "obj = Element('Hydrogen','H',1)"
   ]
  },
  {
   "cell_type": "markdown",
   "id": "eac5412a",
   "metadata": {},
   "source": [
    "5. Make a dictionary with these keys and values: 'name': 'Hydrogen', 'symbol': 'H', 'number': 1. Then, create an object called hydrogen from class Element using this dictionary."
   ]
  },
  {
   "cell_type": "code",
   "execution_count": 8,
   "id": "0e06b60d",
   "metadata": {},
   "outputs": [],
   "source": [
    "dict_ele = {'name': 'Hydrogen', 'symbol': 'H', 'number': 1}\n",
    "\n",
    "hydrogen = Element(dict_ele['name'],dict_ele['symbol'],dict_ele['number'])"
   ]
  },
  {
   "cell_type": "markdown",
   "id": "cc89738b",
   "metadata": {},
   "source": [
    "6. For the Element class, define a method called dump() that prints the values of the object’s attributes (name, symbol, and number). Create the hydrogen object from this new definition and use dump() to print its attributes."
   ]
  },
  {
   "cell_type": "code",
   "execution_count": 9,
   "id": "086cfd7f",
   "metadata": {},
   "outputs": [
    {
     "name": "stdout",
     "output_type": "stream",
     "text": [
      "name : Hydrogen, symbol : H, number : 1\n"
     ]
    }
   ],
   "source": [
    "class Element:\n",
    "    def __init__(self,name,symbol,number):\n",
    "        self.name = name\n",
    "        self.symbol = symbol\n",
    "        self.number = number\n",
    "    def dump(self):\n",
    "        \"\"\"\n",
    "        prints the values of the object’s attributes (name, symbol, and number)\n",
    "        \"\"\"\n",
    "        print (f'name : {self.name}, symbol : {self.symbol}, number : {self.number}')\n",
    "        \n",
    "hydrogen = Element(dict_ele['name'],dict_ele['symbol'],dict_ele['number'])\n",
    "\n",
    "hydrogen.dump()"
   ]
  },
  {
   "cell_type": "markdown",
   "id": "fcfcf858",
   "metadata": {},
   "source": [
    "7. Call print(hydrogen). In the definition of Element, change the name of method dump to str, create a new hydrogen object, and call print(hydrogen) again."
   ]
  },
  {
   "cell_type": "code",
   "execution_count": 10,
   "id": "6fb197a9",
   "metadata": {},
   "outputs": [
    {
     "name": "stdout",
     "output_type": "stream",
     "text": [
      "<__main__.Element object at 0x0000025765788400>\n"
     ]
    }
   ],
   "source": [
    "print(hydrogen)\n"
   ]
  },
  {
   "cell_type": "code",
   "execution_count": 11,
   "id": "5c808965",
   "metadata": {},
   "outputs": [
    {
     "name": "stdout",
     "output_type": "stream",
     "text": [
      "name : Hydrogen, symbol : H, number : 1\n"
     ]
    }
   ],
   "source": [
    "class Element:\n",
    "    def __init__(self,name,symbol,number):\n",
    "        self.name = name\n",
    "        self.symbol = symbol\n",
    "        self.number = number\n",
    "    def __str__(self):\n",
    "        \"\"\"\n",
    "        prints the values of the object’s attributes (name, symbol, and number)\n",
    "        \"\"\"\n",
    "        return f'name : {self.name}, symbol : {self.symbol}, number : {self.number}'\n",
    "\n",
    "hydrogen = Element(dict_ele['name'],dict_ele['symbol'],dict_ele['number'])\n",
    "\n",
    "print (hydrogen)"
   ]
  },
  {
   "cell_type": "markdown",
   "id": "279e28cb",
   "metadata": {},
   "source": [
    "8. Modify Element to make the attributes name, symbol, and number private. Define a getter property for each to return its value."
   ]
  },
  {
   "cell_type": "code",
   "execution_count": 12,
   "id": "3898d723",
   "metadata": {},
   "outputs": [],
   "source": [
    "class Element:\n",
    "    def __init__(self,name,symbol,number):\n",
    "        self.__name = name\n",
    "        self.__symbol = symbol\n",
    "        self.__number = number\n",
    "        \n",
    "    @property   # getter property\n",
    "    def name(self):\n",
    "        return self.__name\n",
    "    \n",
    "    @property # getter property\n",
    "    def symbol(self):\n",
    "        return self.__symbol\n",
    "    \n",
    "    @property # getter property\n",
    "    def number(self):\n",
    "        return self.__number\n",
    "    \n",
    "hydrogen = Element(dict_ele['name'],dict_ele['symbol'],dict_ele['number'])"
   ]
  },
  {
   "cell_type": "code",
   "execution_count": 13,
   "id": "42da11bf",
   "metadata": {},
   "outputs": [
    {
     "name": "stdout",
     "output_type": "stream",
     "text": [
      "Hydrogen H 1\n"
     ]
    }
   ],
   "source": [
    "print(hydrogen.name,hydrogen.symbol,hydrogen.number)"
   ]
  },
  {
   "cell_type": "markdown",
   "id": "a7b698b5",
   "metadata": {},
   "source": [
    "9. Define three classes: Bear, Rabbit, and Octothorpe. For each, define only one method: eats(). This should return 'berries' (Bear), 'clover' (Rabbit), or 'campers' (Octothorpe). Create one object from each and print what it eats."
   ]
  },
  {
   "cell_type": "code",
   "execution_count": 14,
   "id": "16c80b93",
   "metadata": {},
   "outputs": [
    {
     "name": "stdout",
     "output_type": "stream",
     "text": [
      "berries\n",
      "clover\n",
      "campers\n"
     ]
    }
   ],
   "source": [
    "class Bear:      \n",
    "    \"\"\"\n",
    "    Bear class\n",
    "    \"\"\"\n",
    "    def eats(self):\n",
    "         return 'berries'\n",
    "\n",
    "class Rabbit:\n",
    "    \"\"\"\n",
    "    Rabbit class\n",
    "    \"\"\"\n",
    "    def eats(self):\n",
    "        return 'clover'\n",
    "\n",
    "class Octothorpe:\n",
    "    \"\"\"\n",
    "    Octothorpe class\n",
    "    \"\"\"\n",
    "    def eats(self):\n",
    "        return 'campers'\n",
    "    \n",
    "bear = Bear()\n",
    "rabbit = Rabbit()\n",
    "octothorpe = Octothorpe()\n",
    "print (bear.eats())\n",
    "print (rabbit.eats())\n",
    "print (octothorpe.eats())"
   ]
  },
  {
   "cell_type": "markdown",
   "id": "0602d5cf",
   "metadata": {},
   "source": [
    "10. Define these classes: Laser, Claw, and SmartPhone. Each has only one method: does(). This returns 'disintegrate' (Laser), 'crush' (Claw), or 'ring' (SmartPhone). Then, define the class Robot that has one instance (object) of each of these. Define a does() method for the Robot that prints what its component objects do."
   ]
  },
  {
   "cell_type": "code",
   "execution_count": 15,
   "id": "9d547d99",
   "metadata": {},
   "outputs": [],
   "source": [
    "\n",
    "class Laser:\n",
    "    \"\"\"\n",
    "    Laser class\n",
    "    \"\"\"\n",
    "    def does(self):\n",
    "        return 'disintegrate'\n",
    "    \n",
    "class Claw:\n",
    "    \"\"\"\n",
    "    Claw class\n",
    "    \"\"\"\n",
    "    def does(self):\n",
    "        return 'crush'\n",
    "    \n",
    "class SmartPhone:\n",
    "    \"\"\"\n",
    "    SmartPhone class\n",
    "    \"\"\"\n",
    "    def does(self):\n",
    "        return 'ring'\n",
    "    \n",
    "class Robot:\n",
    "    \"\"\"\n",
    "    Robot class containing one instance (object) of each of the \n",
    "    classes: Laser, Claw, SmarPhone\n",
    "    \"\"\"\n",
    "    \n",
    "    def __init__(self):\n",
    "        self.laser = Laser()\n",
    "        self.claw = Claw()\n",
    "        self.smartphone = SmartPhone()\n",
    "        \n",
    "    def does(self):\n",
    "        return f'laser : {self.laser.does()} \\nclaw : {self.claw.does()} \\nsmartphone : {self.smartphone.does()}'"
   ]
  },
  {
   "cell_type": "code",
   "execution_count": 16,
   "id": "740d07ce",
   "metadata": {},
   "outputs": [
    {
     "name": "stdout",
     "output_type": "stream",
     "text": [
      "laser : disintegrate \n",
      "claw : crush \n",
      "smartphone : ring\n"
     ]
    }
   ],
   "source": [
    "robot = Robot()\n",
    "\n",
    "print(robot.does())\n"
   ]
  }
 ],
 "metadata": {
  "kernelspec": {
   "display_name": "Python 3",
   "language": "python",
   "name": "python3"
  },
  "language_info": {
   "codemirror_mode": {
    "name": "ipython",
    "version": 3
   },
   "file_extension": ".py",
   "mimetype": "text/x-python",
   "name": "python",
   "nbconvert_exporter": "python",
   "pygments_lexer": "ipython3",
   "version": "3.8.10"
  }
 },
 "nbformat": 4,
 "nbformat_minor": 5
}
