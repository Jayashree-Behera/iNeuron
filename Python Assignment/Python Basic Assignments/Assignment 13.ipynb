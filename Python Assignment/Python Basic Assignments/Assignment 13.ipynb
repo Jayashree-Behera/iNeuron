{
 "cells": [
  {
   "cell_type": "markdown",
   "id": "4787a1cd",
   "metadata": {},
   "source": [
    "\n",
    "### 1. What advantages do Excel spreadsheets have over CSV spreadsheets?\n",
    "Ans: \n",
    "    Has defined datatypes for their values\n",
    "\n",
    "    Has settings for font size and color\n",
    "\n",
    "    Provides multiple worksheets feature\n",
    "\n",
    "    Can specify value for cell widths and heights\n",
    "\n",
    "    Can have merged cells\n",
    "\n",
    "    Can have images and charts.\n",
    "\n",
    "### 2.What do you pass to csv.reader() and csv.writer() to create reader and writer objects?\n",
    "Ans: We don't pass the csv file directly to csv.reader() instead we first create a open file object using open() function and then pass the file object to the csv.reader().\n",
    "\n",
    "Similarly for csv.writer() we first create a file object using open() function and specifying 'w' inside the function for write operation and then pass the file object to the csv.writer().\n",
    "\n",
    "### 3. What modes do File objects for reader and writer objects need to be opened in?\n",
    "Ans: For reader, file object should be in 'r' or read mode.\n",
    "\n",
    "For writer, file object should be in 'w' or write mode.\n",
    "\n",
    "### 4. What method takes a list argument and writes it to a CSV file?\n",
    "Ans. writerow() method \n",
    "\n",
    "### 5. What do the keyword arguments delimiter and line terminator do?\n",
    "Ans. delimiter is a character that is used between cells in a row. For example, using delimiter = ',' will use comma between cells.\n",
    "\n",
    "line terminator is a character that is used at the end of each row.For example, using lineterminator = '\\n' will use a newline at the end of each row.\n",
    "\n",
    "### 6. What function takes a string of JSON data and returns a Python data structure?\n",
    "Ans: json.loads() function takes a string of JSON data and returns a Python data structure.\n",
    "\n",
    "### 7. What function takes a Python data structure and returns a string of JSON data?\n",
    "Ans: json.dumps() function takes a Python data structure and returns a string of JSON data."
   ]
  }
 ],
 "metadata": {
  "kernelspec": {
   "display_name": "Python 3",
   "language": "python",
   "name": "python3"
  },
  "language_info": {
   "codemirror_mode": {
    "name": "ipython",
    "version": 3
   },
   "file_extension": ".py",
   "mimetype": "text/x-python",
   "name": "python",
   "nbconvert_exporter": "python",
   "pygments_lexer": "ipython3",
   "version": "3.8.10"
  }
 },
 "nbformat": 4,
 "nbformat_minor": 5
}
