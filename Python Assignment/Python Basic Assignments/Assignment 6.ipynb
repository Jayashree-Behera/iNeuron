{
 "cells": [
  {
   "cell_type": "markdown",
   "id": "4bfb8f9d",
   "metadata": {},
   "source": [
    "### 1. What are escape characters, and how do you use them?\n",
    "\n",
    "Ans: An escape character is a backslash \\ followed by the character you want to insert.To insert characters that are illegal in a string, use an escape character.\n",
    "\n",
    "example:"
   ]
  },
  {
   "cell_type": "code",
   "execution_count": 3,
   "id": "f52e0437",
   "metadata": {},
   "outputs": [
    {
     "ename": "SyntaxError",
     "evalue": "invalid syntax (<ipython-input-3-2f5e4c10f216>, line 1)",
     "output_type": "error",
     "traceback": [
      "\u001b[1;36m  File \u001b[1;32m\"<ipython-input-3-2f5e4c10f216>\"\u001b[1;36m, line \u001b[1;32m1\u001b[0m\n\u001b[1;33m    print ('I think it's going to rain') #wrong\u001b[0m\n\u001b[1;37m                       ^\u001b[0m\n\u001b[1;31mSyntaxError\u001b[0m\u001b[1;31m:\u001b[0m invalid syntax\n"
     ]
    }
   ],
   "source": [
    "print ('I think it's going to rain') #wrong"
   ]
  },
  {
   "cell_type": "code",
   "execution_count": 4,
   "id": "ad82277d",
   "metadata": {},
   "outputs": [
    {
     "name": "stdout",
     "output_type": "stream",
     "text": [
      "I think it's going to rain\n"
     ]
    }
   ],
   "source": [
    "print ('I think it\\'s going to rain') #correct"
   ]
  },
  {
   "cell_type": "markdown",
   "id": "039757d0",
   "metadata": {},
   "source": [
    " \n",
    "### 2. What do the escape characters n and t stand for?\n",
    "\n",
    "Ans: \"\\t\" is a tab and \"\\n\" is a newline.\n",
    "\n",
    "### 3. What is the way to include backslash characters in a string?\n",
    "\n",
    "Ans:Use two backslashes to represent a backslash,i.e., the syntax \"\\\\\" within the string literal.\n",
    "\n",
    "### 4. The string \"Howl's Moving Castle\" is a correct value. Why isn't the single quote character in the word Howl's not escaped a problem?\n",
    "\n",
    "Ans: The single quote in Howl's is fine because you've used double quotes to mark the beginning and end of the whole string.\n",
    "\n",
    "### 5. How do you write a string of newlines if you don't want to use the n character?\n",
    "\n",
    "Ans: We can just use separate print statements for newlines."
   ]
  },
  {
   "cell_type": "code",
   "execution_count": 5,
   "id": "c711ab48",
   "metadata": {},
   "outputs": [
    {
     "name": "stdout",
     "output_type": "stream",
     "text": [
      "How are you?\n",
      "Hi. I am fine. Thank you.\n"
     ]
    }
   ],
   "source": [
    "print('How are you?')\n",
    "print('Hi. I am fine. Thank you.')"
   ]
  },
  {
   "cell_type": "markdown",
   "id": "221dad72",
   "metadata": {},
   "source": [
    "### 6. What are the values of the given expressions?\n",
    "\n",
    "'Hello, world!'[1]\n",
    "\n",
    "'Hello, world!'[0:5]\n",
    "\n",
    "'Hello, world!'[:5]\n",
    "\n",
    "'Hello, world!'[3:]\n",
    "\n"
   ]
  },
  {
   "cell_type": "code",
   "execution_count": 10,
   "id": "c293a44b",
   "metadata": {},
   "outputs": [
    {
     "data": {
      "text/plain": [
       "'e'"
      ]
     },
     "execution_count": 10,
     "metadata": {},
     "output_type": "execute_result"
    }
   ],
   "source": [
    "'Hello, world!'[1]"
   ]
  },
  {
   "cell_type": "code",
   "execution_count": 11,
   "id": "4e32e401",
   "metadata": {},
   "outputs": [
    {
     "data": {
      "text/plain": [
       "'Hello'"
      ]
     },
     "execution_count": 11,
     "metadata": {},
     "output_type": "execute_result"
    }
   ],
   "source": [
    "'Hello, world!'[0:5]"
   ]
  },
  {
   "cell_type": "code",
   "execution_count": 12,
   "id": "4956c780",
   "metadata": {},
   "outputs": [
    {
     "data": {
      "text/plain": [
       "'Hello'"
      ]
     },
     "execution_count": 12,
     "metadata": {},
     "output_type": "execute_result"
    }
   ],
   "source": [
    "'Hello, world!'[:5]"
   ]
  },
  {
   "cell_type": "code",
   "execution_count": 13,
   "id": "8be59283",
   "metadata": {},
   "outputs": [
    {
     "data": {
      "text/plain": [
       "'lo, world!'"
      ]
     },
     "execution_count": 13,
     "metadata": {},
     "output_type": "execute_result"
    }
   ],
   "source": [
    "'Hello, world!'[3:]"
   ]
  },
  {
   "cell_type": "markdown",
   "id": "e6f1e7f4",
   "metadata": {},
   "source": [
    "### 7. What are the values of the following expressions?\n",
    "\n",
    "'Hello'.upper()\n",
    "\n",
    "'Hello'.upper().isupper()\n",
    "\n",
    "'Hello'.upper().lower()\n",
    "\n"
   ]
  },
  {
   "cell_type": "code",
   "execution_count": 18,
   "id": "c11d9480",
   "metadata": {},
   "outputs": [
    {
     "data": {
      "text/plain": [
       "'HELLO'"
      ]
     },
     "execution_count": 18,
     "metadata": {},
     "output_type": "execute_result"
    }
   ],
   "source": [
    "'Hello'.upper()"
   ]
  },
  {
   "cell_type": "code",
   "execution_count": 19,
   "id": "2f242dde",
   "metadata": {},
   "outputs": [
    {
     "data": {
      "text/plain": [
       "True"
      ]
     },
     "execution_count": 19,
     "metadata": {},
     "output_type": "execute_result"
    }
   ],
   "source": [
    "'Hello'.upper().isupper()"
   ]
  },
  {
   "cell_type": "code",
   "execution_count": 16,
   "id": "07d2c056",
   "metadata": {},
   "outputs": [
    {
     "data": {
      "text/plain": [
       "'hello'"
      ]
     },
     "execution_count": 16,
     "metadata": {},
     "output_type": "execute_result"
    }
   ],
   "source": [
    "'Hello'.upper().lower() "
   ]
  },
  {
   "cell_type": "markdown",
   "id": "0e9e6ac2",
   "metadata": {},
   "source": [
    "### 8. What are the values of the following expressions?\n",
    "\n",
    "'Remember, remember, the fifth of July.'.split()\n",
    "\n",
    "'-'.join('There can only one.'.split())"
   ]
  },
  {
   "cell_type": "code",
   "execution_count": 20,
   "id": "6c0c4302",
   "metadata": {},
   "outputs": [
    {
     "data": {
      "text/plain": [
       "['Remember,', 'remember,', 'the', 'fifth', 'of', 'July.']"
      ]
     },
     "execution_count": 20,
     "metadata": {},
     "output_type": "execute_result"
    }
   ],
   "source": [
    "'Remember, remember, the fifth of July.'.split()"
   ]
  },
  {
   "cell_type": "code",
   "execution_count": 21,
   "id": "e699328f",
   "metadata": {},
   "outputs": [
    {
     "data": {
      "text/plain": [
       "'There-can-only-one.'"
      ]
     },
     "execution_count": 21,
     "metadata": {},
     "output_type": "execute_result"
    }
   ],
   "source": [
    "'-'.join('There can only one.'.split())"
   ]
  },
  {
   "cell_type": "markdown",
   "id": "9cb73783",
   "metadata": {},
   "source": [
    "\n",
    "### 9. What are the methods for right-justifying, left-justifying, and centering a string?\n",
    "\n",
    "Ans: The methods are :\n",
    "\n",
    "         left justify : str.ljust(s, width[, fillchar])\n",
    "         right justify : str.rjust(s, width[, fillchar])\n",
    "         centering : str.center(s, width[, fillchar])"
   ]
  },
  {
   "cell_type": "code",
   "execution_count": 24,
   "id": "41f181b5",
   "metadata": {},
   "outputs": [
    {
     "name": "stdout",
     "output_type": "stream",
     "text": [
      "------Jayashree\n",
      "Jayashree------\n",
      "---Jayashree---\n"
     ]
    }
   ],
   "source": [
    "a = 'Jayashree'\n",
    "ra = a.rjust(15,'-')\n",
    "la = a.ljust(15,'-')\n",
    "ca = a.center(15,'-')\n",
    "print (ra)\n",
    "print (la)\n",
    "print (ca)"
   ]
  },
  {
   "cell_type": "markdown",
   "id": "de6b9b90",
   "metadata": {},
   "source": [
    "\n",
    "### 10. What is the best way to remove whitespace characters from the start or end?\n",
    "\n",
    "Ans: You can call the strip() method on your string to remove whitespace from the beginning and end of it. It returns a new string without whitespace."
   ]
  },
  {
   "cell_type": "code",
   "execution_count": 45,
   "id": "c0a4af58",
   "metadata": {},
   "outputs": [
    {
     "data": {
      "text/plain": [
       "'  Hello . I am Shree   '"
      ]
     },
     "execution_count": 45,
     "metadata": {},
     "output_type": "execute_result"
    }
   ],
   "source": [
    "a= '  Hello . I am Shree   '\n",
    "a"
   ]
  },
  {
   "cell_type": "code",
   "execution_count": 47,
   "id": "3986c1fc",
   "metadata": {},
   "outputs": [
    {
     "data": {
      "text/plain": [
       "'Hello . I am Shree'"
      ]
     },
     "execution_count": 47,
     "metadata": {},
     "output_type": "execute_result"
    }
   ],
   "source": [
    "a.strip()"
   ]
  }
 ],
 "metadata": {
  "kernelspec": {
   "display_name": "Python 3",
   "language": "python",
   "name": "python3"
  },
  "language_info": {
   "codemirror_mode": {
    "name": "ipython",
    "version": 3
   },
   "file_extension": ".py",
   "mimetype": "text/x-python",
   "name": "python",
   "nbconvert_exporter": "python",
   "pygments_lexer": "ipython3",
   "version": "3.8.10"
  }
 },
 "nbformat": 4,
 "nbformat_minor": 5
}
