{
 "cells": [
  {
   "cell_type": "markdown",
   "id": "afff3b22",
   "metadata": {},
   "source": [
    "### 1. Why are functions advantageous to have in your programs?\n",
    "Ans: Functions can make a code clear and consise. You can use the code in a function multiple times by just calling the function instead of writing the same code again and again.\n",
    "\n",
    "### 2. When does the code in a function run: when it's specified or when it's called?\n",
    "Ans: When it is called.\n",
    "\n",
    "### 3. What statement causes a feature to be created?\n",
    "Ans: \"def\" statement creates a function. \n",
    "    For example,\n"
   ]
  },
  {
   "cell_type": "code",
   "execution_count": 3,
   "id": "05f9d549",
   "metadata": {},
   "outputs": [
    {
     "name": "stdout",
     "output_type": "stream",
     "text": [
      "hello\n"
     ]
    }
   ],
   "source": [
    "def print_hello():\n",
    "    print(\"hello\")\n",
    "print_hello()"
   ]
  },
  {
   "cell_type": "markdown",
   "id": "9a21467e",
   "metadata": {},
   "source": [
    "### 4. What is the distinction between a function and a call to a function?\\\n",
    "\n",
    "Ans: Function is created to achive a certain task, a call to a function is made to execute that task at any point of the program.\n",
    "\n",
    "### 5. In a Python application, how many global scopes are there? How many local scopes are there?\n",
    "\n",
    "Ans: There is 1 global scope and there can be multiple local scopes in a python application. Multiple variables can be created inside a function which belongs to local scopes.\n",
    "\n",
    "### 6. What happens to variables in a local scope when the function call returns?\n",
    "\n",
    "Ans: In that case, all the variables in the local scope get wiped out from the memory.\n",
    "\n",
    "### 7. What is the concept of a return value? Is it possible to have a return value in an expression?\n",
    "\n",
    "Ans: Return value signifies the end of a function execution. If a function returns a value, then we can use that in an expression.\n",
    "\n",
    "### 8. If a function does not have a return statement, what is the return value of a call to that function?\n",
    "\n",
    "Ans: None\n",
    "\n",
    "### 9. How do you make a function variable refer to the global variable?\n",
    "\n",
    "Ans: Just use the “global” keyword before the variable to refer them as global variable."
   ]
  },
  {
   "cell_type": "code",
   "execution_count": 5,
   "id": "a9f523d0",
   "metadata": {},
   "outputs": [],
   "source": [
    "x = 1\n",
    "def func():\n",
    "    global x  #‘x’ is a global variable.\n",
    "    return x"
   ]
  },
  {
   "cell_type": "markdown",
   "id": "a24a04ce",
   "metadata": {},
   "source": [
    "### 10. What data form does None belong to?\n",
    "\n",
    "Ans: None is a NoneType data form.\n",
    "\n",
    "### 11. What does the sentence import areallyourpetsnamederic do?\n",
    "\n",
    "Ans: it imports a module named ‘areallyourpetsnamederic’ provided it exists. Else it returns a \"Module not found\" error.\n",
    "\n",
    "### 12. If you had a bacon() feature in a spam module, what would you call it after importing spam?\n",
    "\n",
    "Ans: \n",
    "            import spam \n",
    "            spam.bacon() \n",
    "                    or\n",
    "            from spam import bacon \n",
    "            bacon()\n",
    "\n",
    "### 13. What can you do to save a programme from crashing if it encounters an error?\n",
    "\n",
    "Ans: One can utilise error handling methods like ‘try and except’ statement. Use ‘try, except and finally’ statement to execute a code even when an error has occured.\n",
    "\n",
    "### 14. What is the purpose of the try clause? What is the purpose of the except clause?\n",
    "\n",
    "Ans: \"try\" statement is used to test a code block for errors. \"except\" code block is used when \"try\" block fails to execute. This aids in finding the error."
   ]
  }
 ],
 "metadata": {
  "kernelspec": {
   "display_name": "Python 3",
   "language": "python",
   "name": "python3"
  },
  "language_info": {
   "codemirror_mode": {
    "name": "ipython",
    "version": 3
   },
   "file_extension": ".py",
   "mimetype": "text/x-python",
   "name": "python",
   "nbconvert_exporter": "python",
   "pygments_lexer": "ipython3",
   "version": "3.8.10"
  }
 },
 "nbformat": 4,
 "nbformat_minor": 5
}
