{
 "cells": [
  {
   "cell_type": "markdown",
   "id": "cad7559a",
   "metadata": {},
   "source": [
    "### 1. Is the Python Standard Library included with PyInputPlus?\n",
    "\n",
    "ans: PyInputPlus is not in the standard library and is installed as follows: $ pip3 install --user pyinputplus.\n"
   ]
  },
  {
   "cell_type": "markdown",
   "id": "dc6e1f07",
   "metadata": {},
   "source": [
    "### 2. Why is PyInputPlus commonly imported with import pyinputplus as pypi?\n",
    "\n",
    "ans: You can import the module with import pyinputplus as pypi as an alias so that everytime you call the function, you can just write pypi instead of the whole name.\n",
    "\n",
    "### 3. How do you distinguish between inputInt() and inputFloat()?\n",
    "\n",
    "ans: inputInt() : Accepts an integer value. This also takes additional parameters ‘min’, ‘max’, ‘greaterThan’ and ‘lessThan’  for bounds. Returns an int.\n",
    "\n",
    "inputFloat() : Accepts a floating-point numeric value. Also takes additional ‘min’, ‘max’, ‘greaterThan’ and ‘lessThan’  parameters. Returns a float.\n",
    "\n",
    "### 4. Using PyInputPlus, how do you ensure that the user enters a whole number between 0 and 99?\n",
    "\n",
    "ans: The following code will ensure that the user enters a whole number between 0 and 99 and will return a message \"<value> is not an integer\" otherwise."
   ]
  },
  {
   "cell_type": "code",
   "execution_count": 3,
   "id": "30a6f2cb",
   "metadata": {},
   "outputs": [
    {
     "name": "stdout",
     "output_type": "stream",
     "text": [
      "Enter an Integer... -4\n",
      "Number must be at minimum 0.\n",
      "Enter an Integer... 101\n",
      "Number must be less than 100.\n",
      "Enter an Integer... 78\n"
     ]
    }
   ],
   "source": [
    "import pyinputplus as pypi    \n",
    "inp = pypi.inputInt(prompt = \"Enter an Integer... \",min = 0, lessThan = 100 )"
   ]
  },
  {
   "cell_type": "markdown",
   "id": "c9254032",
   "metadata": {},
   "source": [
    "### 5. What is transferred to the keyword arguments allowRegexes and blockRegexes?\n",
    "\n",
    "ans: The allowRegexes and blockRegexes keyword arguments take a list of regular expression strings to determine what the PyInputPlus function will accept or reject as valid input.\n",
    "\n",
    "### 6. If a blank input is entered three times, what does inputStr(limit=3) do?\n",
    "\n",
    "ans : It raises a ValidationException(str(standardExcMsg)) and a limitOrTimeoutException.\n",
    "\n",
    "### 7. If blank input is entered three times, what does inputStr(limit=3, default='hello') do?\n",
    "\n",
    "It doesn't raise any error as before and the default value given \"hello\" is generated."
   ]
  }
 ],
 "metadata": {
  "kernelspec": {
   "display_name": "Python 3",
   "language": "python",
   "name": "python3"
  },
  "language_info": {
   "codemirror_mode": {
    "name": "ipython",
    "version": 3
   },
   "file_extension": ".py",
   "mimetype": "text/x-python",
   "name": "python",
   "nbconvert_exporter": "python",
   "pygments_lexer": "ipython3",
   "version": "3.8.10"
  }
 },
 "nbformat": 4,
 "nbformat_minor": 5
}
