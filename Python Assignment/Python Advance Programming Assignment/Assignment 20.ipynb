{
 "cells": [
  {
   "cell_type": "markdown",
   "id": "2ab426a8",
   "metadata": {},
   "source": [
    "### 1. Create a function based on the input and output. Look at the examples, there is a pattern."
   ]
  },
  {
   "cell_type": "code",
   "execution_count": 2,
   "id": "e562a77f",
   "metadata": {},
   "outputs": [
    {
     "data": {
      "text/plain": [
       "'\\nExamples\\n\\nsecret(\"p.one.two.three\") ➞ \"<p class=\\'one two three\\'></p>\"\\n\\nsecret(\"p.one\") ➞ \"<p class=\\'one\\'></p>\"\\n\\nsecret(\"p.four.five\") ➞ \"<p class=\\'four five\\'></p>\"\\n\\n'"
      ]
     },
     "execution_count": 2,
     "metadata": {},
     "output_type": "execute_result"
    }
   ],
   "source": [
    "\"\"\"\n",
    "Examples\n",
    "\n",
    "secret(\"p.one.two.three\") ➞ \"<p class='one two three'></p>\"\n",
    "\n",
    "secret(\"p.one\") ➞ \"<p class='one'></p>\"\n",
    "\n",
    "secret(\"p.four.five\") ➞ \"<p class='four five'></p>\"\n",
    "\n",
    "\"\"\""
   ]
  },
  {
   "cell_type": "code",
   "execution_count": 13,
   "id": "2c27acb5",
   "metadata": {},
   "outputs": [],
   "source": [
    "def secret(inp):\n",
    "    try:\n",
    "        first_char=inp[0]\n",
    "        rest=inp[2:]\n",
    "        cls=rest.replace(\".\",\" \")\n",
    "        out=\"<\"+first_char+\" class='\"+cls+\"'></\"+first_char+\">\"\n",
    "        \n",
    "        return out\n",
    "        \n",
    "    except Exception as e:\n",
    "        print(\"error occurred\",e)"
   ]
  },
  {
   "cell_type": "code",
   "execution_count": 14,
   "id": "bbfdeae8",
   "metadata": {},
   "outputs": [
    {
     "data": {
      "text/plain": [
       "\"<p class='one two three'></p>\""
      ]
     },
     "execution_count": 14,
     "metadata": {},
     "output_type": "execute_result"
    }
   ],
   "source": [
    "secret(\"p.one.two.three\")"
   ]
  },
  {
   "cell_type": "code",
   "execution_count": 15,
   "id": "cd51fb65",
   "metadata": {},
   "outputs": [
    {
     "data": {
      "text/plain": [
       "\"<p class='one'></p>\""
      ]
     },
     "execution_count": 15,
     "metadata": {},
     "output_type": "execute_result"
    }
   ],
   "source": [
    "secret(\"p.one\")"
   ]
  },
  {
   "cell_type": "markdown",
   "id": "ac384254",
   "metadata": {},
   "source": [
    "### 2. Create a function which counts how many lone 1s appear in a given number. Lone means the number doesn't appear twice or more in a row.\n",
    "\n",
    "Examples\n",
    "\n",
    "count_lone_ones(101) ➞ 2\n",
    "\n",
    "count_lone_ones(1191) ➞ 1\n",
    "\n",
    "count_lone_ones(1111) ➞ 0\n",
    "\n",
    "count_lone_ones(462) ➞ 0\n"
   ]
  },
  {
   "cell_type": "code",
   "execution_count": 80,
   "id": "a4f1ac13",
   "metadata": {},
   "outputs": [],
   "source": [
    "def count_lone_ones(n):\n",
    "    try:\n",
    "        n=\"#\"+str(n)+\"#\"\n",
    "        c=0\n",
    "        for i in range(1,len(n)-1):\n",
    "            if n[i]!=n[i+1] and n[i]!=n[i-1] and int(n[i])==1:\n",
    "                c=c+1        \n",
    "        return c        \n",
    "    except Exception as e:\n",
    "        print(\"error occurred:\",e)"
   ]
  },
  {
   "cell_type": "code",
   "execution_count": 81,
   "id": "10bfbde3",
   "metadata": {},
   "outputs": [
    {
     "data": {
      "text/plain": [
       "2"
      ]
     },
     "execution_count": 81,
     "metadata": {},
     "output_type": "execute_result"
    }
   ],
   "source": [
    "count_lone_ones(101) "
   ]
  },
  {
   "cell_type": "code",
   "execution_count": 82,
   "id": "c41e22c2",
   "metadata": {},
   "outputs": [
    {
     "data": {
      "text/plain": [
       "1"
      ]
     },
     "execution_count": 82,
     "metadata": {},
     "output_type": "execute_result"
    }
   ],
   "source": [
    "count_lone_ones(1191)"
   ]
  },
  {
   "cell_type": "code",
   "execution_count": 83,
   "id": "87cb63e3",
   "metadata": {},
   "outputs": [
    {
     "data": {
      "text/plain": [
       "0"
      ]
     },
     "execution_count": 83,
     "metadata": {},
     "output_type": "execute_result"
    }
   ],
   "source": [
    "count_lone_ones(1111)"
   ]
  },
  {
   "cell_type": "markdown",
   "id": "f2fc7227",
   "metadata": {},
   "source": [
    "### 3. Write a method that accepts two integer parameters rows and cols. The output is a 2d array of numbers displayed in column-major order, meaning the numbers shown increase sequentially down each column and wrap to the top of the next column to the right once the bottom of the current column is reached.\n",
    "\n",
    "Examples\n",
    "\n",
    "printGrid(3, 6) ➞ [\n",
    "  [1, 4, 7, 10, 13, 16],\n",
    "  [2, 5, 8, 11, 14, 17],\n",
    "  [3, 6, 9, 12, 15, 18]\n",
    "]\n",
    "\n",
    "printGrid(5, 3) ➞ [\n",
    "  [1, 6, 11],\n",
    "  [2, 7, 12],\n",
    "  [3, 8, 13],\n",
    "  [4, 9, 14],\n",
    "  [5, 10, 15]\n",
    "]\n",
    "\n",
    "printGrid(4, 1) ➞ [\n",
    "  [1],\n",
    "  [2],\n",
    "  [3],\n",
    "  [4]\n",
    "]"
   ]
  },
  {
   "cell_type": "code",
   "execution_count": 85,
   "id": "9ba0fe13",
   "metadata": {},
   "outputs": [],
   "source": [
    "import numpy as np"
   ]
  },
  {
   "cell_type": "code",
   "execution_count": 95,
   "id": "9f69060f",
   "metadata": {},
   "outputs": [],
   "source": [
    "def printGrid(row,col):\n",
    "    try:\n",
    "        lst=list(range(1,row*col+1))\n",
    "        lst=np.array(lst).reshape((col,row)).T\n",
    "        return lst.tolist()\n",
    "        \n",
    "    except Exception as e:\n",
    "        print(\"error occurred:\",e)"
   ]
  },
  {
   "cell_type": "code",
   "execution_count": 96,
   "id": "7ffbaffd",
   "metadata": {},
   "outputs": [
    {
     "data": {
      "text/plain": [
       "[[1, 4, 7, 10, 13, 16], [2, 5, 8, 11, 14, 17], [3, 6, 9, 12, 15, 18]]"
      ]
     },
     "execution_count": 96,
     "metadata": {},
     "output_type": "execute_result"
    }
   ],
   "source": [
    "printGrid(3, 6)"
   ]
  },
  {
   "cell_type": "code",
   "execution_count": 97,
   "id": "4e0a903b",
   "metadata": {},
   "outputs": [
    {
     "data": {
      "text/plain": [
       "[[1, 6, 11], [2, 7, 12], [3, 8, 13], [4, 9, 14], [5, 10, 15]]"
      ]
     },
     "execution_count": 97,
     "metadata": {},
     "output_type": "execute_result"
    }
   ],
   "source": [
    "printGrid(5, 3)"
   ]
  },
  {
   "cell_type": "code",
   "execution_count": 98,
   "id": "1e4d1bdd",
   "metadata": {},
   "outputs": [
    {
     "data": {
      "text/plain": [
       "[[1], [2], [3], [4]]"
      ]
     },
     "execution_count": 98,
     "metadata": {},
     "output_type": "execute_result"
    }
   ],
   "source": [
    "printGrid(4, 1)"
   ]
  },
  {
   "cell_type": "markdown",
   "id": "237372d6",
   "metadata": {},
   "source": [
    "### 4. Given a list of integers, return the smallest positive integer not present in the list.\n",
    "\n",
    "Here is a representative example. Consider the list:\n",
    "\n",
    "[-2, 6, 4, 5, 7, -1, 7, 1, 3, 6, 6, -2, 9, 10, 2, 2]\n",
    "\n",
    "After reordering, the list becomes:\n",
    "\n",
    "[-2, -2, -1, 1, 2, 2, 3, 4, 5, 6, 6, 6, 7, 7, 9, 10]\n",
    "\n",
    "from which we see that the smallest missing positive integer is 8.\n",
    "\n",
    "Examples\n",
    "\n",
    "min_miss_pos([-2, 6, 4, 5, 7, -1, 1, 3, 6, -2, 9, 10, 2, 2]) ➞ 8\n",
    "#### After sorting, list becomes [-2, -2, -1, 1, 2, 2, 3, 4, 5, 6, 6, 7, 9, 10]\n",
    "#### So the smallest missing positive integer is 8\n",
    "\n",
    "min_miss_pos([5, 9, -2, 0, 1, 3, 9, 3, 8, 9]) ➞ 2\n",
    "#### After sorting, list becomes [-2, 0, 1, 3, 3, 5, 8, 9, 9, 9]\n",
    "#### So the smallest missing positive integer is 2\n",
    "\n",
    "min_miss_pos([0, 4, 4, -1, 9, 4, 5, 2, 10, 7, 6, 3, 10, 9]) ➞ 1\n",
    "#### After sorting, list becomes [-1, 0, 2, 3, 4, 4, 4, 5, 6, 7, 9, 9, 10, 10]\n",
    "#### So the smallest missing positive integer is 1\n"
   ]
  },
  {
   "cell_type": "code",
   "execution_count": 123,
   "id": "f7e6976f",
   "metadata": {},
   "outputs": [],
   "source": [
    "def min_miss_pos(lst):\n",
    "    try:\n",
    "        lst=sorted(list(set(lst)))\n",
    "        lst=[i for i in lst if i>0]\n",
    "        for i in range(max(lst)):\n",
    "            if lst[i]!=i+1:\n",
    "                ans=i+1\n",
    "                break\n",
    "        return ans\n",
    "    except Exception as e:\n",
    "        print(\"error occurred:\",e)"
   ]
  },
  {
   "cell_type": "code",
   "execution_count": 124,
   "id": "b0e00c89",
   "metadata": {},
   "outputs": [
    {
     "data": {
      "text/plain": [
       "2"
      ]
     },
     "execution_count": 124,
     "metadata": {},
     "output_type": "execute_result"
    }
   ],
   "source": [
    "min_miss_pos([5, 9, -2, 0, 1, 3, 9, 3, 8, 9])"
   ]
  },
  {
   "cell_type": "code",
   "execution_count": 125,
   "id": "2b6d92aa",
   "metadata": {},
   "outputs": [
    {
     "data": {
      "text/plain": [
       "1"
      ]
     },
     "execution_count": 125,
     "metadata": {},
     "output_type": "execute_result"
    }
   ],
   "source": [
    "min_miss_pos([0, 4, 4, -1, 9, 4, 5, 2, 10, 7, 6, 3, 10, 9])"
   ]
  },
  {
   "cell_type": "code",
   "execution_count": 126,
   "id": "035612e8",
   "metadata": {},
   "outputs": [
    {
     "data": {
      "text/plain": [
       "8"
      ]
     },
     "execution_count": 126,
     "metadata": {},
     "output_type": "execute_result"
    }
   ],
   "source": [
    "min_miss_pos([-2, 6, 4, 5, 7, -1, 1, 3, 6, -2, 9, 10, 2, 2])"
   ]
  },
  {
   "cell_type": "markdown",
   "id": "65712ad6",
   "metadata": {},
   "source": [
    "### 5. Google is launching a network of autonomous pizza delivery drones and wants you to create a flexible rewards system (Pizza Points™) that can be tweaked in the future. The rules are simple: if a customer has made at least N orders of at least Y price, they get a FREE pizza!\n",
    "\n",
    "Create a function that takes a dictionary of customers, a minimum number of orders and a minimum order price. Return a list of customers that are eligible for a free pizza.\n",
    "\n",
    "Examples\n",
    "\n",
    "customers = {\n",
    "  \"Batman\": [22, 30, 11, 17, 15, 52, 27, 12],\n",
    "  \"Spider-Man\": [5, 17, 30, 33, 40, 22, 26, 10, 11, 45]\n",
    "}\n",
    "\n",
    "  pizza_points(customers, 5, 20) ➞ [\"Spider-Man\"]\n",
    "\n",
    "  pizza_points(customers, 3, 10) ➞ [\"Batman\", \"Spider-Man\"]\n",
    "\n",
    "  pizza_points(customers, 5, 100) ➞ []\n"
   ]
  },
  {
   "cell_type": "code",
   "execution_count": 135,
   "id": "4e724527",
   "metadata": {},
   "outputs": [],
   "source": [
    "def pizza_points(customers,N,Y):\n",
    "    try:\n",
    "        ans=[]\n",
    "        for cus,pur in customers.items():\n",
    "            num=len([i for i in pur if i>=Y])\n",
    "            if num>=N:\n",
    "                ans.append(cus)            \n",
    "        return ans\n",
    "    except Exception as e:\n",
    "        print(\"error occurred:\",e)"
   ]
  },
  {
   "cell_type": "code",
   "execution_count": 127,
   "id": "936cda0d",
   "metadata": {},
   "outputs": [],
   "source": [
    "customers = { \"Batman\": [22, 30, 11, 17, 15, 52, 27, 12], \"Spider-Man\": [5, 17, 30, 33, 40, 22, 26, 10, 11, 45] }"
   ]
  },
  {
   "cell_type": "code",
   "execution_count": 136,
   "id": "62363bf2",
   "metadata": {},
   "outputs": [
    {
     "data": {
      "text/plain": [
       "['Spider-Man']"
      ]
     },
     "execution_count": 136,
     "metadata": {},
     "output_type": "execute_result"
    }
   ],
   "source": [
    "pizza_points(customers, 5, 20)"
   ]
  },
  {
   "cell_type": "code",
   "execution_count": 137,
   "id": "1ec77654",
   "metadata": {},
   "outputs": [
    {
     "data": {
      "text/plain": [
       "['Batman', 'Spider-Man']"
      ]
     },
     "execution_count": 137,
     "metadata": {},
     "output_type": "execute_result"
    }
   ],
   "source": [
    "pizza_points(customers, 3, 10)"
   ]
  },
  {
   "cell_type": "code",
   "execution_count": 138,
   "id": "ce451e1c",
   "metadata": {},
   "outputs": [
    {
     "data": {
      "text/plain": [
       "[]"
      ]
     },
     "execution_count": 138,
     "metadata": {},
     "output_type": "execute_result"
    }
   ],
   "source": [
    "pizza_points(customers, 5, 100) "
   ]
  }
 ],
 "metadata": {
  "kernelspec": {
   "display_name": "Python 3",
   "language": "python",
   "name": "python3"
  },
  "language_info": {
   "codemirror_mode": {
    "name": "ipython",
    "version": 3
   },
   "file_extension": ".py",
   "mimetype": "text/x-python",
   "name": "python",
   "nbconvert_exporter": "python",
   "pygments_lexer": "ipython3",
   "version": "3.8.11"
  }
 },
 "nbformat": 4,
 "nbformat_minor": 5
}
