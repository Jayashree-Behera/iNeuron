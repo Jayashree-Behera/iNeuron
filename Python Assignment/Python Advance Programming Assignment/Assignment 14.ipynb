{
 "cells": [
  {
   "cell_type": "markdown",
   "id": "cf98de24",
   "metadata": {},
   "source": [
    "### 1. Given a list of numbers, create a function that removes 25% from every number in the list except the smallest number, and adds the total amount removed to the smallest number.\n",
    "\n",
    "Examples\n",
    "\n",
    "show_the_love([4, 1, 4]) ➞ [3, 3, 3]\n",
    "\n",
    "show_the_love([16, 10, 8]) ➞ [12, 7.5, 14.5]\n",
    "\n",
    "show_the_love([2, 100]) ➞ [27, 75]\n"
   ]
  },
  {
   "cell_type": "code",
   "execution_count": 9,
   "id": "4a1df5a5",
   "metadata": {},
   "outputs": [],
   "source": [
    "def show_the_love(lst):\n",
    "    try:\n",
    "        small=lst.index(min(lst))\n",
    "        frac=0\n",
    "        for i in range(len(lst)):\n",
    "            if lst[i] !=small:\n",
    "                frac=frac+0.25*lst[i]\n",
    "                lst[i]=lst[i]-0.25*lst[i]\n",
    "        \n",
    "        lst[small]=lst[small]+frac\n",
    "        print(lst)\n",
    "                \n",
    "    except Exception as  e:\n",
    "        print(\"error occurred \",e)\n",
    "    "
   ]
  },
  {
   "cell_type": "code",
   "execution_count": 12,
   "id": "ea949019",
   "metadata": {},
   "outputs": [
    {
     "name": "stdout",
     "output_type": "stream",
     "text": [
      "[12.0, 7.5, 14.5]\n"
     ]
    }
   ],
   "source": [
    "show_the_love([16, 10, 8]) "
   ]
  },
  {
   "cell_type": "code",
   "execution_count": 11,
   "id": "737322f9",
   "metadata": {},
   "outputs": [
    {
     "name": "stdout",
     "output_type": "stream",
     "text": [
      "[27.0, 75.0]\n"
     ]
    }
   ],
   "source": [
    "show_the_love([2, 100])"
   ]
  },
  {
   "cell_type": "markdown",
   "id": "76236785",
   "metadata": {},
   "source": [
    "### 2. Create a function that takes in two words as input and returns a list of three elements, in the following order:\n",
    "\n",
    "   1.Shared letters between two words.\n",
    "   \n",
    "   2.Letters unique to word 1.\n",
    "   \n",
    "   3.Letters unique to word 2.\n",
    "\n",
    "Each element should have unique letters, and have each letter be alphabetically sorted.\n",
    "\n",
    "Examples\n",
    "\n",
    "letters(\"sharp\", \"soap\") ➞ [\"aps\", \"hr\", \"o\"]\n",
    "\n",
    "letters(\"board\", \"bored\") ➞ [\"bdor\", \"a\", \"e\"]\n",
    "\n",
    "letters(\"happiness\", \"envelope\") ➞ [\"enp\", \"ahis\", \"lov\"]\n",
    "\n",
    "letters(\"kerfuffle\", \"fluffy\") ➞ [\"flu\", \"ekr\", \"y\"]\n",
    "#### Even with multiple matching letters (e.g. 3 f's), there should only exist a single \"f\" in your first element.\n",
    "\n",
    "letters(\"match\", \"ham\") ➞ [\"ahm\", \"ct\", \"\"]\n",
    "#### \"ham\" does not contain any letters that are not found already in \"match\".\n"
   ]
  },
  {
   "cell_type": "code",
   "execution_count": 50,
   "id": "58d02c46",
   "metadata": {},
   "outputs": [],
   "source": [
    "def letters(word1,word2):\n",
    "    try:\n",
    "        share=''.join(sorted(set(word1) & set(word2)))\n",
    "        un_word1=''.join(sorted(set(word1.translate(str.maketrans('','', share)))))\n",
    "        un_word2=''.join(sorted(set(word2.translate(str.maketrans('','', share)))))\n",
    "        print([share,un_word1,un_word2])\n",
    "        \n",
    "                \n",
    "    except Exception as  e:\n",
    "        print(\"error occurred \",e)"
   ]
  },
  {
   "cell_type": "code",
   "execution_count": 51,
   "id": "60c511e2",
   "metadata": {},
   "outputs": [
    {
     "name": "stdout",
     "output_type": "stream",
     "text": [
      "['ahm', 'ct', '']\n"
     ]
    }
   ],
   "source": [
    "letters(\"match\", \"ham\")"
   ]
  },
  {
   "cell_type": "code",
   "execution_count": 52,
   "id": "15ccee4e",
   "metadata": {},
   "outputs": [
    {
     "name": "stdout",
     "output_type": "stream",
     "text": [
      "['enp', 'ahis', 'lov']\n"
     ]
    }
   ],
   "source": [
    "letters(\"happiness\", \"envelope\")"
   ]
  },
  {
   "cell_type": "code",
   "execution_count": 53,
   "id": "71ef1d27",
   "metadata": {},
   "outputs": [
    {
     "name": "stdout",
     "output_type": "stream",
     "text": [
      "['bdor', 'a', 'e']\n"
     ]
    }
   ],
   "source": [
    "letters(\"board\", \"bored\")"
   ]
  },
  {
   "cell_type": "markdown",
   "id": "b0f4ceb5",
   "metadata": {},
   "source": [
    "### 3. Write a function that pairs the first number in an array with the last, the second number with the second to last, etc.\n",
    "\n",
    "Examples\n",
    "\n",
    "pairs([1, 2, 3, 4, 5, 6, 7]) ➞ [[1, 7], [2, 6], [3, 5], [4, 4]]\n",
    "\n",
    "pairs([1, 2, 3, 4, 5, 6]) ➞ [[1, 6], [2, 5], [3, 4]]\n",
    "\n",
    "pairs([5, 9, 8, 1, 2]) ➞ [[5, 2], [9, 1], [8, 8]]\n",
    "\n",
    "pairs([]) ➞ []\n"
   ]
  },
  {
   "cell_type": "code",
   "execution_count": 61,
   "id": "63bf724f",
   "metadata": {},
   "outputs": [],
   "source": [
    "def pairs(lst):\n",
    "    try:\n",
    "        ans=[]\n",
    "        lim= int(len(lst)/2)+1 if len(lst) % 2 !=0 else int(len(lst)/2)\n",
    "        for i in range(lim):\n",
    "            pair=[lst[i],lst[-(i+1)]]\n",
    "            ans.append(pair)\n",
    "        print(ans)\n",
    "        \n",
    "                \n",
    "    except Exception as  e:\n",
    "        print(\"error occurred \",e)"
   ]
  },
  {
   "cell_type": "code",
   "execution_count": 62,
   "id": "5628f74c",
   "metadata": {},
   "outputs": [
    {
     "name": "stdout",
     "output_type": "stream",
     "text": [
      "[[1, 7], [2, 6], [3, 5], [4, 4]]\n"
     ]
    }
   ],
   "source": [
    "pairs([1, 2, 3, 4, 5, 6, 7])"
   ]
  },
  {
   "cell_type": "code",
   "execution_count": 63,
   "id": "bb2d3ef4",
   "metadata": {},
   "outputs": [
    {
     "name": "stdout",
     "output_type": "stream",
     "text": [
      "[[1, 6], [2, 5], [3, 4]]\n"
     ]
    }
   ],
   "source": [
    "pairs([1, 2, 3, 4, 5, 6])"
   ]
  },
  {
   "cell_type": "code",
   "execution_count": 64,
   "id": "9aa379e1",
   "metadata": {},
   "outputs": [
    {
     "name": "stdout",
     "output_type": "stream",
     "text": [
      "[]\n"
     ]
    }
   ],
   "source": [
    "pairs([])"
   ]
  },
  {
   "cell_type": "markdown",
   "id": "711daf7f",
   "metadata": {},
   "source": [
    "### 4. Write a function that adds two numbers. The catch, however, is that the numbers will be strings.\n",
    "\n",
    "Examples\n",
    "\n",
    "add_str_nums(\"4\", \"5\") ➞ \"9\"\n",
    "\n",
    "add_str_nums(\"abcdefg\", \"3\") ➞ \"-1\"\n",
    "\n",
    "add_str_nums(\"1\", \"\") ➞ \"1\"\n",
    "\n",
    "add_str_nums(\"1874682736267235927359283579235789257\", \"32652983572985729\") ➞ \"1874682736267235927391936562808774986\"\n"
   ]
  },
  {
   "cell_type": "code",
   "execution_count": 91,
   "id": "c13f88f9",
   "metadata": {},
   "outputs": [],
   "source": [
    "def add_str_nums(num1,num2):\n",
    "    try:\n",
    "        if bool(num1) & bool(num2):\n",
    "            if num1.isnumeric() & num2.isnumeric():\n",
    "                ans=str(int(num1)+int(num2))\n",
    "            else:\n",
    "                ans=\"-1\"\n",
    "        else:\n",
    "            ans=num1+num2\n",
    "            \n",
    "        return ans\n",
    "        \n",
    "    except Exception as  e:\n",
    "        print(\"error occurred \",e)"
   ]
  },
  {
   "cell_type": "code",
   "execution_count": 92,
   "id": "c942301c",
   "metadata": {},
   "outputs": [
    {
     "data": {
      "text/plain": [
       "'9'"
      ]
     },
     "execution_count": 92,
     "metadata": {},
     "output_type": "execute_result"
    }
   ],
   "source": [
    "add_str_nums(\"4\", \"5\")"
   ]
  },
  {
   "cell_type": "code",
   "execution_count": 93,
   "id": "b3034508",
   "metadata": {},
   "outputs": [
    {
     "data": {
      "text/plain": [
       "'-1'"
      ]
     },
     "execution_count": 93,
     "metadata": {},
     "output_type": "execute_result"
    }
   ],
   "source": [
    "add_str_nums(\"abcdefg\", \"3\") "
   ]
  },
  {
   "cell_type": "code",
   "execution_count": 94,
   "id": "ce79049d",
   "metadata": {},
   "outputs": [
    {
     "data": {
      "text/plain": [
       "'1'"
      ]
     },
     "execution_count": 94,
     "metadata": {},
     "output_type": "execute_result"
    }
   ],
   "source": [
    "add_str_nums(\"1\", \"\") "
   ]
  },
  {
   "cell_type": "code",
   "execution_count": 95,
   "id": "ea83e4e0",
   "metadata": {},
   "outputs": [
    {
     "data": {
      "text/plain": [
       "'1874682736267235927391936562808774986'"
      ]
     },
     "execution_count": 95,
     "metadata": {},
     "output_type": "execute_result"
    }
   ],
   "source": [
    "add_str_nums(\"1874682736267235927359283579235789257\", \"32652983572985729\") "
   ]
  },
  {
   "cell_type": "markdown",
   "id": "a12fc216",
   "metadata": {},
   "source": [
    "### 5. lPaeesh le pemu mnxit ehess rtnisg! Oh, sorry, that was supposed to say: Please help me unmix these strings!\n",
    "\n",
    "Somehow my strings have all become mixed up; every pair of characters has been swapped. Help me undo this so I can understand my strings again.\n",
    "\n",
    "Examples\n",
    "\n",
    "unmix(\"123456\") ➞ \"214365\"\n",
    "\n",
    "unmix(\"hTsii  s aimex dpus rtni.g\") ➞ \"This is a mixed up string.\"\n",
    "\n",
    "unmix(\"badce\") ➞ \"abcde\"\n"
   ]
  },
  {
   "cell_type": "code",
   "execution_count": 175,
   "id": "b5476653",
   "metadata": {},
   "outputs": [],
   "source": [
    "def unmix(word):\n",
    "    try:\n",
    "        word=list(word)\n",
    "        for i in range(0,len(word)-1,2):\n",
    "            copy=word[i]\n",
    "            word[i]=word[i+1]\n",
    "            word[i+1]=copy            \n",
    "        return ''.join(word)\n",
    "        \n",
    "    except Exception as  e:\n",
    "        print(\"error occurred \",e)"
   ]
  },
  {
   "cell_type": "code",
   "execution_count": 176,
   "id": "cc28e0a8",
   "metadata": {},
   "outputs": [
    {
     "data": {
      "text/plain": [
       "'This is a mixed up string.'"
      ]
     },
     "execution_count": 176,
     "metadata": {},
     "output_type": "execute_result"
    }
   ],
   "source": [
    "unmix(\"hTsii  s aimex dpus rtni.g\")"
   ]
  },
  {
   "cell_type": "code",
   "execution_count": 177,
   "id": "4765b722",
   "metadata": {},
   "outputs": [
    {
     "data": {
      "text/plain": [
       "'214365'"
      ]
     },
     "execution_count": 177,
     "metadata": {},
     "output_type": "execute_result"
    }
   ],
   "source": [
    "unmix(\"123456\")"
   ]
  },
  {
   "cell_type": "code",
   "execution_count": 178,
   "id": "9e128cd6",
   "metadata": {},
   "outputs": [
    {
     "data": {
      "text/plain": [
       "'abcde'"
      ]
     },
     "execution_count": 178,
     "metadata": {},
     "output_type": "execute_result"
    }
   ],
   "source": [
    "unmix(\"badce\")"
   ]
  }
 ],
 "metadata": {
  "kernelspec": {
   "display_name": "Python 3",
   "language": "python",
   "name": "python3"
  },
  "language_info": {
   "codemirror_mode": {
    "name": "ipython",
    "version": 3
   },
   "file_extension": ".py",
   "mimetype": "text/x-python",
   "name": "python",
   "nbconvert_exporter": "python",
   "pygments_lexer": "ipython3",
   "version": "3.8.11"
  }
 },
 "nbformat": 4,
 "nbformat_minor": 5
}
