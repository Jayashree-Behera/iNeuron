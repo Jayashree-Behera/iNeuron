{
 "cells": [
  {
   "cell_type": "markdown",
   "id": "6c2dcc5e",
   "metadata": {},
   "source": [
    "### 1. Create a class Sudoku that takes a string as an argument. The string will contain the numbers of a regular 9x9 sudoku board left to right and top to bottom, with zeros filling up the empty cells.\n",
    "\n",
    "Attributes\n",
    "\n",
    "An instance of the class Sudoku will have one attribute:\n",
    "\n",
    "   - board: a list representing the board, with sublits for each row, with the numbers as integers. Empty cell represented with 0.\n",
    "\n",
    "Methods\n",
    "\n",
    "An instance of the class Sudoku wil have three methods:\n",
    "\n",
    "   - get_row(n): will return the row in position n.\n",
    "   - get_col(n): will return the column in position n.\n",
    "   - get_sqr([n, m]): will return the square in position n if only one argument is given, and the square to which the cell in position (n, m) belongs to if two arguments are given.\n",
    "\n",
    "Example\n",
    "\n",
    "\n",
    "\n",
    "game = Sudoku(\"417950030000000700060007000050009106800600000000003400900005000000430000200701580\")\n",
    "\n",
    "\n",
    "game.board ➞ [\n",
    "  [4, 1, 7, 9, 5, 0, 0, 3, 0],\n",
    "  [0, 0, 0, 0, 0, 0, 7, 0, 0],\n",
    "  [0, 6, 0, 0, 0, 7, 0, 0, 0],\n",
    "  [0, 5, 0, 0, 0, 9, 1, 0, 6],\n",
    "  [8, 0, 0, 6, 0, 0, 0, 0, 0],\n",
    "  [0, 0, 0, 0, 0, 3, 4, 0, 0],\n",
    "  [9, 0, 0, 0, 0, 5, 0, 0, 0],\n",
    "  [0, 0, 0, 4, 3, 0, 0, 0, 0],\n",
    "  [2, 0, 0, 7, 0, 1, 5, 8, 0]\n",
    "]\n",
    "\n",
    "game.get_row(0) ➞ [4, 1, 7, 9, 5, 0, 0, 3, 0]\n",
    "\n",
    "game.get_col(8) ➞ [0, 0, 0, 6, 0, 0, 0, 0, 0]\n",
    "\n",
    "game.get_sqr(1) ➞ [9, 5, 0, 0, 0, 0, 0, 0, 7]\n",
    "\n",
    "game.get_sqr(1, 8) ➞ [0, 3, 0, 7, 0, 0, 0, 0, 0]\n",
    "\n",
    "game.get_sqr(8, 3) ➞ [0, 0, 5, 4, 3, 0, 7, 0, 1]\n"
   ]
  },
  {
   "cell_type": "code",
   "execution_count": 11,
   "id": "571ce401",
   "metadata": {},
   "outputs": [],
   "source": [
    "import numpy as np\n",
    "class Sudoku:\n",
    "    def __init__(self,string):\n",
    "        self.board=np.array([int(x) for x in list(string)]).reshape(9,9).tolist()\n",
    "        \n",
    "    def get_row(self,n):\n",
    "        return self.board[n][:]\n",
    "    \n",
    "    def get_col(self,n):\n",
    "        return np.array(self.board).T[:][n].tolist()\n",
    "    \n",
    "    def get_sqr(self,*args):\n",
    "        ans=[]\n",
    "        if len(args)==1:\n",
    "            row=int(args[0]/3)*3\n",
    "            col=(args[0] % 3)*3\n",
    "        else:\n",
    "            row=int(args[0]/3)*3\n",
    "            col=int(args[1]/3)*3\n",
    "        for i in range(row,row+3):\n",
    "            for j in range(col,col+3):\n",
    "                ans.append(self.board[i][j])\n",
    "                    \n",
    "        return ans"
   ]
  },
  {
   "cell_type": "code",
   "execution_count": 12,
   "id": "8a1d1353",
   "metadata": {},
   "outputs": [],
   "source": [
    "game = Sudoku(\"417950030000000700060007000050009106800600000000003400900005000000430000200701580\")"
   ]
  },
  {
   "cell_type": "code",
   "execution_count": 13,
   "id": "faff3169",
   "metadata": {},
   "outputs": [
    {
     "data": {
      "text/plain": [
       "[[4, 1, 7, 9, 5, 0, 0, 3, 0],\n",
       " [0, 0, 0, 0, 0, 0, 7, 0, 0],\n",
       " [0, 6, 0, 0, 0, 7, 0, 0, 0],\n",
       " [0, 5, 0, 0, 0, 9, 1, 0, 6],\n",
       " [8, 0, 0, 6, 0, 0, 0, 0, 0],\n",
       " [0, 0, 0, 0, 0, 3, 4, 0, 0],\n",
       " [9, 0, 0, 0, 0, 5, 0, 0, 0],\n",
       " [0, 0, 0, 4, 3, 0, 0, 0, 0],\n",
       " [2, 0, 0, 7, 0, 1, 5, 8, 0]]"
      ]
     },
     "execution_count": 13,
     "metadata": {},
     "output_type": "execute_result"
    }
   ],
   "source": [
    "game.board"
   ]
  },
  {
   "cell_type": "code",
   "execution_count": 14,
   "id": "958c3543",
   "metadata": {},
   "outputs": [
    {
     "data": {
      "text/plain": [
       "[4, 1, 7, 9, 5, 0, 0, 3, 0]"
      ]
     },
     "execution_count": 14,
     "metadata": {},
     "output_type": "execute_result"
    }
   ],
   "source": [
    "game.get_row(0)"
   ]
  },
  {
   "cell_type": "code",
   "execution_count": 15,
   "id": "88d726ea",
   "metadata": {},
   "outputs": [
    {
     "data": {
      "text/plain": [
       "[0, 0, 0, 6, 0, 0, 0, 0, 0]"
      ]
     },
     "execution_count": 15,
     "metadata": {},
     "output_type": "execute_result"
    }
   ],
   "source": [
    "game.get_col(8)"
   ]
  },
  {
   "cell_type": "code",
   "execution_count": 16,
   "id": "eb000151",
   "metadata": {},
   "outputs": [
    {
     "data": {
      "text/plain": [
       "[9, 5, 0, 0, 0, 0, 0, 0, 7]"
      ]
     },
     "execution_count": 16,
     "metadata": {},
     "output_type": "execute_result"
    }
   ],
   "source": [
    "game.get_sqr(1) "
   ]
  },
  {
   "cell_type": "code",
   "execution_count": 17,
   "id": "e84bb1c7",
   "metadata": {},
   "outputs": [
    {
     "data": {
      "text/plain": [
       "[0, 3, 0, 7, 0, 0, 0, 0, 0]"
      ]
     },
     "execution_count": 17,
     "metadata": {},
     "output_type": "execute_result"
    }
   ],
   "source": [
    "game.get_sqr(1, 8)"
   ]
  },
  {
   "cell_type": "code",
   "execution_count": 18,
   "id": "3e6a0c29",
   "metadata": {},
   "outputs": [
    {
     "data": {
      "text/plain": [
       "[0, 0, 5, 4, 3, 0, 7, 0, 1]"
      ]
     },
     "execution_count": 18,
     "metadata": {},
     "output_type": "execute_result"
    }
   ],
   "source": [
    "game.get_sqr(8, 3)"
   ]
  },
  {
   "cell_type": "markdown",
   "id": "cb89657d",
   "metadata": {},
   "source": [
    "### 2. The function input is two non-empty linked lists representing two non-negative integers. The digits are stored in reverse order, and each of their nodes contains a single digit. Add the two numbers and return the sum as a linked list, in which the digits are also stored in reversed order. The class ListNode, building block of the linked list, is defined in the Tests tab.\n",
    "\n",
    "Class definition\n",
    "\n",
    "class ListNode:\n",
    "\n",
    "    def __init__(self, val=0, next=None):\n",
    "    \n",
    "        self.val = val\n",
    "        \n",
    "        self.next = next\n",
    "        \n",
    "\n",
    "Examples\n",
    "\n",
    "lt1 = ListNode(2)\n",
    "\n",
    "lt1.add_data([4, 3])\n",
    "\n",
    "lt2 = ListNode(5)\n",
    "\n",
    "lt2.add_data([6, 4])\n",
    "\n",
    "#### print(lt1.get_data())    # [2, 4, 3]\n",
    "#### print(lt2.get_data())    # [5, 6, 4]\n",
    "#### print(342 + 465)         # 807\n",
    "add_two_numbers(lt1, lt2).get_data() ➞ [7, 0, 8]\n",
    "\n",
    "lt1 = ListNode(0)\n",
    "lt2 = ListNode(0)\n",
    "#### print(lt1.get_data())    # [0]\n",
    "#### print(lt2.get_data())    # [0]\n",
    "#### print(0 + 0)             # 0\n",
    "add_two_numbers(lt1, lt2).get_data() ➞ [0]\n",
    "\n",
    "lt1 = ListNode(9)\n",
    "lt1.add_data([9,9,9,9,9,9])\n",
    "lt2 = ListNode(9)\n",
    "lt2.add_data([9,9,9])\n",
    "#### print(lt1.get_data())    # [9, 9, 9, 9, 9, 9, 9]\n",
    "#### print(lt2.get_data())    # [9, 9, 9, 9]\n",
    "#### print(9999999 + 9999)    # 10009998\n",
    "add_two_numbers(lt1, lt2).get_data() ➞ [8, 9, 9, 9, 0, 0, 0, 1]\n"
   ]
  },
  {
   "cell_type": "code",
   "execution_count": 15,
   "id": "0f514658",
   "metadata": {},
   "outputs": [],
   "source": [
    "\n",
    "\n"
   ]
  },
  {
   "cell_type": "markdown",
   "id": "5b18e1cd",
   "metadata": {},
   "source": [
    "### 3. Write a class called CoffeeShop, which has three instance variables:\n",
    "\n",
    "   1. name : a string (basically, of the shop)\n",
    "   2. menu : a list of items (of dict type), with each item containing the item (name of the item), type (whether a food or a drink) and price.\n",
    "   3. orders : an empty list\n",
    "\n",
    "and seven methods:\n",
    "\n",
    "  1. add_order: adds the name of the item to the end of the orders list if it exists on the menu, otherwise, return \"This item is currently unavailable!\"\n",
    "  2. fulfill_order: if the orders list is not empty, return \"The {item} is ready!\". If the orders list is empty, return \"All orders have been fulfilled!\"\n",
    "  3. list_orders: returns the item names of the orders taken, otherwise, an empty list.\n",
    "  4. due_amount: returns the total amount due for the orders taken.\n",
    "  5. cheapest_item: returns the name of the cheapest item on the menu.\n",
    "  6. drinks_only: returns only the item names of type drink from the menu.\n",
    "  7. food_only: returns only the item names of type food from the menu.\n",
    "\n",
    "IMPORTANT: Orders are fulfilled in a FIFO (first-in, first-out) order.\n",
    "\n",
    "Examples\n",
    "\n",
    "tcs.add_order(\"hot cocoa\") ➞ \"This item is currently unavailable!\"\n",
    "#### Tesha's coffee shop does not sell hot cocoa\n",
    "tcs.add_order(\"iced tea\") ➞ \"This item is currently unavailable!\"\n",
    "#### specifying the variant of \"iced tea\" will help the process\n",
    "\n",
    "tcs.add_order(\"cinnamon roll\") ➞  \"Order added!\"\n",
    "\n",
    "tcs.add_order(\"iced coffee\") ➞ \"Order added!\"\n",
    "\n",
    "tcs.list_orders ➞ [\"cinnamon roll\", \"iced coffee\"]\n",
    "#### all items of the current order\n",
    "\n",
    "tcs.due_amount() ➞ 2.17\n",
    "\n",
    "tcs.fulfill_order() ➞ \"The cinnamon roll is ready!\"\n",
    "\n",
    "tcs.fulfill_order() ➞ \"The iced coffee is ready!\"\n",
    "\n",
    "tcs.fulfill_order() ➞ \"All orders have been fulfilled!\"\n",
    "#### all orders have been presumably served\n",
    "\n",
    "tcs.list_orders() ➞ []\n",
    "#### an empty list is returned if all orders have been exhausted\n",
    "\n",
    "tcs.due_amount() ➞ 0.0\n",
    "#### no new orders taken, expect a zero payable\n",
    "\n",
    "tcs.cheapest_item() ➞ \"lemonade\"\n",
    "\n",
    "tcs.drinks_only() ➞ [\"orange juice\", \"lemonade\", \"cranberry juice\", \"pineapple juice\", \"lemon iced tea\", \"vanilla chai latte\", \"hot chocolate\", \"iced coffee\"]\n",
    "\n",
    "tcs.food_only() ➞ [\"tuna sandwich\", \"ham and cheese sandwich\", \"bacon and egg\", \"steak\", \"hamburger\", \"cinnamon roll\"]\n"
   ]
  },
  {
   "cell_type": "code",
   "execution_count": 165,
   "id": "5495e7e4",
   "metadata": {},
   "outputs": [],
   "source": [
    "class CoffeeShop():\n",
    "    def __init__(self,name,menu):\n",
    "        self.name=name\n",
    "        self.menu=menu\n",
    "        self.orders=[]\n",
    "        \n",
    "    def add_order(self,item):\n",
    "        if  item in self.menu.keys():\n",
    "            print(\"Order added!\")\n",
    "            self.orders.append(item)\n",
    "        else:\n",
    "            print( \"This item is currently unavailable!\")\n",
    "                \n",
    "    def fulfill_order(self):\n",
    "        if len(self.orders)!=0:\n",
    "            print(\"The\",self.orders[0],\"is ready!\")\n",
    "            self.orders.pop(0)\n",
    "        else:\n",
    "            print( \"All orders have been fulfilled!\")\n",
    "            \n",
    "    def list_orders(self):\n",
    "        return self.orders\n",
    "    \n",
    "    def due_amount(self):\n",
    "        due=0.0\n",
    "        for i in self.menu.keys():\n",
    "            for j in self.orders:\n",
    "                if j == i:\n",
    "                    due+=self.menu[i][-1]\n",
    "        return due\n",
    "    \n",
    "    def cheapest_item(self):\n",
    "        prices=[i[-1] for i in self.menu.values()]\n",
    "        least=prices.index(min(prices))\n",
    "        return list(self.menu.keys())[least]\n",
    "    \n",
    "    def drinks_only(self):\n",
    "        drinks=[]\n",
    "        for key,val in self.menu.items():\n",
    "            if val[0]==\"drink\":\n",
    "                drinks.append(key)\n",
    "        return drinks\n",
    "    \n",
    "    def food_only(self):\n",
    "        for key,val in self.menu.items():\n",
    "            food=[key for key,val in self.menu.items() if val[0]==\"food\"]\n",
    "        return food"
   ]
  },
  {
   "cell_type": "code",
   "execution_count": 166,
   "id": "8a56b2de",
   "metadata": {},
   "outputs": [],
   "source": [
    "name=\"Starbucks\"\n",
    "menu={\"iced coffee\":[\"drink\",4.5],\"banana bread\":[\"food\",4.7],\"tea\":[\"drink\",3.4],\"cinnamon roll\":[\"food\",2.99],\"lemonade\":[\"drink\",1.99],\"tuna sandwich\":[\"food\",3.89],\"bacon and egg\":[\"food\",3.59]}"
   ]
  },
  {
   "cell_type": "code",
   "execution_count": 167,
   "id": "40458513",
   "metadata": {},
   "outputs": [],
   "source": [
    "tcs=CoffeeShop(name,menu)"
   ]
  },
  {
   "cell_type": "code",
   "execution_count": 168,
   "id": "595bc603",
   "metadata": {},
   "outputs": [
    {
     "name": "stdout",
     "output_type": "stream",
     "text": [
      "Starbucks\n",
      "{'iced coffee': ['drink', 4.5], 'banana bread': ['food', 4.7], 'tea': ['drink', 3.4], 'cinnamon roll': ['food', 2.99], 'lemonade': ['drink', 1.99], 'tuna sandwich': ['food', 3.89], 'bacon and egg': ['food', 3.59]}\n"
     ]
    }
   ],
   "source": [
    "print(tcs.name)\n",
    "print(tcs.menu)"
   ]
  },
  {
   "cell_type": "code",
   "execution_count": 169,
   "id": "2021b14c",
   "metadata": {},
   "outputs": [
    {
     "name": "stdout",
     "output_type": "stream",
     "text": [
      "This item is currently unavailable!\n"
     ]
    }
   ],
   "source": [
    "tcs.add_order(\"hot cocoa\")"
   ]
  },
  {
   "cell_type": "code",
   "execution_count": 170,
   "id": "2dd2b39a",
   "metadata": {},
   "outputs": [
    {
     "name": "stdout",
     "output_type": "stream",
     "text": [
      "Order added!\n",
      "Order added!\n"
     ]
    }
   ],
   "source": [
    "tcs.add_order(\"cinnamon roll\")\n",
    "tcs.add_order(\"iced coffee\") "
   ]
  },
  {
   "cell_type": "code",
   "execution_count": 171,
   "id": "1d748056",
   "metadata": {},
   "outputs": [
    {
     "data": {
      "text/plain": [
       "['cinnamon roll', 'iced coffee']"
      ]
     },
     "execution_count": 171,
     "metadata": {},
     "output_type": "execute_result"
    }
   ],
   "source": [
    "tcs.list_orders()"
   ]
  },
  {
   "cell_type": "code",
   "execution_count": 172,
   "id": "2e45ca76",
   "metadata": {},
   "outputs": [
    {
     "data": {
      "text/plain": [
       "7.49"
      ]
     },
     "execution_count": 172,
     "metadata": {},
     "output_type": "execute_result"
    }
   ],
   "source": [
    "tcs.due_amount()"
   ]
  },
  {
   "cell_type": "code",
   "execution_count": 173,
   "id": "6433ac9e",
   "metadata": {},
   "outputs": [
    {
     "name": "stdout",
     "output_type": "stream",
     "text": [
      "The cinnamon roll is ready!\n"
     ]
    }
   ],
   "source": [
    "tcs.fulfill_order()"
   ]
  },
  {
   "cell_type": "code",
   "execution_count": 174,
   "id": "742c207d",
   "metadata": {},
   "outputs": [
    {
     "name": "stdout",
     "output_type": "stream",
     "text": [
      "The iced coffee is ready!\n"
     ]
    }
   ],
   "source": [
    "tcs.fulfill_order() "
   ]
  },
  {
   "cell_type": "code",
   "execution_count": 175,
   "id": "51343e27",
   "metadata": {},
   "outputs": [
    {
     "name": "stdout",
     "output_type": "stream",
     "text": [
      "All orders have been fulfilled!\n"
     ]
    }
   ],
   "source": [
    "tcs.fulfill_order()"
   ]
  },
  {
   "cell_type": "code",
   "execution_count": 176,
   "id": "ce8df385",
   "metadata": {},
   "outputs": [
    {
     "data": {
      "text/plain": [
       "[]"
      ]
     },
     "execution_count": 176,
     "metadata": {},
     "output_type": "execute_result"
    }
   ],
   "source": [
    "tcs.list_orders()"
   ]
  },
  {
   "cell_type": "code",
   "execution_count": 177,
   "id": "1a011221",
   "metadata": {},
   "outputs": [
    {
     "data": {
      "text/plain": [
       "0.0"
      ]
     },
     "execution_count": 177,
     "metadata": {},
     "output_type": "execute_result"
    }
   ],
   "source": [
    "tcs.due_amount()"
   ]
  },
  {
   "cell_type": "code",
   "execution_count": 178,
   "id": "27660c1e",
   "metadata": {},
   "outputs": [
    {
     "data": {
      "text/plain": [
       "'lemonade'"
      ]
     },
     "execution_count": 178,
     "metadata": {},
     "output_type": "execute_result"
    }
   ],
   "source": [
    "tcs.cheapest_item()"
   ]
  },
  {
   "cell_type": "code",
   "execution_count": 179,
   "id": "5bdaaa07",
   "metadata": {},
   "outputs": [
    {
     "data": {
      "text/plain": [
       "['iced coffee', 'tea', 'lemonade']"
      ]
     },
     "execution_count": 179,
     "metadata": {},
     "output_type": "execute_result"
    }
   ],
   "source": [
    "tcs.drinks_only()\n"
   ]
  },
  {
   "cell_type": "code",
   "execution_count": 180,
   "id": "0fa2c1ef",
   "metadata": {},
   "outputs": [
    {
     "data": {
      "text/plain": [
       "['banana bread', 'cinnamon roll', 'tuna sandwich', 'bacon and egg']"
      ]
     },
     "execution_count": 180,
     "metadata": {},
     "output_type": "execute_result"
    }
   ],
   "source": [
    "tcs.food_only()"
   ]
  },
  {
   "cell_type": "markdown",
   "id": "647cea7d",
   "metadata": {},
   "source": [
    "### 4. In this challenge, write a funcion loneliest_number to find the last Lonely number inside a sequence. A number is Lonely if the distance from its closest Prime sets a new record of the sequence.\n",
    "\n",
    "Sequence = from 0 to 3\n",
    "\n",
    "#### Any number lower than 3 doesn't have a Prime preceeding it...\n",
    "#### ...so that you'll consider only its next closest Prime.\n",
    "\n",
    "0 has distance 2 from its closest Prime (2)\n",
    "#### It's a new record! 0 It's the first lonely number of the sequence\n",
    "1 has distance 1 from its closest Prime (2)\n",
    "2 has distance 1 from 3\n",
    "3 has distance 1 from 2\n",
    "####  The sequence 0 to 3  has only one Lonely number: 0\n",
    "\n",
    "Sequence = Numbers from 5 to 10\n",
    "\n",
    "5 has distance 2 from its closest Prime (3 or 7)\n",
    "####  It's a new record! 5 It's the first lonely number of the sequence\n",
    "6 has distance 1 from 5 or 7\n",
    "7 has distance 2 from 5\n",
    "8 has distance 1 from 7\n",
    "9 has distance 2 from 7 or 11\n",
    "10 has distance 1 from 11\n",
    "\n",
    "#### ### ### ###  The sequence 5 to 10  has only one Lonely number: 5\n",
    "\n",
    "Sequence = Numbers from 19 to 24\n",
    "\n",
    "19 has distance 2 from its closest Prime (17)\n",
    "#### ### ###  It's a new record! 19 It's the first lonely number of the sequence\n",
    "20 has distance 1 from 19\n",
    "21 has distance 2 from 5\n",
    "22 has distance 1 from 23\n",
    "23 has distance 4 from 17 or 29\n",
    "#### ###  It's a new record! 23 is the second lonely number of the sequence\n",
    "24 has distance 1 from 23\n",
    "\n",
    "####  The sequence 19 to 24  has two Lonely numbers: 19 and 23\n",
    "\n",
    "The function loneliest_number must accept two integers lo and hi being the inclusive bounds of the sequence to analyze, and returns a dictionay (dict) object with the following keys and values:\n",
    "\n",
    "   - number: is the last Lonely number found in the given sequence;\n",
    "   - distance: is the distance of the number from its closest Prime;\n",
    "   - closest: is the Prime closest to number (if two Primes are equally distant from number, return the higher Prime).\n",
    "\n",
    "Examples\n",
    "\n",
    "loneliest_number(0, 22) ➞ {\n",
    "  number: 0, distance: 2, closest: 2\n",
    "}\n",
    "\n",
    "loneliest_number(8, 123) ➞ {\n",
    "  number: 53, distance: 6, closest: 59\n",
    "}\n",
    "\n",
    "loneliest_number(938, 1190) ➞ {\n",
    "  number: 1140, distance: 11, closest: 1151\n",
    "}\n",
    "\n",
    "loneliest_number(120, 1190) ➞ {\n",
    "  number: 211, distance: 12, closest: 223\n",
    "}\n"
   ]
  },
  {
   "cell_type": "code",
   "execution_count": 6,
   "id": "16d90abb",
   "metadata": {},
   "outputs": [],
   "source": [
    "def loneliest_number(lo,hi):\n",
    "    record={\"number\":0,\"distance\":0,\"closest\":0}\n",
    "    for no in range(lo,hi+1):\n",
    "        primes = [prevprime(no) if no>2 else nextprime(no),nextprime(no)]\n",
    "        if no-primes[0]==primes[1]-no:\n",
    "            close=primes[1]\n",
    "        else:\n",
    "            close=primes[0] if no-primes[0] < primes[1]-no else primes[1]\n",
    "        if abs(close-no)>record[\"distance\"]:\n",
    "            record[\"number\"]=no\n",
    "            record[\"distance\"]=abs(close-no)\n",
    "            record[\"closest\"]=close\n",
    "             \n",
    "    return record"
   ]
  },
  {
   "cell_type": "code",
   "execution_count": 7,
   "id": "e665b1b1",
   "metadata": {},
   "outputs": [
    {
     "data": {
      "text/plain": [
       "{'number': 0, 'distance': 2, 'closest': 2}"
      ]
     },
     "execution_count": 7,
     "metadata": {},
     "output_type": "execute_result"
    }
   ],
   "source": [
    "loneliest_number(0,22)"
   ]
  },
  {
   "cell_type": "code",
   "execution_count": 8,
   "id": "a040d81d",
   "metadata": {},
   "outputs": [
    {
     "data": {
      "text/plain": [
       "{'number': 120, 'distance': 7, 'closest': 127}"
      ]
     },
     "execution_count": 8,
     "metadata": {},
     "output_type": "execute_result"
    }
   ],
   "source": [
    "loneliest_number(8, 123)"
   ]
  },
  {
   "cell_type": "code",
   "execution_count": 9,
   "id": "38452700",
   "metadata": {},
   "outputs": [
    {
     "data": {
      "text/plain": [
       "{'number': 1140, 'distance': 11, 'closest': 1151}"
      ]
     },
     "execution_count": 9,
     "metadata": {},
     "output_type": "execute_result"
    }
   ],
   "source": [
    "loneliest_number(938, 1190)"
   ]
  },
  {
   "cell_type": "code",
   "execution_count": 10,
   "id": "6de58dd7",
   "metadata": {},
   "outputs": [
    {
     "data": {
      "text/plain": [
       "{'number': 211, 'distance': 12, 'closest': 223}"
      ]
     },
     "execution_count": 10,
     "metadata": {},
     "output_type": "execute_result"
    }
   ],
   "source": [
    "loneliest_number(120, 1190)"
   ]
  },
  {
   "cell_type": "markdown",
   "id": "cfec76de",
   "metadata": {},
   "source": [
    "### 5. Implement a class Selfie that can store the current state of the object in the form of binary string. It can take multiple pictures and then recover to a state it was before. During testing an object will be provided with new attributes and their values. It will store its state. Then the values will be changed. Then it will be given new attributes. It will store its state again. It will be repeated few times.\n",
    "\n",
    "Later the states of the object will be recovered given an index. The return value should be a new Selfie with the requested historic state and the state history of the new object should be updated with a copy of current object's state history.\n",
    "\n",
    "The object also knows how many states it has stored. If the index is not within the range of stored states, the object stays as is. If the argument is invalid, n < 0 or n >= self.n_states(), the current object (or a copy thereof) should be returned.\n",
    "\n",
    "Examples\n",
    "\n",
    "p = Selfie() \n",
    "\n",
    "p.x = 2\n",
    "\n",
    "p.save_state()\n",
    "\n",
    "p.x = 5\n",
    "\n",
    "p = p.recover_state(0)\n",
    "\n",
    "p.x ➞ 2\n"
   ]
  },
  {
   "cell_type": "code",
   "execution_count": null,
   "id": "fb4bd043",
   "metadata": {},
   "outputs": [],
   "source": []
  }
 ],
 "metadata": {
  "kernelspec": {
   "display_name": "Python 3 (ipykernel)",
   "language": "python",
   "name": "python3"
  },
  "language_info": {
   "codemirror_mode": {
    "name": "ipython",
    "version": 3
   },
   "file_extension": ".py",
   "mimetype": "text/x-python",
   "name": "python",
   "nbconvert_exporter": "python",
   "pygments_lexer": "ipython3",
   "version": "3.8.11"
  }
 },
 "nbformat": 4,
 "nbformat_minor": 5
}
