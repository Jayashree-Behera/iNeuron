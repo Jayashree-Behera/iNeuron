{
 "cells": [
  {
   "cell_type": "markdown",
   "id": "40f4e7b4",
   "metadata": {},
   "source": [
    "### 1. Rondo Form is a type of musical structure, in which there is a recurring theme/refrain, notated as A. Here are the rules for valid rondo forms:\n",
    "\n",
    "   - Rondo forms always start and end with an A section.\n",
    "   - In between the A sections, there should be contrasting sections notated as B, then C, then D, etc... No letter should be skipped.\n",
    "   - There shouldn't be any repeats in the sequence (such as ABBACCA).\n",
    "\n",
    "Create a function which validates whether a given string is a valid Rondo Form.\n",
    "\n",
    "Examples\n",
    "\n",
    "valid_rondo(\"ABACADAEAFAGAHAIAJA\") ➞ True\n",
    "\n",
    "valid_rondo(\"ABA\") ➞ True\n",
    "\n",
    "valid_rondo(\"ABBACCA\") ➞ False\n",
    "\n",
    "valid_rondo(\"ACAC\") ➞ False\n",
    "\n",
    "valid_rondo(\"A\") ➞ False\n"
   ]
  },
  {
   "cell_type": "code",
   "execution_count": 147,
   "id": "ae8d6d28",
   "metadata": {},
   "outputs": [],
   "source": [
    "import string\n",
    "def valid_rondo(word):\n",
    "    try:\n",
    "        if len(word)>1 and len(word)%2!=0 and word[0]==word[-1] and word[0]==\"A\":\n",
    "            ans=True\n",
    "            abc=string.ascii_uppercase\n",
    "            lst=[]\n",
    "            for i in range(len(word)):\n",
    "                if i%2==0:\n",
    "                    if word[i]!=\"A\":\n",
    "                        ans=False\n",
    "                        break\n",
    "                else:\n",
    "                    if word[i]==abc[int((i+1)/2)]:\n",
    "                        continue\n",
    "                    else:\n",
    "                        ans=False\n",
    "                        break\n",
    "            if ans:\n",
    "                if lst==sorted(lst):\n",
    "                    ans=True\n",
    "                else:\n",
    "                    ans=False\n",
    "        else:\n",
    "            ans=False\n",
    "                    \n",
    "        return ans\n",
    "    \n",
    "    except Exception as e:\n",
    "        print(\"error occurred:\",e)\n"
   ]
  },
  {
   "cell_type": "code",
   "execution_count": 148,
   "id": "da6a2aa9",
   "metadata": {},
   "outputs": [
    {
     "data": {
      "text/plain": [
       "True"
      ]
     },
     "execution_count": 148,
     "metadata": {},
     "output_type": "execute_result"
    }
   ],
   "source": [
    "valid_rondo(\"ABACADAEAFAGAHAIAJA\") "
   ]
  },
  {
   "cell_type": "code",
   "execution_count": 149,
   "id": "98243074",
   "metadata": {},
   "outputs": [
    {
     "data": {
      "text/plain": [
       "False"
      ]
     },
     "execution_count": 149,
     "metadata": {},
     "output_type": "execute_result"
    }
   ],
   "source": [
    "valid_rondo(\"ABBACCA\")"
   ]
  },
  {
   "cell_type": "code",
   "execution_count": 150,
   "id": "1c8d0f84",
   "metadata": {},
   "outputs": [
    {
     "data": {
      "text/plain": [
       "False"
      ]
     },
     "execution_count": 150,
     "metadata": {},
     "output_type": "execute_result"
    }
   ],
   "source": [
    "valid_rondo(\"A\") "
   ]
  },
  {
   "cell_type": "markdown",
   "id": "081b1061",
   "metadata": {},
   "source": [
    "### 2. Create a function that returns the whole of the first sentence which contains a specific word. Include the full stop at the end of the sentence.\n",
    "\n",
    "Examples\n",
    "\n",
    "txt = \"I have a cat. I have a mat. Things are going swell.\"\n",
    "\n",
    "sentence_searcher(txt, \"have\") ➞ \"I have a cat.\"\n",
    "\n",
    "sentence_searcher(txt, \"MAT\") ➞ \"I have a mat.\"\n",
    "\n",
    "sentence_searcher(txt, \"things\") ➞ \"Things are going swell.\"\n",
    "\n",
    "sentence_searcher(txt, \"flat\") ➞ \"\"\n"
   ]
  },
  {
   "cell_type": "code",
   "execution_count": 151,
   "id": "2225bbc9",
   "metadata": {},
   "outputs": [],
   "source": [
    "def sentence_searcher(txt, word) :\n",
    "    try:\n",
    "        text=txt.split(sep=\".\")[:-1]\n",
    "        ans=\"\"\n",
    "        for i in text:\n",
    "            if word.lower() in i.lower():\n",
    "                ans=(i+\".\").lstrip()\n",
    "                break\n",
    "        return ans\n",
    "\n",
    "    \n",
    "    except Exception as e:\n",
    "        print(\"error occurred:\",e)"
   ]
  },
  {
   "cell_type": "code",
   "execution_count": 152,
   "id": "16c92493",
   "metadata": {},
   "outputs": [
    {
     "data": {
      "text/plain": [
       "'I have a cat.'"
      ]
     },
     "execution_count": 152,
     "metadata": {},
     "output_type": "execute_result"
    }
   ],
   "source": [
    "txt = \"I have a cat. I have a mat. Things are going swell.\"\n",
    "\n",
    "sentence_searcher(txt, \"have\")"
   ]
  },
  {
   "cell_type": "code",
   "execution_count": 153,
   "id": "e7e16cff",
   "metadata": {},
   "outputs": [
    {
     "data": {
      "text/plain": [
       "'Things are going swell.'"
      ]
     },
     "execution_count": 153,
     "metadata": {},
     "output_type": "execute_result"
    }
   ],
   "source": [
    "sentence_searcher(txt, \"things\") "
   ]
  },
  {
   "cell_type": "code",
   "execution_count": 154,
   "id": "9bae8488",
   "metadata": {},
   "outputs": [
    {
     "data": {
      "text/plain": [
       "''"
      ]
     },
     "execution_count": 154,
     "metadata": {},
     "output_type": "execute_result"
    }
   ],
   "source": [
    "sentence_searcher(txt, \"flat\")"
   ]
  },
  {
   "cell_type": "markdown",
   "id": "d066b089",
   "metadata": {},
   "source": [
    "### 3. Given a number, find the \"round \"of each digit of the number. An integer is called \"round\" if all its digits except the leftmost (most significant) are equal to zero.\n",
    "\n",
    "    - Round numbers: 4000, 1, 9, 800, 90\n",
    "    - Not round numbers: 110, 707, 222, 1001\n",
    "\n",
    "Create a function that takes a number and returns the \"round\" of each digit (except if the digit is zero) as a string. Check out the following examples for more clarification.\n",
    "\n",
    "Examples\n",
    "\n",
    "sum_round(101) ➞ \"1 100\"\n",
    "\n",
    "sum_round(1234) ➞ \"4 30 200 1000\"\n",
    "\n",
    "sum_round(54210) ➞ \"10 200 4000 50000\"\n"
   ]
  },
  {
   "cell_type": "code",
   "execution_count": 156,
   "id": "72aede18",
   "metadata": {},
   "outputs": [],
   "source": [
    "def sum_round(num) :\n",
    "    try:\n",
    "        num=str(num)\n",
    "        ans=\"\"\n",
    "        for i in range(len(num)):\n",
    "            if int(num[-(i+1)])>0:\n",
    "                ans=ans+str(int(num[-(i+1)])*(10**i))+\" \"\n",
    "                \n",
    "        return ans.rstrip()\n",
    "\n",
    "    except Exception as e:\n",
    "        print(\"error occurred:\",e)"
   ]
  },
  {
   "cell_type": "code",
   "execution_count": 157,
   "id": "d045eee5",
   "metadata": {},
   "outputs": [
    {
     "data": {
      "text/plain": [
       "'1 100'"
      ]
     },
     "execution_count": 157,
     "metadata": {},
     "output_type": "execute_result"
    }
   ],
   "source": [
    "sum_round(101) "
   ]
  },
  {
   "cell_type": "code",
   "execution_count": 158,
   "id": "99345e73",
   "metadata": {},
   "outputs": [
    {
     "data": {
      "text/plain": [
       "'4 30 200 1000'"
      ]
     },
     "execution_count": 158,
     "metadata": {},
     "output_type": "execute_result"
    }
   ],
   "source": [
    "sum_round(1234)"
   ]
  },
  {
   "cell_type": "code",
   "execution_count": 159,
   "id": "ca404440",
   "metadata": {},
   "outputs": [
    {
     "data": {
      "text/plain": [
       "'10 200 4000 50000'"
      ]
     },
     "execution_count": 159,
     "metadata": {},
     "output_type": "execute_result"
    }
   ],
   "source": [
    "sum_round(54210)"
   ]
  },
  {
   "cell_type": "markdown",
   "id": "ec191886",
   "metadata": {},
   "source": [
    "### 4. Your task, is to create N x N multiplication table, of size n provided in parameter.\n",
    "\n",
    "For example, when n is 5, the multiplication table is:\n",
    "\n",
    "   - 1, 2, 3, 4, 5\n",
    "   - 2, 4, 6, 8, 10\n",
    "   - 3, 6, 9, 12, 15\n",
    "   - 4, 8, 12, 16, 20\n",
    "   - 5, 10, 15, 20, 25\n",
    "\n",
    "This example will result in:\n",
    "\n",
    "[[1, 2, 3, 4, 5], [2, 4, 6, 8, 10], [3, 6, 9, 12, 15], [4, 8, 12, 16, 20], [5, 10, 15, 20, 25]]\n",
    "\n",
    "Examples\n",
    "\n",
    "multiplication_table(1) ➞ [[1]]\n",
    "\n",
    "multiplication_table(3) ➞ [[1, 2, 3], [2, 4, 6], [3, 6, 9]]\n"
   ]
  },
  {
   "cell_type": "code",
   "execution_count": 160,
   "id": "ce3071d3",
   "metadata": {},
   "outputs": [],
   "source": [
    "def multiplication_table(num) :\n",
    "    try:\n",
    "        ans=[]\n",
    "        for i in range(1,num+1,1):\n",
    "            table=[]\n",
    "            for j in range(1,num+1,1):\n",
    "                table.append(i*j)\n",
    "            ans.append(table)\n",
    "        return ans\n",
    "                \n",
    "\n",
    "    except Exception as e:\n",
    "        print(\"error occurred:\",e)"
   ]
  },
  {
   "cell_type": "code",
   "execution_count": 161,
   "id": "11cdd270",
   "metadata": {},
   "outputs": [
    {
     "data": {
      "text/plain": [
       "[[1, 2, 3, 4, 5],\n",
       " [2, 4, 6, 8, 10],\n",
       " [3, 6, 9, 12, 15],\n",
       " [4, 8, 12, 16, 20],\n",
       " [5, 10, 15, 20, 25]]"
      ]
     },
     "execution_count": 161,
     "metadata": {},
     "output_type": "execute_result"
    }
   ],
   "source": [
    "multiplication_table(5)"
   ]
  },
  {
   "cell_type": "code",
   "execution_count": 162,
   "id": "e0b36223",
   "metadata": {},
   "outputs": [
    {
     "data": {
      "text/plain": [
       "[[1]]"
      ]
     },
     "execution_count": 162,
     "metadata": {},
     "output_type": "execute_result"
    }
   ],
   "source": [
    "multiplication_table(1)"
   ]
  },
  {
   "cell_type": "markdown",
   "id": "9d91dced",
   "metadata": {},
   "source": [
    "### 5. Create a function that returns True if two lines rhyme and False otherwise. For the purposes of this exercise, two lines rhyme if the last word from each sentence contains the same vowels.\n",
    "\n",
    "Examples\n",
    "\n",
    "does_rhyme(\"Sam I am!\", \"Green eggs and ham.\") ➞ True\n",
    "\n",
    "does_rhyme(\"Sam I am!\", \"Green eggs and HAM.\") ➞ True\n",
    "#### Capitalization and punctuation should not matter.\n",
    "\n",
    "does_rhyme(\"You are off to the races\", \"a splendid day.\") ➞ False\n",
    "\n",
    "does_rhyme(\"and frequently do?\", \"you gotta move.\") ➞ False\n"
   ]
  },
  {
   "cell_type": "code",
   "execution_count": 163,
   "id": "225971cb",
   "metadata": {},
   "outputs": [],
   "source": [
    "def does_rhyme(sen1,sen2):\n",
    "    try:\n",
    "        sen1=sen1.split()[-1].lower()\n",
    "        sen2=sen2.split()[-1].lower()\n",
    "        sen=[sen1,sen2]\n",
    "        vowels=\"aeiou\"\n",
    "        vow=[1]*2\n",
    "        for i in range(len(sen)):\n",
    "            word=sen[i]\n",
    "            vow[i]=\"\"\n",
    "            for char in word:\n",
    "                if char in vowels:\n",
    "                    vow[i]=vow[i]+char\n",
    "        if sorted(vow[0])==sorted(vow[1]):\n",
    "            print(True)\n",
    "        else:\n",
    "            print(False)\n",
    "        \n",
    "    except Exception as e:\n",
    "        print(\"error occurred:\",e)"
   ]
  },
  {
   "cell_type": "code",
   "execution_count": 164,
   "id": "85d90dad",
   "metadata": {},
   "outputs": [
    {
     "name": "stdout",
     "output_type": "stream",
     "text": [
      "False\n"
     ]
    }
   ],
   "source": [
    "does_rhyme(\"You are off to the races\", \"a splendid day.\") "
   ]
  },
  {
   "cell_type": "code",
   "execution_count": 165,
   "id": "16f09499",
   "metadata": {},
   "outputs": [
    {
     "name": "stdout",
     "output_type": "stream",
     "text": [
      "True\n"
     ]
    }
   ],
   "source": [
    "does_rhyme(\"Sam I am!\", \"Green eggs and HAM.\") "
   ]
  },
  {
   "cell_type": "code",
   "execution_count": 166,
   "id": "7695e132",
   "metadata": {},
   "outputs": [
    {
     "name": "stdout",
     "output_type": "stream",
     "text": [
      "False\n"
     ]
    }
   ],
   "source": [
    "does_rhyme(\"and frequently do?\", \"you gotta move.\")"
   ]
  },
  {
   "cell_type": "code",
   "execution_count": null,
   "id": "9d50db22",
   "metadata": {},
   "outputs": [],
   "source": []
  }
 ],
 "metadata": {
  "kernelspec": {
   "display_name": "Python 3",
   "language": "python",
   "name": "python3"
  },
  "language_info": {
   "codemirror_mode": {
    "name": "ipython",
    "version": 3
   },
   "file_extension": ".py",
   "mimetype": "text/x-python",
   "name": "python",
   "nbconvert_exporter": "python",
   "pygments_lexer": "ipython3",
   "version": "3.8.11"
  }
 },
 "nbformat": 4,
 "nbformat_minor": 5
}
