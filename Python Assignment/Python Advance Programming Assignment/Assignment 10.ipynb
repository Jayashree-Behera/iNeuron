{
 "cells": [
  {
   "cell_type": "markdown",
   "id": "4e45bf54",
   "metadata": {},
   "source": [
    "### 1. Create a function that takes the width, height and character and returns a picture frame as a 2D list.\n",
    "\n",
    "Examples\n",
    "\n",
    "get_frame(4, 5, \"#\") ➞ [\n",
    "  [\"####\"],\n",
    "  [\"#  #\"],\n",
    "  [\"#  #\"],\n",
    "  [\"#  #\"],\n",
    "  [\"####\"]\n",
    "]\n",
    "#### Frame is 4 characters wide and 5 characters tall.\n",
    "\n",
    "\n",
    "get_frame(10, 3, \"*\") ➞ [\n",
    "  [\"**********\"],\n",
    "  [\"*        *\"],\n",
    "  [\"**********\"]\n",
    "]\n",
    "#### Frame is 10 characters and wide and 3 characters tall.\n",
    "\n",
    "\n",
    "get_frame(2, 5, \"0\") ➞ \"invalid\"\n",
    "#### Frame's width is not more than 2.\n"
   ]
  },
  {
   "cell_type": "code",
   "execution_count": 101,
   "id": "2069bf6c",
   "metadata": {},
   "outputs": [],
   "source": [
    "import numpy as np\n",
    "def get_frame(width,height,character):\n",
    "    try:\n",
    "        if width > 2 :\n",
    "            frame=[[character*2]]*height\n",
    "            frame[0]=frame[-1]=[character*width]\n",
    "            print(frame)\n",
    "        else:\n",
    "            print('\"invalid\"')\n",
    "    except Exception as e:\n",
    "        print(\"error occurred\",e)\n"
   ]
  },
  {
   "cell_type": "code",
   "execution_count": 102,
   "id": "f0f5969a",
   "metadata": {},
   "outputs": [
    {
     "name": "stdout",
     "output_type": "stream",
     "text": [
      "[['**********'], ['**'], ['**********']]\n"
     ]
    }
   ],
   "source": [
    "get_frame(10, 3, \"*\")"
   ]
  },
  {
   "cell_type": "markdown",
   "id": "78b7fbef",
   "metadata": {},
   "source": [
    "### 2. Write three functions:\n",
    "\n",
    "  1. boolean_and\n",
    "  2. boolean_or\n",
    "  3. boolean_xor\n",
    "These functions should evaluate a list of True and False values, starting from the leftmost element and evaluating pairwise.\n",
    "\n",
    "Examples\n",
    "\n",
    "boolean_and([True, True, False, True]) ➞ False\n",
    "#### [True, True, False, True] => [True, False, True] => [False, True] => False\n",
    "\n",
    "boolean_or([True, True, False, False]) ➞ True\n",
    "#### [True, True, False, True] => [True, False, False] => [True, False] => True\n",
    "\n",
    "boolean_xor([True, True, False, False]) ➞ False\n",
    "#### [True, True, False, False] => [False, False, False] => [False, False] => False\n"
   ]
  },
  {
   "cell_type": "code",
   "execution_count": 94,
   "id": "e41d1fff",
   "metadata": {},
   "outputs": [],
   "source": [
    "def boolean_and(lst):\n",
    "    try:\n",
    "        ans=lst[0]\n",
    "        for i in lst:\n",
    "            ans= ans & i\n",
    "        print(ans)\n",
    "    except Exception as e:\n",
    "        print(\"error occurred\",e)\n",
    "        \n",
    "def boolean_or(lst):\n",
    "    try:\n",
    "        ans=lst[0]\n",
    "        for i in lst:\n",
    "            ans= ans | i\n",
    "        print(ans)\n",
    "    except Exception as e:\n",
    "        print(\"error occurred\",e)\n",
    "        \n",
    "def boolean_xor(lst):\n",
    "    try:\n",
    "        if sum(lst)==0 or sum(lst)%2==0:\n",
    "            print(\"False\")\n",
    "        else:\n",
    "            print(\"True\")\n",
    "    except Exception as e:\n",
    "        print(\"error occurred\",e)        "
   ]
  },
  {
   "cell_type": "code",
   "execution_count": 95,
   "id": "5cf97944",
   "metadata": {},
   "outputs": [
    {
     "name": "stdout",
     "output_type": "stream",
     "text": [
      "False\n"
     ]
    }
   ],
   "source": [
    "boolean_and([True, True, False, True])"
   ]
  },
  {
   "cell_type": "code",
   "execution_count": 96,
   "id": "53b5c736",
   "metadata": {},
   "outputs": [
    {
     "name": "stdout",
     "output_type": "stream",
     "text": [
      "True\n"
     ]
    }
   ],
   "source": [
    "boolean_or([True, True, False, False]) "
   ]
  },
  {
   "cell_type": "code",
   "execution_count": 100,
   "id": "11fe1f6c",
   "metadata": {},
   "outputs": [
    {
     "name": "stdout",
     "output_type": "stream",
     "text": [
      "False\n"
     ]
    }
   ],
   "source": [
    "boolean_xor([True, True,False, False])"
   ]
  },
  {
   "cell_type": "markdown",
   "id": "03d7ab83",
   "metadata": {},
   "source": [
    "### 3. Create a function that creates a box based on dimension n.\n",
    "\n",
    "Examples\n",
    "\n",
    "make_box(5) ➞ [\n",
    "  \"#####\",\n",
    "  \"#   #\",\n",
    "  \"#   #\",\n",
    "  \"#   #\",\n",
    "  \"#####\"\n",
    "]\n",
    "\n",
    "make_box(3) ➞ [\n",
    "  \"###\",\n",
    "  \"# #\",\n",
    "  \"###\"\n",
    "]\n",
    "\n",
    "make_box(2) ➞ [\n",
    "  \"##\",\n",
    "  \"##\"\n",
    "]\n",
    "\n",
    "make_box(1) ➞ [\n",
    "  \"#\"\n",
    "]\n"
   ]
  },
  {
   "cell_type": "code",
   "execution_count": 105,
   "id": "be1c040a",
   "metadata": {},
   "outputs": [],
   "source": [
    "import numpy as np\n",
    "def make_box(n):\n",
    "    try:\n",
    "        frame=[\"#\"*2]*n\n",
    "        frame[0]=frame[-1]=\"#\"*n\n",
    "        print(frame)\n",
    "    except Exception as e:\n",
    "        print(\"error occurred\",e)"
   ]
  },
  {
   "cell_type": "code",
   "execution_count": 110,
   "id": "d8398574",
   "metadata": {},
   "outputs": [
    {
     "name": "stdout",
     "output_type": "stream",
     "text": [
      "['#####', '##', '##', '##', '#####']\n"
     ]
    }
   ],
   "source": [
    "make_box(5)"
   ]
  },
  {
   "cell_type": "markdown",
   "id": "1bfc02f2",
   "metadata": {},
   "source": [
    "### 4. Given a common phrase, return False if any individual word in the phrase contains duplicate letters. Return True otherwise.\n",
    "\n",
    "Examples\n",
    "\n",
    "no_duplicate_letters(\"Fortune favours the bold.\") ➞ True\n",
    "\n",
    "no_duplicate_letters(\"You can lead a horse to water, but you can't make him drink.\") ➞ True\n",
    "\n",
    "no_duplicate_letters(\"Look before you leap.\") ➞ False\n",
    "#### Duplicate letters in \"Look\" and \"before\".\n",
    "\n",
    "no_duplicate_letters(\"An apple a day keeps the doctor away.\") ➞ False\n",
    "#### Duplicate letters in \"apple\", \"keeps\", \"doctor\", and \"away\".\n"
   ]
  },
  {
   "cell_type": "code",
   "execution_count": 121,
   "id": "82af28f3",
   "metadata": {},
   "outputs": [],
   "source": [
    "sen = \"An apple a day keeps the doctor away.\"\n",
    "\n",
    "def no_duplicate_letters(sen):\n",
    "    try:\n",
    "        lst=sen.split()\n",
    "\n",
    "        for word in lst:\n",
    "            for l in word:\n",
    "                count=word.count(l)\n",
    "                if count>1:\n",
    "                    break\n",
    "            if count>1:\n",
    "                print(\"False\")\n",
    "                break\n",
    "        if count <=1:\n",
    "            print(\"True\")\n",
    "        \n",
    "    except Exception as e:\n",
    "        print(\"error occurred\",e)\n",
    "        "
   ]
  },
  {
   "cell_type": "code",
   "execution_count": 122,
   "id": "0b25231a",
   "metadata": {},
   "outputs": [
    {
     "name": "stdout",
     "output_type": "stream",
     "text": [
      "False\n"
     ]
    }
   ],
   "source": [
    "no_duplicate_letters(\"An apple a day keeps the doctor away.\")"
   ]
  },
  {
   "cell_type": "markdown",
   "id": "a1c1673e",
   "metadata": {},
   "source": [
    "### 5. Write a regular expression that will match the states that voted yes to President Trump's impeachment. You must use RegEx positive lookahead.\n",
    "\n",
    "Example\n",
    "\n",
    "txt = \"Texas = no, California = yes, Florida = yes, Michigan = no\"\n",
    "pattern = \"yourregularexpressionhere\"\n",
    "\n",
    "re.findall(pattern, txt) ➞ [\"California\", \"Florida\"]\n"
   ]
  },
  {
   "cell_type": "code",
   "execution_count": 27,
   "id": "b1fd5a88",
   "metadata": {},
   "outputs": [
    {
     "data": {
      "text/plain": [
       "['California', 'Florida']"
      ]
     },
     "execution_count": 27,
     "metadata": {},
     "output_type": "execute_result"
    }
   ],
   "source": [
    "import re\n",
    "txt= \"Texas = no, California = yes, Florida = yes, Michigan = no\"\n",
    "pattern = \"\\w+(?= = yes)\"\n",
    "re.findall(pattern, txt)"
   ]
  }
 ],
 "metadata": {
  "kernelspec": {
   "display_name": "Python 3",
   "language": "python",
   "name": "python3"
  },
  "language_info": {
   "codemirror_mode": {
    "name": "ipython",
    "version": 3
   },
   "file_extension": ".py",
   "mimetype": "text/x-python",
   "name": "python",
   "nbconvert_exporter": "python",
   "pygments_lexer": "ipython3",
   "version": "3.8.11"
  }
 },
 "nbformat": 4,
 "nbformat_minor": 5
}
