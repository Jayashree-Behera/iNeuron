{
 "cells": [
  {
   "cell_type": "markdown",
   "id": "bfe68829",
   "metadata": {},
   "source": [
    "### 1. A robot has been given a list of movement instructions. Each instruction is either left, right, up or down, followed by a distance to move. The robot starts at [0, 0]. You want to calculate where the robot will end up and return its final position as a list.\n",
    "\n",
    "To illustrate, if the robot is given the following instructions:\n",
    "\n",
    "[\"right 10\", \"up 50\", \"left 30\", \"down 10\"]\n",
    "\n",
    "It will end up 20 left and 40 up from where it started, so we return [-20, 40].\n",
    "\n",
    "Examples\n",
    "\n",
    "track_robot([\"right 10\", \"up 50\", \"left 30\", \"down 10\"]) ➞ [-20, 40]\n",
    "\n",
    "track_robot([]) ➞ [0, 0]\n",
    "// If there are no instructions, the robot doesn't move.\n",
    "\n",
    "track_robot([\"right 100\", \"right 100\", \"up 500\", \"up 10000\"]) ➞ [200, 10500]\n"
   ]
  },
  {
   "cell_type": "code",
   "execution_count": 59,
   "id": "000b844d",
   "metadata": {},
   "outputs": [],
   "source": [
    "import operator\n",
    "\n",
    "def track_robot(lst):\n",
    "    try:\n",
    "        conv=list(map(lambda x:x.split(\" \"),lst))\n",
    "        operations={\"right\":operator.add,\"left\":operator.sub,\"up\":operator.add,\"down\":operator.sub}\n",
    "        pos=[0,0]\n",
    "        for item in conv:\n",
    "            if item[0] in [\"right\",\"left\"]:\n",
    "                pos[0]=operations[item[0]](pos[0],int(item[1]))\n",
    "            elif item[0] in [\"up\",\"down\"]:\n",
    "                pos[1]=operations[item[0]](pos[1],int(item[1]))        \n",
    "        return pos\n",
    "    except Exception as e:\n",
    "        print(\"error occurred\",e)"
   ]
  },
  {
   "cell_type": "code",
   "execution_count": 60,
   "id": "0dd13d4a",
   "metadata": {},
   "outputs": [
    {
     "data": {
      "text/plain": [
       "[-20, 40]"
      ]
     },
     "execution_count": 60,
     "metadata": {},
     "output_type": "execute_result"
    }
   ],
   "source": [
    "track_robot([\"right 10\", \"up 50\", \"left 30\", \"down 10\"])    "
   ]
  },
  {
   "cell_type": "code",
   "execution_count": 61,
   "id": "5c116b1e",
   "metadata": {},
   "outputs": [
    {
     "data": {
      "text/plain": [
       "[0, 0]"
      ]
     },
     "execution_count": 61,
     "metadata": {},
     "output_type": "execute_result"
    }
   ],
   "source": [
    "track_robot([])"
   ]
  },
  {
   "cell_type": "code",
   "execution_count": 62,
   "id": "665cb256",
   "metadata": {},
   "outputs": [
    {
     "data": {
      "text/plain": [
       "[200, 10500]"
      ]
     },
     "execution_count": 62,
     "metadata": {},
     "output_type": "execute_result"
    }
   ],
   "source": [
    "track_robot([\"right 100\", \"right 100\", \"up 500\", \"up 10000\"])"
   ]
  },
  {
   "cell_type": "markdown",
   "id": "3335724d",
   "metadata": {},
   "source": [
    "### 2. Write a function that will return the longest word in a sentence. In cases where more than one word is found, return the first one.\n",
    "\n",
    "Examples\n",
    "\n",
    "find_longest(\"A thing of beauty is a joy forever.\") ➞ \"forever\"\n",
    "\n",
    "find_longest(\"Forgetfulness is by all means powerless!\") ➞ \"forgetfulness\"\n",
    "\n",
    "find_longest(\"\\\"Strengths\\\" is the longest and most commonly used word that contains only a single vowel.\") ➞ \"strengths\"\n",
    "\n"
   ]
  },
  {
   "cell_type": "code",
   "execution_count": 76,
   "id": "a0cac29d",
   "metadata": {},
   "outputs": [],
   "source": [
    "import re\n",
    "def find_longest(sen):\n",
    "    try:\n",
    "        sen=sen.split(\" \")\n",
    "        sen=[re.sub('[^a-zA-Z0-9]+', '', i) for i in sen]\n",
    "        long=\"\"\n",
    "        for i in range(len(sen)):\n",
    "            if len(sen[-(i+1)])>=len(long):\n",
    "                long=sen[-(i+1)]\n",
    "        return long.lower()                \n",
    "\n",
    "    except Exception as e:\n",
    "        print(\"error occurred\",e)"
   ]
  },
  {
   "cell_type": "code",
   "execution_count": 77,
   "id": "a7ebc1ba",
   "metadata": {},
   "outputs": [
    {
     "data": {
      "text/plain": [
       "'strengths'"
      ]
     },
     "execution_count": 77,
     "metadata": {},
     "output_type": "execute_result"
    }
   ],
   "source": [
    "find_longest(\"'Strengths' is the longest and most commonly used word that contains only a single vowel.\") "
   ]
  },
  {
   "cell_type": "code",
   "execution_count": 78,
   "id": "dc492ba3",
   "metadata": {},
   "outputs": [
    {
     "data": {
      "text/plain": [
       "'forgetfulness'"
      ]
     },
     "execution_count": 78,
     "metadata": {},
     "output_type": "execute_result"
    }
   ],
   "source": [
    "find_longest(\"Forgetfulness is by all means powerless!\") "
   ]
  },
  {
   "cell_type": "markdown",
   "id": "803988ea",
   "metadata": {},
   "source": [
    "### 3. Create a function to check if a candidate is qualified in an imaginary coding interview of an imaginary tech startup.\n",
    "\n",
    "The criteria for a candidate to be qualified in the coding interview is:\n",
    "\n",
    "   1. The candidate should have complete all the questions.\n",
    "   2. The maximum time given to complete the interview is 120 minutes.\n",
    "   3. The maximum time given for very easy questions is 5 minutes each.\n",
    "   4. The maximum time given for easy questions is 10 minutes each.\n",
    "   5. The maximum time given for medium questions is 15 minutes each.\n",
    "   6. The maximum time given for hard questions is 20 minutes each.\n",
    "\n",
    "If all the above conditions are satisfied, return \"qualified\", else return \"disqualified\".\n",
    "\n",
    "You will be given a list of time taken by a candidate to solve a particular question and the total time taken by the candidate to complete the interview.\n",
    "\n",
    "Given a list , in a true condition will always be in the format [very easy, very easy, easy, easy, medium, medium, hard, hard].\n",
    "\n",
    "The maximum time to complete the interview includes a buffer time of 20 minutes.\n",
    "\n",
    "Examples\n",
    "\n",
    "interview([5, 5, 10, 10, 15, 15, 20, 20], 120) ➞ \"qualified\"\n",
    "\n",
    "interview([2, 3, 8, 6, 5, 12, 10, 18], 64) ➞  \"qualified\"\n",
    "\n",
    "interview([5, 5, 10, 10, 25, 15, 20, 20], 120) ➞ \"disqualified\"\n",
    "#### Exceeded the time limit for a medium question.\n",
    "\n",
    "interview([5, 5, 10, 10, 15, 15, 20], 120) ➞ \"disqualified\"\n",
    "#### Did not complete all the questions.\n",
    "\n",
    "interview([5, 5, 10, 10, 15, 15, 20, 20], 130) ➞ \"disqualified\"\n",
    "#### Solved all the questions in their respected time limits but exceeded the total time limit of the interview.\n",
    "\n"
   ]
  },
  {
   "cell_type": "code",
   "execution_count": 111,
   "id": "b6ebe4d4",
   "metadata": {},
   "outputs": [],
   "source": [
    "import re\n",
    "def interview(lst,tot_time):\n",
    "    try:\n",
    "        if len(lst)>8:\n",
    "            raise Exception(\"Invalid list format: should be like [very easy, very easy, easy, easy, medium, medium, hard, hard]\")\n",
    "        elif len(lst)<8:\n",
    "            ans=\"disqualified\"\n",
    "        else:\n",
    "            ans=\"qualified\"\n",
    "            if tot_time>120:\n",
    "                ans=\"disqualified\"\n",
    "            else:\n",
    "                limit=[5, 5, 10, 10, 15, 15, 20, 20]                       \n",
    "                for i in range(8):\n",
    "                    if lst[i]>limit[i]:\n",
    "                        ans=\"disqualified\"\n",
    "                        break\n",
    "        return ans\n",
    "    except Exception as e:\n",
    "        print(\"error occurred:\",e)"
   ]
  },
  {
   "cell_type": "code",
   "execution_count": 112,
   "id": "1a793c4d",
   "metadata": {},
   "outputs": [
    {
     "data": {
      "text/plain": [
       "'qualified'"
      ]
     },
     "execution_count": 112,
     "metadata": {},
     "output_type": "execute_result"
    }
   ],
   "source": [
    "interview([2, 3, 8, 6, 5, 12, 10, 18], 64)"
   ]
  },
  {
   "cell_type": "code",
   "execution_count": 113,
   "id": "fee3e5b1",
   "metadata": {},
   "outputs": [
    {
     "data": {
      "text/plain": [
       "'disqualified'"
      ]
     },
     "execution_count": 113,
     "metadata": {},
     "output_type": "execute_result"
    }
   ],
   "source": [
    "interview([5, 5, 10, 10, 15, 15, 20], 120)"
   ]
  },
  {
   "cell_type": "code",
   "execution_count": 115,
   "id": "b72131fe",
   "metadata": {},
   "outputs": [
    {
     "data": {
      "text/plain": [
       "'disqualified'"
      ]
     },
     "execution_count": 115,
     "metadata": {},
     "output_type": "execute_result"
    }
   ],
   "source": [
    "interview([5, 5, 10, 10, 15, 15, 20, 20], 130)"
   ]
  },
  {
   "cell_type": "markdown",
   "id": "f55c6876",
   "metadata": {},
   "source": [
    "### 4. Write a function that divides a list into chunks of size n, where n is the length of each chunk.\n",
    "\n",
    "Examples\n",
    "\n",
    "chunkify([2, 3, 4, 5], 2) ➞ [[2, 3], [4, 5]]\n",
    "\n",
    "chunkify([2, 3, 4, 5, 6], 2) ➞ [[2, 3], [4, 5], [6]]\n",
    "\n",
    "chunkify([2, 3, 4, 5, 6, 7], 3) ➞ [[2, 3, 4], [5, 6, 7]]\n",
    "\n",
    "chunkify([2, 3, 4, 5, 6, 7], 1) ➞ [[2], [3], [4], [5], [6], [7]]\n",
    "\n",
    "chunkify([2, 3, 4, 5, 6, 7], 7) ➞ [[2, 3, 4, 5, 6, 7]]\n"
   ]
  },
  {
   "cell_type": "code",
   "execution_count": 120,
   "id": "7f138f0d",
   "metadata": {},
   "outputs": [],
   "source": [
    "def chunkify(lst,n):\n",
    "    try:\n",
    "        ans=[lst[i:i+n] for i in range(0,len(lst),n)]\n",
    "            \n",
    "        return ans\n",
    "        \n",
    "    except Exception as e:\n",
    "        print(\"error occurred\",e)    "
   ]
  },
  {
   "cell_type": "code",
   "execution_count": 126,
   "id": "52440968",
   "metadata": {},
   "outputs": [
    {
     "data": {
      "text/plain": [
       "[[2, 3], [4, 5], [6]]"
      ]
     },
     "execution_count": 126,
     "metadata": {},
     "output_type": "execute_result"
    }
   ],
   "source": [
    "chunkify([2, 3, 4, 5, 6],2) "
   ]
  },
  {
   "cell_type": "code",
   "execution_count": 129,
   "id": "50110c29",
   "metadata": {},
   "outputs": [
    {
     "data": {
      "text/plain": [
       "[[2, 3, 4], [5, 6, 7]]"
      ]
     },
     "execution_count": 129,
     "metadata": {},
     "output_type": "execute_result"
    }
   ],
   "source": [
    "chunkify([2, 3, 4, 5, 6, 7], 3)"
   ]
  },
  {
   "cell_type": "markdown",
   "id": "af2f117c",
   "metadata": {},
   "source": [
    "### 5. You are given a list of strings consisting of grocery items, with prices in parentheses. Return a list of prices in float format.\n",
    "\n",
    "Examples\n",
    "\n",
    "get_prices([\"salad ($4.99)\"]) ➞ [4.99]\n",
    "\n",
    "get_prices([\n",
    "  \"artichokes ($1.99)\",\n",
    "  \"rotiserrie chicken ($5.99)\",\n",
    "  \"gum ($0.75)\"\n",
    "])\n",
    "\n",
    "➞ [1.99, 5.99, 0.75]\n",
    "\n",
    "get_prices([\n",
    "  \"ice cream ($5.99)\",\n",
    "  \"banana ($0.20)\",\n",
    "  \"sandwich ($8.50)\",\n",
    "  \"soup ($1.99)\"\n",
    "])\n",
    "\n",
    "➞ [5.99, 0.2, 8.50, 1.99]\n"
   ]
  },
  {
   "cell_type": "code",
   "execution_count": 143,
   "id": "3eac38cc",
   "metadata": {},
   "outputs": [],
   "source": [
    "def get_prices(lst):\n",
    "    try:\n",
    "        ans=[]\n",
    "        \n",
    "        for i in lst:\n",
    "            price=i.split(\"(\")[1][1:-1]\n",
    "            ans.append(float(price))\n",
    "            \n",
    "        return ans\n",
    "        \n",
    "    except Exception as e:\n",
    "        print(\"error occurred\",e)    "
   ]
  },
  {
   "cell_type": "code",
   "execution_count": 144,
   "id": "62bacd95",
   "metadata": {},
   "outputs": [
    {
     "data": {
      "text/plain": [
       "[4.99]"
      ]
     },
     "execution_count": 144,
     "metadata": {},
     "output_type": "execute_result"
    }
   ],
   "source": [
    "get_prices([\"salad ($4.99)\"]) "
   ]
  },
  {
   "cell_type": "code",
   "execution_count": 145,
   "id": "f8c84cde",
   "metadata": {},
   "outputs": [
    {
     "data": {
      "text/plain": [
       "[5.99, 0.2, 8.5, 1.99]"
      ]
     },
     "execution_count": 145,
     "metadata": {},
     "output_type": "execute_result"
    }
   ],
   "source": [
    "get_prices([\"ice cream ($5.99)\",\"banana ($0.20)\",\"sandwich ($8.50)\",\"soup ($1.99)\"])"
   ]
  }
 ],
 "metadata": {
  "kernelspec": {
   "display_name": "Python 3",
   "language": "python",
   "name": "python3"
  },
  "language_info": {
   "codemirror_mode": {
    "name": "ipython",
    "version": 3
   },
   "file_extension": ".py",
   "mimetype": "text/x-python",
   "name": "python",
   "nbconvert_exporter": "python",
   "pygments_lexer": "ipython3",
   "version": "3.8.11"
  }
 },
 "nbformat": 4,
 "nbformat_minor": 5
}
