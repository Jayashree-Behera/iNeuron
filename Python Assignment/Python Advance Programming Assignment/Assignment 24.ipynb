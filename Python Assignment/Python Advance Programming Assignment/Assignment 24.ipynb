{
 "cells": [
  {
   "cell_type": "markdown",
   "id": "2ac79078",
   "metadata": {},
   "source": [
    "### 1. Implement a class iterator to flatten a nested list of lists of integers. Each list element is either an integer or a list. There can be many levels of nested lists in lists.\n",
    "\n",
    "The class initializes with a nested list. It also has two methods:\n",
    "\n",
    "  1. next() returns an integer in the order of appearance.\n",
    "  2. hasNext() returns True / False regarding if all integers have been retrieved or not.\n",
    "\n",
    "Write the Class implementation for three required methods.\n",
    "\n",
    "Examples\n",
    "\n",
    "ni, actual = NestedIterator([[1, 1], 2, [1, 1]]), []\n",
    "\n",
    "while ni.hasNext():\n",
    "\n",
    "    actual.append(ni.next())\n",
    "    \n",
    "actual ➞ [1, 1, 2, 1, 1]\n",
    "\n",
    "ni, actual = NestedIterator([1, [4, [6]]]), []\n",
    "\n",
    "while ni.hasNext():\n",
    "\n",
    "    actual.append(ni.next())\n",
    "    \n",
    "actual ➞ [1, 4, 6]\n",
    "\n",
    "ni, actual = NestedIterator([[[]], []]), []\n",
    "\n",
    "while ni.hasNext():\n",
    "\n",
    "    actual.append(ni.next())\n",
    "    \n",
    "actual ➞ []\n"
   ]
  },
  {
   "cell_type": "code",
   "execution_count": 95,
   "id": "c2a09917",
   "metadata": {},
   "outputs": [],
   "source": [
    "class NestedIterator:\n",
    "    \n",
    "    def __init__(self, nestedList):\n",
    "        self.data = []\n",
    "        def flatten(nestedList):\n",
    "            for i in nestedList:\n",
    "                if isinstance(i,list):\n",
    "                     for j in flatten(i):\n",
    "                        yield j\n",
    "                else:    \n",
    "                    yield i\n",
    "\n",
    "        self.data=list(flatten(nestedList))\n",
    "    \n",
    "    def next(self):\n",
    "        if len(self.data)>0:\n",
    "            return self.data.pop(0)\n",
    "        else:\n",
    "            return \"List is empty\"\n",
    "        \n",
    "    def hasNext(self):\n",
    "        return len(self.data)>0"
   ]
  },
  {
   "cell_type": "code",
   "execution_count": 103,
   "id": "9b9faa32",
   "metadata": {},
   "outputs": [
    {
     "data": {
      "text/plain": [
       "[1, 1, 2, 1, 1]"
      ]
     },
     "execution_count": 103,
     "metadata": {},
     "output_type": "execute_result"
    }
   ],
   "source": [
    "ni,actual = NestedIterator([[1, 1], 2, [1, 1]]),[]\n",
    "while ni.hasNext():\n",
    "\n",
    "    actual.append(ni.next())\n",
    "actual"
   ]
  },
  {
   "cell_type": "code",
   "execution_count": 104,
   "id": "ef541408",
   "metadata": {},
   "outputs": [
    {
     "data": {
      "text/plain": [
       "[1, 4, 6]"
      ]
     },
     "execution_count": 104,
     "metadata": {},
     "output_type": "execute_result"
    }
   ],
   "source": [
    "ni, actual = NestedIterator([1, [4, [6]]]), []\n",
    "\n",
    "while ni.hasNext():\n",
    "\n",
    "    actual.append(ni.next())\n",
    "actual"
   ]
  },
  {
   "cell_type": "code",
   "execution_count": 105,
   "id": "2b21c3ea",
   "metadata": {},
   "outputs": [
    {
     "data": {
      "text/plain": [
       "[]"
      ]
     },
     "execution_count": 105,
     "metadata": {},
     "output_type": "execute_result"
    }
   ],
   "source": [
    "ni, actual = NestedIterator([[[]], []]), []\n",
    "\n",
    "while ni.hasNext():\n",
    "\n",
    "    actual.append(ni.next())\n",
    "actual"
   ]
  },
  {
   "cell_type": "markdown",
   "id": "49b38685",
   "metadata": {},
   "source": [
    "### 2. Implement the class Shape that receives perimeter and density function into __init__ method. The list of consecutive corners defines shape of a 2-dimensional object. The density function defines the mass distribution inside the shape. To compute mass in a certain point m(x, y) = small_square * density(x, y). The __init__ method calls other internal methods that compute three characteristics of the shape:\n",
    "\n",
    "   - area\n",
    "   - total mass\n",
    "   - center of mass (xc, yc)\n",
    "\n",
    "The computational grid has distance between two neighboring points as 2 * delta, the distance between a grid point and the perimeter wall is delta.\n",
    "\n",
    "Examples\n",
    "\n",
    "sh_ex1 = Shape([(1, 1), (3, 1), (3, 2), (1, 2)], lambda x, y: 100 + 100 * x)\n",
    "\n",
    "sh_ex1.area ➞ 2.0\n",
    "\n",
    "sh_ex1.mass ➞ 600.0\n",
    "\n",
    "sh_ex1.mass_center ➞ (2.1, 1.5)\n",
    "\n"
   ]
  },
  {
   "cell_type": "code",
   "execution_count": 208,
   "id": "ddb930a9",
   "metadata": {},
   "outputs": [],
   "source": [
    "from scipy import integrate\n",
    "class Shape:\n",
    "    def __init__(self,vert,density):\n",
    "        self.x=[i[0] for i in vert]\n",
    "        self.y=[i[1] for i in vert]\n",
    "        self.density=density\n",
    "        self.area=self.total_area()\n",
    "        self.mass=self.total_mass()\n",
    "        self.mass_center=self.COM()\n",
    "        \n",
    "    def total_area(self):\n",
    "        area = 0.0\n",
    "        for i in range(-1, len(self.x)-1):\n",
    "            area += self.x[i] * (self.y[i+1] - self.y[i-1])\n",
    "        return abs(area) / 2.0\n",
    "    \n",
    "    def total_mass(self):\n",
    "        res=integrate.dblquad(self.density, min(self.y), max(self.y), lambda x: min(self.x), lambda x: max(self.x))\n",
    "        return res[0]\n",
    "    \n",
    "    def COM(self):\n",
    "        f1=lambda x, y : self.density(x, y) * x\n",
    "        com_x,_=integrate.dblquad(f1, min(self.y), max(self.y), lambda x: min(self.x), lambda x: max(self.x))\n",
    "        f1=lambda x, y : self.density(x, y) * y\n",
    "        com_y,_=integrate.dblquad(f1, min(self.y), max(self.y), lambda x: min(self.x), lambda x: max(self.x))   \n",
    "        return (round(com_x/self.total_mass(),1),round(com_y/self.total_mass(),1))\n",
    "        \n",
    "        "
   ]
  },
  {
   "cell_type": "code",
   "execution_count": 209,
   "id": "0e0c1e8c",
   "metadata": {},
   "outputs": [],
   "source": [
    "sh_ex1 = Shape([(1, 1), (3, 1), (3, 2), (1, 2)], lambda x, y: 100 + 100 * x)"
   ]
  },
  {
   "cell_type": "code",
   "execution_count": 210,
   "id": "b72cfac7",
   "metadata": {},
   "outputs": [
    {
     "data": {
      "text/plain": [
       "2.0"
      ]
     },
     "execution_count": 210,
     "metadata": {},
     "output_type": "execute_result"
    }
   ],
   "source": [
    "sh_ex1.area"
   ]
  },
  {
   "cell_type": "code",
   "execution_count": 211,
   "id": "bd722259",
   "metadata": {},
   "outputs": [
    {
     "data": {
      "text/plain": [
       "600.0"
      ]
     },
     "execution_count": 211,
     "metadata": {},
     "output_type": "execute_result"
    }
   ],
   "source": [
    "sh_ex1.mass"
   ]
  },
  {
   "cell_type": "code",
   "execution_count": 212,
   "id": "bd980e4c",
   "metadata": {},
   "outputs": [
    {
     "data": {
      "text/plain": [
       "(2.1, 1.5)"
      ]
     },
     "execution_count": 212,
     "metadata": {},
     "output_type": "execute_result"
    }
   ],
   "source": [
    "sh_ex1.mass_center"
   ]
  },
  {
   "cell_type": "markdown",
   "id": "008b7d33",
   "metadata": {},
   "source": [
    "### 3. Given a 3x3 matrix of a completed tic-tac-toe game, create a function that returns whether the game is a win for \"X\", \"O\", or a \"Draw\", where \"X\" and \"O\" represent themselves on the matrix, and \"E\" represents an empty spot.\n",
    "\n",
    "Examples\n",
    "\n",
    "tic_tac_toe([\n",
    "  [\"X\", \"O\", \"X\"],\n",
    "  [\"O\", \"X\",  \"O\"],\n",
    "  [\"O\", \"X\",  \"X\"]\n",
    "]) ➞ \"X\"\n",
    "\n",
    "tic_tac_toe([\n",
    "  [\"O\", \"O\", \"O\"],\n",
    "  [\"O\", \"X\", \"X\"],\n",
    "  [\"E\", \"X\", \"X\"]\n",
    "]) ➞ \"O\"\n",
    "\n",
    "tic_tac_toe([\n",
    "  [\"X\", \"X\", \"O\"],\n",
    "  [\"O\", \"O\", \"X\"],\n",
    "  [\"X\", \"X\", \"O\"]\n",
    "]) ➞ \"Draw\"\n",
    "\n"
   ]
  },
  {
   "cell_type": "code",
   "execution_count": 257,
   "id": "b8a0b162",
   "metadata": {},
   "outputs": [],
   "source": [
    "import numpy as np\n",
    "def tic_tac_toe(lst):\n",
    "    ix = [[i,j] for i in range(3) for j in range(3)  if lst[i][j] == \"X\"]\n",
    "    io = [[i,j] for i in range(3) for j in range(3)  if lst[i][j] == \"O\"]\n",
    "    players={\"X\":ix,\"O\":io}\n",
    "    check1=np.array(lst).diagonal().tolist()\n",
    "    check2=np.fliplr(np.array(lst)).diagonal().tolist()\n",
    "    if check1.count(check1[0]) == len(check1) or check2.count(check2[0]) == len(check2):\n",
    "        return lst[1][1]\n",
    "    \n",
    "    else:\n",
    "        for key,value in players.items():\n",
    "            rows=[i[0]for i in value]\n",
    "            cols=[i[1] for i in value]\n",
    "            for index in [0,1,2]:\n",
    "                if rows.count(index)>=3 or cols.count(index)>=3:\n",
    "                    return key\n",
    "                    \n",
    "    \n",
    "    return \"Draw\""
   ]
  },
  {
   "cell_type": "code",
   "execution_count": 258,
   "id": "297bfad2",
   "metadata": {},
   "outputs": [
    {
     "data": {
      "text/plain": [
       "'X'"
      ]
     },
     "execution_count": 258,
     "metadata": {},
     "output_type": "execute_result"
    }
   ],
   "source": [
    "tic_tac_toe([ [\"X\", \"O\", \"X\"], [\"O\", \"X\", \"O\"], [\"O\", \"X\", \"X\"] ])"
   ]
  },
  {
   "cell_type": "code",
   "execution_count": 259,
   "id": "ea79766f",
   "metadata": {},
   "outputs": [
    {
     "data": {
      "text/plain": [
       "'O'"
      ]
     },
     "execution_count": 259,
     "metadata": {},
     "output_type": "execute_result"
    }
   ],
   "source": [
    "tic_tac_toe([ [\"O\", \"O\", \"O\"], [\"O\", \"X\", \"X\"], [\"E\", \"X\", \"X\"] ])"
   ]
  },
  {
   "cell_type": "code",
   "execution_count": 260,
   "id": "c33ccc44",
   "metadata": {},
   "outputs": [
    {
     "data": {
      "text/plain": [
       "'Draw'"
      ]
     },
     "execution_count": 260,
     "metadata": {},
     "output_type": "execute_result"
    }
   ],
   "source": [
    "tic_tac_toe([ [\"X\", \"X\", \"O\"], [\"O\", \"O\", \"X\"], [\"X\", \"X\", \"O\"] ])"
   ]
  },
  {
   "cell_type": "markdown",
   "id": "5ff5f05c",
   "metadata": {},
   "source": [
    "### 4. Your computer might have been infected by a virus! Create a function that finds the viruses in files and removes them from your computer.\n",
    "\n",
    "Examples\n",
    "\n",
    "remove_virus(\"PC Files: spotifysetup.exe, virus.exe, dog.jpg\") ➞ \"PC Files: spotifysetup.exe, dog.jpg\"\n",
    "\n",
    "remove_virus(\"PC Files: antivirus.exe, cat.pdf, lethalmalware.exe, dangerousvirus.exe \") ➞ \"PC Files: antivirus.exe, cat.pdf\"\n",
    "\n",
    "remove_virus(\"PC Files: notvirus.exe, funnycat.gif\") ➞ \"PC Files: notvirus.exe, funnycat.gif\")\n",
    "\n"
   ]
  },
  {
   "cell_type": "code",
   "execution_count": 434,
   "id": "d951b364",
   "metadata": {},
   "outputs": [],
   "source": [
    "def remove_virus(string):\n",
    "    try:\n",
    "        virus=[\"danger\",\"virus\",\"malware\",\"notsafe\",\"lethal\",\"risk\"]\n",
    "        not_virus=[\"no\",\"anti\"]\n",
    "        \n",
    "        files=string.split(\":\")[1].split(\",\")\n",
    "        safe_files=[]\n",
    "        for file in files:\n",
    "            is_virus=[j for j in virus if j in file]\n",
    "            check_anti=[j for j in not_virus if j in file]\n",
    "                    \n",
    "            if len(is_virus)>0 and len(check_anti)>0:\n",
    "                safe_files.append(file)\n",
    "            elif len(is_virus)==0:\n",
    "                safe_files.append(file)\n",
    "\n",
    "        return string.split(\":\")[0]+\": \"+str(\",\".join(safe_files))\n",
    "    except Exception as e:\n",
    "        print(\"error occurred\",e)"
   ]
  },
  {
   "cell_type": "code",
   "execution_count": 435,
   "id": "a7075f74",
   "metadata": {},
   "outputs": [
    {
     "data": {
      "text/plain": [
       "'PC Files:  spotifysetup.exe, dog.jpg'"
      ]
     },
     "execution_count": 435,
     "metadata": {},
     "output_type": "execute_result"
    }
   ],
   "source": [
    "remove_virus(\"PC Files: spotifysetup.exe, virus.exe, dog.jpg\")"
   ]
  },
  {
   "cell_type": "code",
   "execution_count": 436,
   "id": "6405907f",
   "metadata": {},
   "outputs": [
    {
     "data": {
      "text/plain": [
       "'PC Files:  antivirus.exe, cat.pdf'"
      ]
     },
     "execution_count": 436,
     "metadata": {},
     "output_type": "execute_result"
    }
   ],
   "source": [
    "remove_virus(\"PC Files: antivirus.exe, cat.pdf, lethalmalware.exe, dangerousvirus.exe \") "
   ]
  },
  {
   "cell_type": "code",
   "execution_count": 437,
   "id": "f7ce80e4",
   "metadata": {},
   "outputs": [
    {
     "data": {
      "text/plain": [
       "'PC Files:  notvirus.exe, funnycat.gif'"
      ]
     },
     "execution_count": 437,
     "metadata": {},
     "output_type": "execute_result"
    }
   ],
   "source": [
    "remove_virus(\"PC Files: notvirus.exe, funnycat.gif\")"
   ]
  },
  {
   "cell_type": "markdown",
   "id": "cdec2c0f",
   "metadata": {},
   "source": [
    "### 5. In a video game, a meteor will fall toward the main character's home planet. Given the meteor's trajectory as a string in the form y = mx + b and the character's position as a tuple of (x, y), return True if the meteor will hit the character and False if it will not.\n",
    "\n",
    "Examples\n",
    "\n",
    "will_hit(\"y = 2x - 5\", (0, 0)) ➞ False\n",
    "\n",
    "will_hit(\"y = -4x + 6\", (1, 2)) ➞ True\n",
    "\n",
    "will_hit(\"y = 2x + 6\", (3, 2)) ➞ False\n"
   ]
  },
  {
   "cell_type": "code",
   "execution_count": 288,
   "id": "f80d7922",
   "metadata": {},
   "outputs": [],
   "source": [
    "def will_hit(string,pos):\n",
    "    try:\n",
    "        m=float(string.split(\"=\")[1].split(\"x\")[0])\n",
    "        c=float(string.split(\"=\")[1].split(\" \")[-2]+string.split(\"=\")[1].split(\" \")[-1])\n",
    "        x=float(pos[0])\n",
    "        y=float(pos[1])\n",
    "        if y==m*x+c:\n",
    "            return True\n",
    "        else:\n",
    "            return False \n",
    "            \n",
    "        \n",
    "    except Exception as e:\n",
    "        print(\"error occurred\",e)"
   ]
  },
  {
   "cell_type": "code",
   "execution_count": 289,
   "id": "bc5616a2",
   "metadata": {},
   "outputs": [
    {
     "data": {
      "text/plain": [
       "False"
      ]
     },
     "execution_count": 289,
     "metadata": {},
     "output_type": "execute_result"
    }
   ],
   "source": [
    "will_hit(\"y = 2x - 5\", (0, 0)) "
   ]
  },
  {
   "cell_type": "code",
   "execution_count": 290,
   "id": "4087d514",
   "metadata": {},
   "outputs": [
    {
     "data": {
      "text/plain": [
       "True"
      ]
     },
     "execution_count": 290,
     "metadata": {},
     "output_type": "execute_result"
    }
   ],
   "source": [
    "will_hit(\"y = -4x + 6\", (1, 2))"
   ]
  },
  {
   "cell_type": "code",
   "execution_count": 291,
   "id": "71611f99",
   "metadata": {},
   "outputs": [
    {
     "data": {
      "text/plain": [
       "False"
      ]
     },
     "execution_count": 291,
     "metadata": {},
     "output_type": "execute_result"
    }
   ],
   "source": [
    "will_hit(\"y = 2x + 6\", (3, 2))"
   ]
  }
 ],
 "metadata": {
  "kernelspec": {
   "display_name": "Python 3",
   "language": "python",
   "name": "python3"
  },
  "language_info": {
   "codemirror_mode": {
    "name": "ipython",
    "version": 3
   },
   "file_extension": ".py",
   "mimetype": "text/x-python",
   "name": "python",
   "nbconvert_exporter": "python",
   "pygments_lexer": "ipython3",
   "version": "3.8.11"
  }
 },
 "nbformat": 4,
 "nbformat_minor": 5
}
