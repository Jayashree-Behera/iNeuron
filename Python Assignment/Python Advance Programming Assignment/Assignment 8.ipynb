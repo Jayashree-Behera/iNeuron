{
 "cells": [
  {
   "cell_type": "markdown",
   "id": "378bf492",
   "metadata": {},
   "source": [
    "### 1. Given a sentence as txt, return True if any two adjacent words have this property: One word ends with a vowel, while the word immediately after begins with a vowel (a e i o u).\n",
    "\n",
    "Examples\n",
    "\n",
    "vowel_links(\"a very large appliance\") ➞ True\n",
    "\n",
    "vowel_links(\"go to edabit\") ➞ True\n",
    "\n",
    "vowel_links(\"an open fire\") ➞ False\n",
    "\n",
    "vowel_links(\"a sudden applause\") ➞ False\n"
   ]
  },
  {
   "cell_type": "code",
   "execution_count": 17,
   "id": "47d1bec3",
   "metadata": {},
   "outputs": [],
   "source": [
    "def vowel_links(txt):\n",
    "    try:\n",
    "        words=txt.split()\n",
    "        vowel=\"aeiou\"\n",
    "        for i in range(len(words)-1):\n",
    "            if words[i][-1] in vowel:\n",
    "                if words[i+1][0] in vowel:\n",
    "                    print(\"True\")\n",
    "                    break;\n",
    "            else:\n",
    "                if i == len(words)-2:\n",
    "                    print(\"False\")\n",
    "                else:\n",
    "                    continue;\n",
    "    except Exception as e:\n",
    "        print(\"Error occurred\",e)\n",
    "        \n",
    "        "
   ]
  },
  {
   "cell_type": "code",
   "execution_count": 18,
   "id": "51cdf0e4",
   "metadata": {},
   "outputs": [
    {
     "name": "stdout",
     "output_type": "stream",
     "text": [
      "True\n"
     ]
    }
   ],
   "source": [
    "vowel_links(\"a very large appliance\")"
   ]
  },
  {
   "cell_type": "code",
   "execution_count": 19,
   "id": "5af2e1b3",
   "metadata": {},
   "outputs": [
    {
     "name": "stdout",
     "output_type": "stream",
     "text": [
      "False\n"
     ]
    }
   ],
   "source": [
    "vowel_links(\"a sudden applause\")"
   ]
  },
  {
   "cell_type": "markdown",
   "id": "f9f093f8",
   "metadata": {},
   "source": [
    "### 2. You are given three inputs: a string, one letter, and a second letter. Write a function that returns True if every instance of the first letter occurs before every instance of the second letter.\n",
    "\n",
    "Examples\n",
    "\n",
    "first_before_second(\"a rabbit jumps joyfully\", \"a\", \"j\") ➞ True\n",
    "\n",
    "#### Every instance of \"a\" occurs before every instance of \"j\".\n",
    "\n",
    "first_before_second(\"knaves knew about waterfalls\", \"k\", \"w\") ➞  True\n",
    "\n",
    "first_before_second(\"happy birthday\", \"a\", \"y\") ➞ False\n",
    "#### The \"a\" in \"birthday\" occurs after the \"y\" in \"happy\".\n",
    "\n",
    "first_before_second(\"precarious kangaroos\", \"k\", \"a\") ➞ False\n"
   ]
  },
  {
   "cell_type": "code",
   "execution_count": 34,
   "id": "27e3ca6a",
   "metadata": {},
   "outputs": [],
   "source": [
    "def first_before_second(string,first_letter,second_letter):\n",
    "    \n",
    "    try :\n",
    "        list1 = [i for i, c in enumerate(string) if c == first_letter ]\n",
    "        list2 = [i for i, c in enumerate(string) if c == second_letter]\n",
    "\n",
    "        print(all(list2) > all(list1))\n",
    "        \n",
    "    except Exception as e:\n",
    "        print(\"Error occurred\",e)"
   ]
  },
  {
   "cell_type": "code",
   "execution_count": 36,
   "id": "9d24e18a",
   "metadata": {},
   "outputs": [
    {
     "name": "stdout",
     "output_type": "stream",
     "text": [
      "True\n"
     ]
    }
   ],
   "source": [
    "first_before_second(\"a rabbit jumps joyfully\", \"a\", \"j\")"
   ]
  },
  {
   "cell_type": "code",
   "execution_count": 38,
   "id": "8922f300",
   "metadata": {},
   "outputs": [
    {
     "name": "stdout",
     "output_type": "stream",
     "text": [
      "False\n"
     ]
    }
   ],
   "source": [
    "first_before_second(\"precarious kangaroos\", \"k\", \"a\")"
   ]
  },
  {
   "cell_type": "markdown",
   "id": "9d16bc23",
   "metadata": {},
   "source": [
    "### 3. Create a function that returns the characters from a list or string r on odd or even positions, depending on the specifier s. The specifier will be \"odd\" for items on odd positions (1, 3, 5, ...) and \"even\" for items on even positions (2, 4, 6, ...).\n",
    "\n",
    "Examples\n",
    "\n",
    "char_at_pos([2, 4, 6, 8, 10], \"even\") ➞ [4, 8]\n",
    "#### 4 & 8 occupy the 2nd & 4th positions\n",
    "\n",
    "char_at_pos(\"EDABIT\", \"odd\") ➞ \"EAI\"\n",
    "#### \"E\", \"A\" and \"I\" occupy the 1st, 3rd and 5th positions\n",
    "\n",
    "char_at_pos([\"A\", \"R\", \"B\", \"I\", \"T\", \"R\", \"A\", \"R\", \"I\", \"L\", \"Y\"], \"odd\") ➞ [\"A\", \"B\", \"T\", \"A\", \"I\", \"Y\"]\n"
   ]
  },
  {
   "cell_type": "code",
   "execution_count": 244,
   "id": "c57883d6",
   "metadata": {},
   "outputs": [],
   "source": [
    "def char_at_pos(inp,s):\n",
    "    try:\n",
    "        seo = 0 if s.lower() == \"odd\" else 1 if s.lower() == \"even\" else s\n",
    "        ans=str(inp[seo])\n",
    "        while seo < len(inp)-2:\n",
    "            seo=seo+2\n",
    "            ans=ans+str(inp[seo])\n",
    "    \n",
    "        ans= type(inp)(ans)\n",
    "        print(ans)\n",
    "        \n",
    "    except Exception as e:\n",
    "        print(\"Error occurred :\",e)"
   ]
  },
  {
   "cell_type": "code",
   "execution_count": 247,
   "id": "2dd55080",
   "metadata": {},
   "outputs": [
    {
     "name": "stdout",
     "output_type": "stream",
     "text": [
      "EAI\n"
     ]
    }
   ],
   "source": [
    "char_at_pos(\"EDABIT\", \"odd\") "
   ]
  },
  {
   "cell_type": "code",
   "execution_count": 248,
   "id": "93cab237",
   "metadata": {},
   "outputs": [
    {
     "name": "stdout",
     "output_type": "stream",
     "text": [
      "['A', 'B', 'T', 'A', 'I', 'Y']\n"
     ]
    }
   ],
   "source": [
    "char_at_pos([\"A\", \"R\", \"B\", \"I\", \"T\", \"R\", \"A\", \"R\", \"I\", \"L\", \"Y\"], \"odd\")"
   ]
  },
  {
   "cell_type": "markdown",
   "id": "9b0b1f3b",
   "metadata": {},
   "source": [
    "### 4. Write a function that returns the greatest common divisor of all list elements. If the greatest common divisor is 1, return 1.\n",
    "\n",
    "Examples\n",
    "\n",
    "GCD([10, 20, 40]) ➞ 10\n",
    "\n",
    "GCD([1, 2, 3, 100]) ➞ 1\n",
    "\n",
    "GCD([1024, 192, 2048, 512]) ➞ 64\n"
   ]
  },
  {
   "cell_type": "code",
   "execution_count": 140,
   "id": "0b1cb320",
   "metadata": {},
   "outputs": [],
   "source": [
    "import math\n",
    "def GCD(lst):\n",
    "    try:\n",
    "        root=min(lst)\n",
    "        for i in range(len(lst)):\n",
    "            root=math.gcd(root,lst[i])\n",
    "        return root\n",
    "    except Exception as e:\n",
    "        print(\"Error occurred\",e)\n",
    "        "
   ]
  },
  {
   "cell_type": "code",
   "execution_count": 141,
   "id": "a88b0721",
   "metadata": {},
   "outputs": [
    {
     "data": {
      "text/plain": [
       "64"
      ]
     },
     "execution_count": 141,
     "metadata": {},
     "output_type": "execute_result"
    }
   ],
   "source": [
    "GCD([1024, 192, 2048, 512])"
   ]
  },
  {
   "cell_type": "markdown",
   "id": "1a623fb6",
   "metadata": {},
   "source": [
    "### 5. A number/string is a palindrome if the digits/characters are the same when read both forward and backward. Examples include \"racecar\" and 12321. Given a positive number n, check if n or the binary representation of n is palindromic. Return the following:\n",
    "\n",
    "- \"Decimal only.\" if only n is a palindrome.\n",
    "- \"Binary only.\" if only the binary representation of n is a palindrome.\n",
    "- \"Decimal and binary.\" if both are palindromes.\n",
    "- \"Neither!\" if neither are palindromes.\n",
    "\n",
    "Examples\n",
    "\n",
    "palindrome_type(1306031) ➞ \"Decimal only.\"\n",
    "#### decimal = 1306031\n",
    "#### binary  = \"100111110110110101111\"\n",
    "\n",
    "palindrome_type(427787) ➞ \"Binary only.\"\n",
    "#### decimal = 427787\n",
    "#### binary  = \"1101000011100001011\"\n",
    "\n",
    "palindrome_type(313) ➞ \"Decimal and binary.\"\n",
    "#### decimal = 313\n",
    "#### binary  = 100111001\n",
    "\n",
    "palindrome_type(934) ➞ \"Neither!\"\n",
    "#### decimal = 934\n",
    "#### binary  = \"1110100110\""
   ]
  },
  {
   "cell_type": "code",
   "execution_count": 204,
   "id": "bd65a7d2",
   "metadata": {},
   "outputs": [],
   "source": [
    "\n",
    "def palindrome_type(num):\n",
    "    try:\n",
    "        bin_num= bin(num)[2:]\n",
    "        full=[num,bin_num]\n",
    "        count=[]\n",
    "        for k in full:\n",
    "            n=list(str(k))\n",
    "            length= int(len(n)/2 if len(n) % 2 ==0 else (len(n)-1)/2)\n",
    "            ctr=0\n",
    "            for i in range(length):\n",
    "                if n[i] == n[-(i+1)]:\n",
    "                    ctr=ctr+1\n",
    "                else:\n",
    "                    break;\n",
    "        \n",
    "            if ctr==length:\n",
    "                count.append(k)\n",
    "        if num in count and bin_num in count:\n",
    "            print(\"Decimal and binary.\")\n",
    "        elif num in count:\n",
    "            print(\"Decimal only.\")\n",
    "        elif bin_num in count:\n",
    "            print(\"Binary only.\")\n",
    "        else:\n",
    "            print(\"Neither!\")\n",
    "    except Exception as e:\n",
    "        print(\"Error occurred\",e)\n",
    "        "
   ]
  },
  {
   "cell_type": "code",
   "execution_count": 208,
   "id": "42b09e72",
   "metadata": {},
   "outputs": [
    {
     "name": "stdout",
     "output_type": "stream",
     "text": [
      "Binary only.\n"
     ]
    }
   ],
   "source": [
    "palindrome_type(427787)"
   ]
  },
  {
   "cell_type": "code",
   "execution_count": 216,
   "id": "658fede6",
   "metadata": {},
   "outputs": [
    {
     "name": "stdout",
     "output_type": "stream",
     "text": [
      "Decimal and binary.\n"
     ]
    }
   ],
   "source": [
    "palindrome_type(313)"
   ]
  },
  {
   "cell_type": "code",
   "execution_count": null,
   "id": "70a38266",
   "metadata": {},
   "outputs": [],
   "source": []
  }
 ],
 "metadata": {
  "kernelspec": {
   "display_name": "Python 3",
   "language": "python",
   "name": "python3"
  },
  "language_info": {
   "codemirror_mode": {
    "name": "ipython",
    "version": 3
   },
   "file_extension": ".py",
   "mimetype": "text/x-python",
   "name": "python",
   "nbconvert_exporter": "python",
   "pygments_lexer": "ipython3",
   "version": "3.8.10"
  }
 },
 "nbformat": 4,
 "nbformat_minor": 5
}
