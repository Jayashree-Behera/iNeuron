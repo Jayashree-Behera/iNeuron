{
 "cells": [
  {
   "cell_type": "markdown",
   "id": "eb1f7680",
   "metadata": {},
   "source": [
    "### 1. Create a function that takes a list and string. The function should remove the letters in the string from the list, and return the list.\n",
    "\n",
    "Examples\n",
    "\n",
    "remove_letters([\"s\", \"t\", \"r\", \"i\", \"n\", \"g\", \"w\"], \"string\") ➞ [\"w\"]\n",
    "\n",
    "remove_letters([\"b\", \"b\", \"l\", \"l\", \"g\", \"n\", \"o\", \"a\", \"w\"], \"balloon\") ➞ [\"b\", \"g\", \"w\"]\n",
    "\n",
    "remove_letters([\"d\", \"b\", \"t\", \"e\", \"a\", \"i\"], \"edabit\") ➞ []\n"
   ]
  },
  {
   "cell_type": "code",
   "execution_count": 7,
   "id": "31144e46",
   "metadata": {},
   "outputs": [],
   "source": [
    "def remove_letters(lst,word):\n",
    "    try:\n",
    "        for i in range(len(word)):\n",
    "            if word[i] in lst:\n",
    "                lst.remove(word[i])\n",
    "        return lst\n",
    "    except Exception as e:\n",
    "        print(\"Error occurred \",e)"
   ]
  },
  {
   "cell_type": "code",
   "execution_count": 8,
   "id": "d7a942c4",
   "metadata": {},
   "outputs": [
    {
     "data": {
      "text/plain": [
       "['w']"
      ]
     },
     "execution_count": 8,
     "metadata": {},
     "output_type": "execute_result"
    }
   ],
   "source": [
    "remove_letters([\"s\", \"t\", \"r\", \"i\", \"n\", \"g\", \"w\"], \"string\") "
   ]
  },
  {
   "cell_type": "code",
   "execution_count": 10,
   "id": "12f87e86",
   "metadata": {},
   "outputs": [
    {
     "data": {
      "text/plain": [
       "[]"
      ]
     },
     "execution_count": 10,
     "metadata": {},
     "output_type": "execute_result"
    }
   ],
   "source": [
    "remove_letters([\"d\", \"b\", \"t\", \"e\", \"a\", \"i\"], \"edabit\")"
   ]
  },
  {
   "cell_type": "markdown",
   "id": "e0c67c12",
   "metadata": {},
   "source": [
    "### 2. A block sequence in three dimensions. We can write a formula for this one:\n",
    "\n",
    "\n",
    "Create a function that takes a number (step) as an argument and returns the amount of blocks in that step.\n",
    "\n",
    "Examples\n",
    "\n",
    "blocks(1) ➞ 5\n",
    "\n",
    "blocks(5) ➞ 39\n",
    "\n",
    "blocks(2) ➞ 12\n"
   ]
  },
  {
   "cell_type": "code",
   "execution_count": 24,
   "id": "05a98ebe",
   "metadata": {},
   "outputs": [],
   "source": [
    "def blocks(step):\n",
    "    try:\n",
    "        ans=3*(step-1)\n",
    "        for i in range(2,(3+step),1):\n",
    "            ans=ans+i\n",
    "        return ans\n",
    "    except Exception as e:\n",
    "        print(\"Error occurred \",e)"
   ]
  },
  {
   "cell_type": "code",
   "execution_count": 25,
   "id": "157e56d8",
   "metadata": {},
   "outputs": [
    {
     "data": {
      "text/plain": [
       "5"
      ]
     },
     "execution_count": 25,
     "metadata": {},
     "output_type": "execute_result"
    }
   ],
   "source": [
    "blocks(1)"
   ]
  },
  {
   "cell_type": "code",
   "execution_count": 26,
   "id": "78dcf2e6",
   "metadata": {},
   "outputs": [
    {
     "data": {
      "text/plain": [
       "39"
      ]
     },
     "execution_count": 26,
     "metadata": {},
     "output_type": "execute_result"
    }
   ],
   "source": [
    "blocks(5)"
   ]
  },
  {
   "cell_type": "markdown",
   "id": "b3a7cdee",
   "metadata": {},
   "source": [
    "### 3. Create a function that subtracts one positive integer from another, without using any arithmetic operators such as -, %, /, +, etc.\n",
    "\n",
    "Examples\n",
    "\n",
    "my_sub(5, 9) ➞ 4\n",
    "\n",
    "my_sub(10, 30) ➞ 20\n",
    "\n",
    "my_sub(0, 0) ➞ 0\n"
   ]
  },
  {
   "cell_type": "code",
   "execution_count": 38,
   "id": "4c11252b",
   "metadata": {},
   "outputs": [],
   "source": [
    "def my_sub(x,y):\n",
    "    try:\n",
    "        if x>=0 and y>=0:\n",
    "            ma=max(x,y)\n",
    "            mn=min(x,y)\n",
    "            ans=( ma ^ mn ) - ( ( (~ma) & mn ) << 1 )\n",
    "            return ans\n",
    "        else:\n",
    "            print(\"Only positive values are accepted\")\n",
    "    except Exception as e:\n",
    "        print(\"Error occurred \",e)"
   ]
  },
  {
   "cell_type": "code",
   "execution_count": 39,
   "id": "1895f4fe",
   "metadata": {},
   "outputs": [
    {
     "data": {
      "text/plain": [
       "20"
      ]
     },
     "execution_count": 39,
     "metadata": {},
     "output_type": "execute_result"
    }
   ],
   "source": [
    "my_sub(10, 30)"
   ]
  },
  {
   "cell_type": "code",
   "execution_count": 40,
   "id": "b5309ddb",
   "metadata": {},
   "outputs": [
    {
     "data": {
      "text/plain": [
       "0"
      ]
     },
     "execution_count": 40,
     "metadata": {},
     "output_type": "execute_result"
    }
   ],
   "source": [
    "my_sub(0,0) "
   ]
  },
  {
   "cell_type": "markdown",
   "id": "0a14d3d1",
   "metadata": {},
   "source": [
    "### 4. Create a function that takes a string containing money in dollars and pounds sterling (seperated by comma) and returns the sum of dollar bills only, as an integer.\n",
    "\n",
    "For the input string:\n",
    "\n",
    "   - Each amount is prefixed by the currency symbol: $ for dollars and £ for pounds.\n",
    "   - Thousands are represented by the suffix k.\n",
    "\n",
    "i.e. $4k = $4,000 and £40k = £40,000\n",
    "\n",
    "Examples\n",
    "\n",
    "add_bill(\"d20,p40,p60,d50\") ➞ 20 + 50 = 70\n",
    "\n",
    "add_bill(\"p30,d20,p60,d150,p360\") ➞ 20  + 150 = 170\n",
    "\n",
    "add_bill(\"p30,d2k,p60,d200,p360\") ➞ 2 * 1000 + 200 = 2200\n"
   ]
  },
  {
   "cell_type": "code",
   "execution_count": 44,
   "id": "8eab4e9d",
   "metadata": {},
   "outputs": [],
   "source": [
    "def add_bill(money):\n",
    "    try:\n",
    "        money=money.split(\",\")\n",
    "        tot_dollars=0\n",
    "        for item in money:\n",
    "            if item[0]==\"$\":\n",
    "                if item[-1]==\"k\":\n",
    "                    tot_dollars=tot_dollars+int(item[1:-1])*1000\n",
    "                else:\n",
    "                    tot_dollars=tot_dollars+int(item[1:])\n",
    "                    \n",
    "        return tot_dollars\n",
    "                    \n",
    "    except Exception as e:\n",
    "        print(\"Error occurred \",e)"
   ]
  },
  {
   "cell_type": "code",
   "execution_count": 45,
   "id": "f55ed322",
   "metadata": {},
   "outputs": [
    {
     "data": {
      "text/plain": [
       "70"
      ]
     },
     "execution_count": 45,
     "metadata": {},
     "output_type": "execute_result"
    }
   ],
   "source": [
    "add_bill(\"$20,p40,p60,$50\")"
   ]
  },
  {
   "cell_type": "code",
   "execution_count": 46,
   "id": "a9f0195f",
   "metadata": {},
   "outputs": [
    {
     "data": {
      "text/plain": [
       "2200"
      ]
     },
     "execution_count": 46,
     "metadata": {},
     "output_type": "execute_result"
    }
   ],
   "source": [
    "add_bill(\"p30,$2k,p60,$200,p360\") "
   ]
  },
  {
   "cell_type": "markdown",
   "id": "a7eb34cd",
   "metadata": {},
   "source": [
    "### 5. Create a function that flips a horizontal list into a vertical list, and a vertical list into a horizontal list.\n",
    "\n",
    "In other words, take an 1 x n list (1 row + n columns) and flip it into a n x 1 list (n rows and 1 column), and vice versa.\n",
    "\n",
    "Examples\n",
    "\n",
    "flip_list([1, 2, 3, 4]) ➞ [[1], [2], [3], [4]]\n",
    "#### Take a horizontal list and flip it vertical.\n",
    "\n",
    "flip_list([[5], [6], [9]]) ➞ [5, 6, 9]\n",
    "#### Take a vertical list and flip it horizontal.\n",
    "\n",
    "flip_list([]) ➞ []\n"
   ]
  },
  {
   "cell_type": "code",
   "execution_count": 76,
   "id": "545b6d05",
   "metadata": {},
   "outputs": [],
   "source": [
    "def flip_list(lst):\n",
    "    try:\n",
    "        if not lst:\n",
    "            ans = lst\n",
    "        else:\n",
    "            check_vertical = isinstance(lst[0], list)\n",
    "    \n",
    "            if check_vertical:\n",
    "                ans = [item[0] for item in lst]\n",
    "            else :\n",
    "                ans = [[item] for item in lst]\n",
    "        \n",
    "        return ans\n",
    "        \n",
    "    except Exception as e:\n",
    "        print(\"Error occurred \",e)    "
   ]
  },
  {
   "cell_type": "code",
   "execution_count": 77,
   "id": "be9e8a7a",
   "metadata": {},
   "outputs": [
    {
     "data": {
      "text/plain": [
       "[5, 6, 9]"
      ]
     },
     "execution_count": 77,
     "metadata": {},
     "output_type": "execute_result"
    }
   ],
   "source": [
    "flip_list([[5], [6], [9]]) "
   ]
  },
  {
   "cell_type": "code",
   "execution_count": 78,
   "id": "eafc4354",
   "metadata": {},
   "outputs": [
    {
     "data": {
      "text/plain": [
       "[]"
      ]
     },
     "execution_count": 78,
     "metadata": {},
     "output_type": "execute_result"
    }
   ],
   "source": [
    "flip_list([])"
   ]
  },
  {
   "cell_type": "code",
   "execution_count": 79,
   "id": "7bc9b70a",
   "metadata": {},
   "outputs": [
    {
     "data": {
      "text/plain": [
       "[[1], [2], [3], [4]]"
      ]
     },
     "execution_count": 79,
     "metadata": {},
     "output_type": "execute_result"
    }
   ],
   "source": [
    "flip_list([1, 2, 3, 4])"
   ]
  }
 ],
 "metadata": {
  "kernelspec": {
   "display_name": "Python 3",
   "language": "python",
   "name": "python3"
  },
  "language_info": {
   "codemirror_mode": {
    "name": "ipython",
    "version": 3
   },
   "file_extension": ".py",
   "mimetype": "text/x-python",
   "name": "python",
   "nbconvert_exporter": "python",
   "pygments_lexer": "ipython3",
   "version": "3.8.11"
  }
 },
 "nbformat": 4,
 "nbformat_minor": 5
}
