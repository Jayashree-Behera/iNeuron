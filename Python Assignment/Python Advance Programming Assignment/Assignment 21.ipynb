{
 "cells": [
  {
   "cell_type": "markdown",
   "id": "5b78f636",
   "metadata": {},
   "source": [
    "### 1. Given a sentence, return the number of words which have the same first and last letter.\n",
    "\n",
    "Examples\n",
    "\n",
    "count_same_ends(\"Pop! goes the balloon\") ➞ 1\n",
    "\n",
    "count_same_ends(\"And the crowd goes wild!\") ➞ 0\n",
    "\n",
    "count_same_ends(\"No I am not in a gang.\") ➞ 1\n"
   ]
  },
  {
   "cell_type": "code",
   "execution_count": 14,
   "id": "ebb0e1da",
   "metadata": {},
   "outputs": [],
   "source": [
    "import re\n",
    "def count_same_ends(sen):\n",
    "    try:\n",
    "        sen=sen.split(\" \")\n",
    "        sen=[re.sub('[^a-zA-Z0-9]+', '', i.lower()) for i in sen]\n",
    "        ans=0\n",
    "        for word in sen:\n",
    "            if len(word)>1 and word[0]==word[-1]:\n",
    "                ans=ans+1\n",
    "        return ans                \n",
    "\n",
    "    except Exception as e:\n",
    "        print(\"error occurred\",e)"
   ]
  },
  {
   "cell_type": "code",
   "execution_count": 15,
   "id": "01a9b74c",
   "metadata": {},
   "outputs": [
    {
     "data": {
      "text/plain": [
       "1"
      ]
     },
     "execution_count": 15,
     "metadata": {},
     "output_type": "execute_result"
    }
   ],
   "source": [
    "count_same_ends(\"Pop! goes the balloon\")"
   ]
  },
  {
   "cell_type": "code",
   "execution_count": 22,
   "id": "2b2fff5a",
   "metadata": {},
   "outputs": [
    {
     "data": {
      "text/plain": [
       "0"
      ]
     },
     "execution_count": 22,
     "metadata": {},
     "output_type": "execute_result"
    }
   ],
   "source": [
    "count_same_ends(\"And the crowd goes wild!\")"
   ]
  },
  {
   "cell_type": "markdown",
   "id": "87409e5e",
   "metadata": {},
   "source": [
    "### 2. The Atbash cipher is an encryption method in which each letter of a word is replaced with its \"mirror\" letter in the alphabet: A <=> Z; B <=> Y; C <=> X; etc.\n",
    "\n",
    "Create a function that takes a string and applies the Atbash cipher to it.\n",
    "\n",
    "Examples\n",
    "\n",
    "atbash(\"apple\") ➞ \"zkkov\"\n",
    "\n",
    "atbash(\"Hello world!\") ➞ \"Svool dliow!\"\n",
    "\n",
    "atbash(\"Christmas is the 25th of December\") ➞ \"Xsirhgnzh rh gsv 25gs lu Wvxvnyvi\"\n"
   ]
  },
  {
   "cell_type": "code",
   "execution_count": 49,
   "id": "3d208a0e",
   "metadata": {},
   "outputs": [],
   "source": [
    "import string\n",
    "def atbash(sen):\n",
    "    try:\n",
    "        ans=\"\"\n",
    "        low_letters=string.ascii_lowercase\n",
    "        up_letters=string.ascii_uppercase\n",
    "        for char in sen:\n",
    "            if char.lower() in low_letters:\n",
    "                letters=low_letters if char in low_letters else up_letters\n",
    "                index=letters.index(char)\n",
    "                ans=ans+letters[-(index+1)]                \n",
    "            else:\n",
    "                ans=ans+char\n",
    "        return ans                \n",
    "\n",
    "    except Exception as e:\n",
    "        print(\"error occurred\",e)\n"
   ]
  },
  {
   "cell_type": "code",
   "execution_count": 50,
   "id": "a94fb8c3",
   "metadata": {},
   "outputs": [
    {
     "data": {
      "text/plain": [
       "'Xsirhgnzh rh gsv 25gs lu Wvxvnyvi'"
      ]
     },
     "execution_count": 50,
     "metadata": {},
     "output_type": "execute_result"
    }
   ],
   "source": [
    "atbash(\"Christmas is the 25th of December\")"
   ]
  },
  {
   "cell_type": "code",
   "execution_count": 51,
   "id": "a9dfe9c8",
   "metadata": {},
   "outputs": [
    {
     "data": {
      "text/plain": [
       "'Svool dliow!'"
      ]
     },
     "execution_count": 51,
     "metadata": {},
     "output_type": "execute_result"
    }
   ],
   "source": [
    "atbash(\"Hello world!\") "
   ]
  },
  {
   "cell_type": "markdown",
   "id": "856cc79b",
   "metadata": {},
   "source": [
    "### 3. Create a class Employee that will take a full name as argument, as well as a set of none, one or more keywords. Each instance should have a name and a lastname attributes plus one more attribute for each of the keywords, if any.\n",
    "\n",
    "Examples\n",
    "\n",
    "john = Employee(\"John Doe\")\n",
    "mary = Employee(\"Mary Major\", salary=120000)\n",
    "richard = Employee(\"Richard Roe\", salary=110000, height=178)\n",
    "giancarlo = Employee(\"Giancarlo Rossi\", salary=115000, height=182, nationality=\"Italian\")\n",
    "\n",
    "john.name ➞ \"John\"\n",
    "mary.lastname ➞ \"Major\"\n",
    "richard.height ➞ 178\n",
    "giancarlo.nationality ➞ \"Italian\"\n",
    "\n"
   ]
  },
  {
   "cell_type": "code",
   "execution_count": 118,
   "id": "0086eeb1",
   "metadata": {},
   "outputs": [],
   "source": [
    "class Employee:\n",
    "    def __init__(self,full_name,**kwargs):\n",
    "        self.name = full_name.split(\" \")[0]\n",
    "        self.lastname = full_name.split(\" \")[1]\n",
    "        self.__dict__.update(kwargs)\n",
    "        "
   ]
  },
  {
   "cell_type": "code",
   "execution_count": 119,
   "id": "ceeb46ee",
   "metadata": {},
   "outputs": [],
   "source": [
    "richard = Employee(\"Richard Roe\", salary=110000, height=178) "
   ]
  },
  {
   "cell_type": "code",
   "execution_count": 120,
   "id": "8bede0d4",
   "metadata": {},
   "outputs": [
    {
     "data": {
      "text/plain": [
       "178"
      ]
     },
     "execution_count": 120,
     "metadata": {},
     "output_type": "execute_result"
    }
   ],
   "source": [
    "richard.height"
   ]
  },
  {
   "cell_type": "markdown",
   "id": "bc39cd68",
   "metadata": {},
   "source": [
    "### 4. Create a function that determines whether each seat can \"see\" the front-stage. A number can \"see\" the front-stage if it is strictly greater than the number before it.\n",
    "\n",
    "Everyone can see the front-stage in the example below:\n",
    "\n",
    "#### FRONT STAGE\n",
    "[[1, 2, 3, 2, 1, 1],\n",
    "[2, 4, 4, 3, 2, 2],\n",
    "[5, 5, 5, 5, 4, 4],\n",
    "[6, 6, 7, 6, 5, 5]]\n",
    "\n",
    "#### Starting from the left, the 6 > 5 > 2 > 1, so all numbers can see.\n",
    "#### 6 > 5 > 4 > 2 - so all numbers can see, etc.\n",
    "\n",
    "Not everyone can see the front-stage in the example below:\n",
    "\n",
    "#### FRONT STAGE\n",
    "[[1, 2, 3, 2, 1, 1], \n",
    "[2, 4, 4, 3, 2, 2], \n",
    "[5, 5, 5, 10, 4, 4], \n",
    "[6, 6, 7, 6, 5, 5]]\n",
    "\n",
    "#### The 10 is directly in front of the 6 and blocking its view.\n",
    "\n",
    "The function should return True if every number can see the front-stage, and False if even a single number cannot.\n",
    "\n",
    "Examples\n",
    "\n",
    "can_see_stage([\n",
    "  [1, 2, 3],\n",
    "  [4, 5, 6],\n",
    "  [7, 8, 9]\n",
    "]) ➞ True\n",
    "\n",
    "can_see_stage([\n",
    "  [0, 0, 0],\n",
    "  [1, 1, 1],\n",
    "  [2, 2, 2]\n",
    "]) ➞ True\n",
    "\n",
    "can_see_stage([\n",
    "  [2, 0, 0], \n",
    "  [1, 1, 1], \n",
    "  [2, 2, 2]\n",
    "]) ➞ False\n",
    "\n",
    "can_see_stage([\n",
    "  [1, 0, 0],\n",
    "  [1, 1, 1],\n",
    "  [2, 2, 2]\n",
    "]) ➞ False\n",
    "\n",
    "#### Number must be strictly smaller than \n",
    "#### the number directly behind it.\n"
   ]
  },
  {
   "cell_type": "code",
   "execution_count": 101,
   "id": "1ea52be6",
   "metadata": {},
   "outputs": [],
   "source": [
    "def can_see_stage(lst):\n",
    "    try:\n",
    "        lst=list(zip(*lst))\n",
    "        for line in lst:\n",
    "            line=list(line)\n",
    "            if line==sorted(set(line), key=line.index) and sorted(line)==line:\n",
    "                ans=True\n",
    "            else:\n",
    "                ans=False\n",
    "                break\n",
    "                \n",
    "        return ans                \n",
    "    except Exception as e:\n",
    "        print(\"error occurred\",e)"
   ]
  },
  {
   "cell_type": "code",
   "execution_count": 102,
   "id": "b6627692",
   "metadata": {},
   "outputs": [
    {
     "data": {
      "text/plain": [
       "False"
      ]
     },
     "execution_count": 102,
     "metadata": {},
     "output_type": "execute_result"
    }
   ],
   "source": [
    "can_see_stage([ [1, 0, 0], [1, 1, 1], [2, 2, 2] ])"
   ]
  },
  {
   "cell_type": "code",
   "execution_count": 103,
   "id": "bed4ce86",
   "metadata": {},
   "outputs": [
    {
     "data": {
      "text/plain": [
       "True"
      ]
     },
     "execution_count": 103,
     "metadata": {},
     "output_type": "execute_result"
    }
   ],
   "source": [
    "can_see_stage([ [0, 0, 0], [1, 1, 1], [2, 2, 2] ])"
   ]
  },
  {
   "cell_type": "code",
   "execution_count": 104,
   "id": "a371a03b",
   "metadata": {},
   "outputs": [
    {
     "data": {
      "text/plain": [
       "True"
      ]
     },
     "execution_count": 104,
     "metadata": {},
     "output_type": "execute_result"
    }
   ],
   "source": [
    "can_see_stage([ [1, 2, 3], [4, 5, 6], [7, 8, 9] ])"
   ]
  },
  {
   "cell_type": "markdown",
   "id": "3401ca5b",
   "metadata": {},
   "source": [
    "### 5. Create a Pizza class with the attributes order_number and ingredients (which is given as a list). Only the ingredients will be given as input.\n",
    "\n",
    "You should also make it so that its possible to choose a ready made pizza flavour rather than typing out the ingredients manually! As well as creating this Pizza class, hard-code the following pizza flavours.\n",
    "\n",
    "Name\t                    Ingredients\n",
    "hawaiian\t          ham, pineapple\n",
    "meat_festival\tbeef, meatball, bacon\n",
    "garden_feast\tspinach, olives, mushroom\n",
    "\n",
    "Examples\n",
    "\n",
    "p1 = Pizza([\"bacon\", \"parmesan\", \"ham\"])    # order 1\n",
    "p2 = Pizza.garden_feast()                  # order 2\n",
    "\n",
    "p1.ingredients ➞ [\"bacon\", \"parmesan\", \"ham\"]\n",
    "\n",
    "p2.ingredients ➞ [\"spinach\", \"olives\", \"mushroom\"]\n",
    "\n",
    "p1.order_number ➞ 1\n",
    "\n",
    "p2.order_number ➞ 2\n"
   ]
  },
  {
   "cell_type": "code",
   "execution_count": 375,
   "id": "faabba98",
   "metadata": {},
   "outputs": [],
   "source": [
    "class Pizza():\n",
    "    order_num = 0\n",
    "    def __init__(self, ingredients):\n",
    "        Pizza.order_num += 1\n",
    "        self.order_number = Pizza.order_num\n",
    "        self.ingredients = ingredients\n",
    "    @classmethod    \n",
    "    def garden_feast(cls):\n",
    "        return cls([\"spinach\", \"olives\", \"mushroom\"])\n",
    "        \n",
    "    def hawaiian(cls):\n",
    "        return cls([\"ham\", \"pineapple\"])\n",
    "    \n",
    "    def meat_festival(cls):\n",
    "        return cls([\"beef\", \"meatball\", \"bacon\"])\n"
   ]
  },
  {
   "cell_type": "code",
   "execution_count": 376,
   "id": "acf6b4d3",
   "metadata": {},
   "outputs": [],
   "source": [
    "p2=Pizza.garden_feast()"
   ]
  },
  {
   "cell_type": "code",
   "execution_count": 377,
   "id": "8d6a2398",
   "metadata": {},
   "outputs": [
    {
     "data": {
      "text/plain": [
       "['spinach', 'olives', 'mushroom']"
      ]
     },
     "execution_count": 377,
     "metadata": {},
     "output_type": "execute_result"
    }
   ],
   "source": [
    "p2.ingredients"
   ]
  },
  {
   "cell_type": "code",
   "execution_count": 378,
   "id": "3ad4ecbb",
   "metadata": {},
   "outputs": [
    {
     "data": {
      "text/plain": [
       "1"
      ]
     },
     "execution_count": 378,
     "metadata": {},
     "output_type": "execute_result"
    }
   ],
   "source": [
    "p2.order_number"
   ]
  },
  {
   "cell_type": "code",
   "execution_count": 379,
   "id": "d90ea901",
   "metadata": {},
   "outputs": [],
   "source": [
    "p1 = Pizza([\"bacon\", \"parmesan\", \"ham\"]) "
   ]
  },
  {
   "cell_type": "code",
   "execution_count": 380,
   "id": "2eb162b9",
   "metadata": {},
   "outputs": [
    {
     "data": {
      "text/plain": [
       "['bacon', 'parmesan', 'ham']"
      ]
     },
     "execution_count": 380,
     "metadata": {},
     "output_type": "execute_result"
    }
   ],
   "source": [
    "p1.ingredients"
   ]
  },
  {
   "cell_type": "code",
   "execution_count": 381,
   "id": "abdf7ca6",
   "metadata": {},
   "outputs": [
    {
     "data": {
      "text/plain": [
       "2"
      ]
     },
     "execution_count": 381,
     "metadata": {},
     "output_type": "execute_result"
    }
   ],
   "source": [
    "p1.order_number"
   ]
  }
 ],
 "metadata": {
  "kernelspec": {
   "display_name": "Python 3",
   "language": "python",
   "name": "python3"
  },
  "language_info": {
   "codemirror_mode": {
    "name": "ipython",
    "version": 3
   },
   "file_extension": ".py",
   "mimetype": "text/x-python",
   "name": "python",
   "nbconvert_exporter": "python",
   "pygments_lexer": "ipython3",
   "version": "3.8.11"
  }
 },
 "nbformat": 4,
 "nbformat_minor": 5
}
