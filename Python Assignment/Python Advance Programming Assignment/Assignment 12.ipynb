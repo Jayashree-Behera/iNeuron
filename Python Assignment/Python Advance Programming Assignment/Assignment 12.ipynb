{
 "cells": [
  {
   "cell_type": "markdown",
   "id": "8643949f",
   "metadata": {},
   "source": [
    "### 1. For this challenge, forget how to add two numbers together. The best explanation on what to do for this function is this meme:\n",
    "\n",
    "\n",
    "\n",
    "\n",
    "Examples\n",
    "\n",
    "meme_sum(26, 39) ➞ 515\n",
    "#### 2+3 = 5, 6+9 = 15\n",
    "#### 26 + 39 = 515\n",
    "\n",
    "meme_sum(122, 81) ➞ 1103\n",
    "#### 1+0 = 1, 2+8 = 10, 2+1 = 3\n",
    "#### 122 + 81 = 1103\n",
    "\n",
    "meme_sum(1222, 30277) ➞ 31499\n"
   ]
  },
  {
   "cell_type": "code",
   "execution_count": 89,
   "id": "0e8da216",
   "metadata": {},
   "outputs": [],
   "source": [
    "def meme_sum(a,b):\n",
    "    try:\n",
    "        tot=[str(a),str(b)]\n",
    "        if len(str(a))==len(str(b)):\n",
    "            long=str(a)\n",
    "            short=str(b)\n",
    "        else:\n",
    "            long = max(tot, key=len)\n",
    "            short= min(tot, key=len)\n",
    "        ans=[]\n",
    "        for i in range(1,len(long)+1):\n",
    "            if i <= len(short):\n",
    "                ans.insert(0,int(long[-i])+int(short[-i]))\n",
    "            else:\n",
    "                ans.insert(0,int(long[0:len(long)-i+1]))\n",
    "                break\n",
    "        print(''.join(map(str, ans)))\n",
    "    except Exception as e:\n",
    "        print(\"error occurred:\",e)"
   ]
  },
  {
   "cell_type": "code",
   "execution_count": 91,
   "id": "b9076188",
   "metadata": {},
   "outputs": [
    {
     "name": "stdout",
     "output_type": "stream",
     "text": [
      "31499\n"
     ]
    }
   ],
   "source": [
    "meme_sum(1222, 30277) "
   ]
  },
  {
   "cell_type": "code",
   "execution_count": 92,
   "id": "4cd4d533",
   "metadata": {},
   "outputs": [
    {
     "name": "stdout",
     "output_type": "stream",
     "text": [
      "515\n"
     ]
    }
   ],
   "source": [
    "meme_sum(26, 39)"
   ]
  },
  {
   "cell_type": "markdown",
   "id": "06fbe341",
   "metadata": {},
   "source": [
    "### 2. Given an integer, create a function that returns the next prime. If the number is prime, return the number itself.\n",
    "\n",
    "Examples\n",
    "\n",
    "next_prime(12) ➞ 13\n",
    "\n",
    "next_prime(24) ➞ 29\n",
    "\n",
    "next_prime(11) ➞ 11\n",
    "#### 11 is a prime, so we return the number itself.\n"
   ]
  },
  {
   "cell_type": "code",
   "execution_count": 100,
   "id": "3085752d",
   "metadata": {},
   "outputs": [],
   "source": [
    "def next_prime(n):\n",
    "    try:\n",
    "        i=n\n",
    "        found=False\n",
    "        while i>0:\n",
    "            for j in range(2,i):\n",
    "                if i % j==0:\n",
    "                    found=False\n",
    "                    break\n",
    "                else:\n",
    "                    found=True\n",
    "            if found:\n",
    "                print(i)\n",
    "                break\n",
    "            else:\n",
    "                i=i+1\n",
    "    \n",
    "    except Exception as e:\n",
    "        print(\"error occurred:\",e)            "
   ]
  },
  {
   "cell_type": "code",
   "execution_count": 101,
   "id": "26b1aa92",
   "metadata": {},
   "outputs": [
    {
     "name": "stdout",
     "output_type": "stream",
     "text": [
      "11\n"
     ]
    }
   ],
   "source": [
    "next_prime(11)"
   ]
  },
  {
   "cell_type": "code",
   "execution_count": 103,
   "id": "b8e37325",
   "metadata": {},
   "outputs": [
    {
     "name": "stdout",
     "output_type": "stream",
     "text": [
      "29\n"
     ]
    }
   ],
   "source": [
    "next_prime(24)"
   ]
  },
  {
   "cell_type": "markdown",
   "id": "61c36c8f",
   "metadata": {},
   "source": [
    "### 3. If a person traveled up a hill for 18mins at 20mph and then traveled back down the same path at 60mph then their average speed traveled was 30mph.\n",
    "\n",
    "Write a function that returns the average speed traveled given an uphill time, uphill rate and a downhill rate. Uphill time is given in minutes. Return the rate as an integer (mph). No rounding is necessary.\n",
    "\n",
    "Examples\n",
    "\n",
    "ave_spd(18, 20, 60) ➞ 30\n",
    "\n",
    "ave_spd(30, 10, 30) ➞ 15\n",
    "\n",
    "ave_spd(30, 8, 24) ➞ 12\n"
   ]
  },
  {
   "cell_type": "code",
   "execution_count": 108,
   "id": "8bbc1b67",
   "metadata": {},
   "outputs": [],
   "source": [
    "def ave_spd(ut,ur,dr):\n",
    "    try:\n",
    "        ut=ut/60\n",
    "        d=ut*ur\n",
    "        dt=d/dr\n",
    "        avg_v=(d*2)/(dt+ut)\n",
    "        return int(avg_v)\n",
    "\n",
    "    except Exception as e:\n",
    "        print(\"error occurred:\",e)  "
   ]
  },
  {
   "cell_type": "code",
   "execution_count": 109,
   "id": "cfa851db",
   "metadata": {},
   "outputs": [
    {
     "data": {
      "text/plain": [
       "30"
      ]
     },
     "execution_count": 109,
     "metadata": {},
     "output_type": "execute_result"
    }
   ],
   "source": [
    "ave_spd(18, 20, 60)"
   ]
  },
  {
   "cell_type": "code",
   "execution_count": 111,
   "id": "ef9701d4",
   "metadata": {},
   "outputs": [
    {
     "data": {
      "text/plain": [
       "12"
      ]
     },
     "execution_count": 111,
     "metadata": {},
     "output_type": "execute_result"
    }
   ],
   "source": [
    "ave_spd(30, 8, 24)"
   ]
  },
  {
   "cell_type": "markdown",
   "id": "0a7c4bf5",
   "metadata": {},
   "source": [
    "### 4. The Kempner Function, applied to a composite number, permits to find the smallest integer greater than zero whose factorial is exactly divided by the number.\n",
    "\n",
    "kempner(6) ➞ 3\n",
    "\n",
    "1! = 1 % 6 > 0\n",
    "\n",
    "2! = 2 % 6 > 0\n",
    "\n",
    "3! = 6 % 6 === 0\n",
    "\n",
    "kempner(10) ➞ 5\n",
    "\n",
    "1! = 1 % 10 > 0\n",
    "\n",
    "2! = 2 % 10 > 0\n",
    "\n",
    "3! = 6 % 10 > 0\n",
    "\n",
    "4! = 24 % 10 > 0\n",
    "\n",
    "5! = 120 % 10 === 0\n",
    "\n",
    "A Kempner Function applied to a prime will always return the prime itself.\n",
    "\n",
    "kempner(2) ➞ 2\n",
    "\n",
    "kempner(5) ➞ 5\n",
    "\n",
    "Given an integer n, implement a Kempner Function.\n",
    "\n",
    "Examples\n",
    "\n",
    "kempner(6) ➞ 3\n",
    "\n",
    "kempner(10) ➞ 5\n",
    "\n",
    "kempner(2) ➞ 2\n"
   ]
  },
  {
   "cell_type": "code",
   "execution_count": 114,
   "id": "ae6ee1f5",
   "metadata": {},
   "outputs": [],
   "source": [
    "import math\n",
    "def kempner(n):\n",
    "    try:\n",
    "        for i in range(1,n+1):\n",
    "            if math.factorial(i)%n==0:\n",
    "                print(i)\n",
    "                break\n",
    "            else:\n",
    "                continue\n",
    "\n",
    "    except Exception as e:\n",
    "        print(\"error occurred:\",e) "
   ]
  },
  {
   "cell_type": "code",
   "execution_count": 117,
   "id": "e9ccdc17",
   "metadata": {},
   "outputs": [
    {
     "name": "stdout",
     "output_type": "stream",
     "text": [
      "3\n"
     ]
    }
   ],
   "source": [
    "kempner(6)"
   ]
  },
  {
   "cell_type": "code",
   "execution_count": 116,
   "id": "2861212d",
   "metadata": {},
   "outputs": [
    {
     "name": "stdout",
     "output_type": "stream",
     "text": [
      "2\n"
     ]
    }
   ],
   "source": [
    "kempner(2)"
   ]
  },
  {
   "cell_type": "markdown",
   "id": "837f9da4",
   "metadata": {},
   "source": [
    "### 5. You work in a factory, and your job is to take items from a conveyor belt and pack them into boxes. Each box can hold a maximum of 10 kgs. Given a list containing the weight (in kg) of each item, how many boxes would you need to pack all of the items?\n",
    "\n",
    "Example\n",
    "\n",
    "boxes([2, 1, 2, 5, 4, 3, 6, 1, 1, 9, 3, 2]) ➞ 5\n",
    "\n",
    "#### Box 1 = [2, 1, 2, 5] (10kg)\n",
    "#### Box 2 = [4, 3] (7kg)\n",
    "#### Box 3 = [6, 1, 1] (8kg)\n",
    "#### Box 4 = [9] (9kg)\n",
    "#### Box 5 = [3, 2] (5kg)\n"
   ]
  },
  {
   "cell_type": "code",
   "execution_count": 152,
   "id": "7070a772",
   "metadata": {},
   "outputs": [],
   "source": [
    "def boxes(lst):\n",
    "    try:\n",
    "        w=10\n",
    "        count=1\n",
    "        i=0\n",
    "        max=0\n",
    "        while i < len(lst):\n",
    "            max=max+lst[i]\n",
    "            if max <= w:\n",
    "                i=i+1\n",
    "            else:\n",
    "                count=count+1\n",
    "                max=0                \n",
    "        print(count)  \n",
    "\n",
    "    except Exception as e:\n",
    "        print(\"error occurred:\",e) "
   ]
  },
  {
   "cell_type": "code",
   "execution_count": 153,
   "id": "10ea1527",
   "metadata": {},
   "outputs": [
    {
     "name": "stdout",
     "output_type": "stream",
     "text": [
      "5\n"
     ]
    }
   ],
   "source": [
    "boxes([2, 1, 2, 5, 4, 3, 6, 1, 1, 9, 3, 2])"
   ]
  },
  {
   "cell_type": "code",
   "execution_count": null,
   "id": "d23bf5aa",
   "metadata": {},
   "outputs": [],
   "source": []
  }
 ],
 "metadata": {
  "kernelspec": {
   "display_name": "Python 3",
   "language": "python",
   "name": "python3"
  },
  "language_info": {
   "codemirror_mode": {
    "name": "ipython",
    "version": 3
   },
   "file_extension": ".py",
   "mimetype": "text/x-python",
   "name": "python",
   "nbconvert_exporter": "python",
   "pygments_lexer": "ipython3",
   "version": "3.8.11"
  }
 },
 "nbformat": 4,
 "nbformat_minor": 5
}
