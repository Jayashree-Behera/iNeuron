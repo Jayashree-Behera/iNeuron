{
 "cells": [
  {
   "cell_type": "markdown",
   "id": "a6e49f96",
   "metadata": {},
   "source": [
    "### 1. Create a function that takes a list and returns a new list containing only prime numbers.\n",
    "\n",
    "Examples\n",
    "\n",
    "filter_primes([7, 9, 3, 9, 10, 11, 27]) ➞ [7, 3, 11]\n",
    "\n",
    "filter_primes([10007, 1009, 1007, 27, 147, 77, 1001, 70]) ➞ [10007, 1009]\n",
    "\n",
    "filter_primes([1009, 10, 10, 10, 3, 33, 9, 4, 1, 61, 63, 69, 1087, 1091, 1093, 1097]) ➞ [1009, 3, 61, 1087, 1091, 1093, 1097]\n"
   ]
  },
  {
   "cell_type": "code",
   "execution_count": 9,
   "id": "1c3a81d6",
   "metadata": {},
   "outputs": [],
   "source": [
    "def filter_primes(lst):\n",
    "    try:\n",
    "        ans=[]\n",
    "        for ele in lst:\n",
    "            fac=False\n",
    "            if ele > 1:\n",
    "                for i in range(2,ele):\n",
    "                    if ele % i == 0:\n",
    "                        fac=True\n",
    "                        break\n",
    "                if not fac:\n",
    "                    ans.append(ele)\n",
    "        if ans:\n",
    "            print(ans)\n",
    "        else:\n",
    "            print(\"None\")\n",
    "        \n",
    "    except Exception as e:\n",
    "        print(\"error occurred\",e)"
   ]
  },
  {
   "cell_type": "code",
   "execution_count": 12,
   "id": "384e8abf",
   "metadata": {},
   "outputs": [
    {
     "name": "stdout",
     "output_type": "stream",
     "text": [
      "[10007, 1009]\n"
     ]
    }
   ],
   "source": [
    "filter_primes([10007, 1009, 1007, 27, 147, 77, 1001, 70])"
   ]
  },
  {
   "cell_type": "markdown",
   "id": "0889ec31",
   "metadata": {},
   "source": [
    "### 2. Once a water balloon pops, is soaks the area around it. The ground gets drier the further away you travel from the balloon.\n",
    "\n",
    "The effect of a water balloon popping can be modeled using a list. Create a function that takes a list which takes the pre-pop state and returns the state after the balloon is popped. The pre-pop state will contain at most a single balloon, whose size is represented by the only non-zero element.\n",
    "\n",
    "Examples\n",
    "\n",
    "pop([0, 0, 0, 0, 4, 0, 0, 0, 0]) ➞ [0, 1, 2, 3, 4, 3, 2, 1, 0]\n",
    "\n",
    "pop([0, 0, 0, 3, 0, 0, 0]) ➞ [0, 1, 2, 3, 2, 1, 0]\n",
    "\n",
    "pop([0, 0, 2, 0, 0]) ➞ [0, 1, 2, 1, 0]\n",
    "\n",
    "pop([0]) ➞ [0]\n"
   ]
  },
  {
   "cell_type": "code",
   "execution_count": 41,
   "id": "706704fc",
   "metadata": {},
   "outputs": [],
   "source": [
    "import numpy as np\n",
    "def pop(lst):\n",
    "    try:\n",
    "        if len(lst)%2!=0:\n",
    "            if lst[int((len(lst)+1)/2-1)]==int((len(lst)+1)/2-1):\n",
    "                ans=np.copy(lst)\n",
    "                for i in range(int((len(lst)+1)/2-1)):\n",
    "                    ans[i]=ans[-(i+1)]=i\n",
    "                    \n",
    "                print(ans)\n",
    "            \n",
    "            else:\n",
    "                print(\"Invalid Input\")\n",
    "        else:\n",
    "            print(\"Invalid Input\")\n",
    "    \n",
    "    except Exception as e:\n",
    "        print(\"error occurred\",e)"
   ]
  },
  {
   "cell_type": "code",
   "execution_count": 43,
   "id": "d8e09c31",
   "metadata": {},
   "outputs": [
    {
     "name": "stdout",
     "output_type": "stream",
     "text": [
      "[0 1 2 3 2 1 0]\n"
     ]
    }
   ],
   "source": [
    "pop([0, 0, 0, 3, 0, 0, 0])"
   ]
  },
  {
   "cell_type": "code",
   "execution_count": 44,
   "id": "34ea5f77",
   "metadata": {},
   "outputs": [
    {
     "name": "stdout",
     "output_type": "stream",
     "text": [
      "[0]\n"
     ]
    }
   ],
   "source": [
    "pop([0]) "
   ]
  },
  {
   "cell_type": "markdown",
   "id": "1b89ecab",
   "metadata": {},
   "source": [
    "### 3. \"Loves me, loves me not\" is a traditional game in which a person plucks off all the petals of a flower one by one, saying the phrase \"Loves me\" and \"Loves me not\" when determining whether the one that they love, loves them back.\n",
    "\n",
    "Given a number of petals, return a string which repeats the phrases \"Loves me\" and \"Loves me not\" for every alternating petal, and return the last phrase in all caps. Remember to put a comma and space between phrases.\n",
    "\n",
    "Examples\n",
    "\n",
    "loves_me(3) ➞ \"Loves me, Loves me not, LOVES ME\"\n",
    "\n",
    "loves_me(6) ➞ \"Loves me, Loves me not, Loves me, Loves me not, Loves me, LOVES ME NOT\"\n",
    "\n",
    "loves_me(1) ➞ \"LOVES ME\"\n"
   ]
  },
  {
   "cell_type": "code",
   "execution_count": 83,
   "id": "5a9ee7cf",
   "metadata": {},
   "outputs": [],
   "source": [
    "def loves_me(num):\n",
    "    try:\n",
    "        phrase=[\"Loves me\",\"Loves me not\"]\n",
    "        ans=[1]*num\n",
    "        ans[0]=phrase[0]\n",
    "        for i in range(1,num):\n",
    "            if i%2==0:\n",
    "                ans[i]=phrase[0]\n",
    "            else:\n",
    "                ans[i]=phrase[1]\n",
    "                \n",
    "        ans[-1]=ans[-1].upper()\n",
    "            \n",
    "            \n",
    "        return str(\", \".join(ans))\n",
    "    \n",
    "    except Exception as e:\n",
    "        print(\"error occurred\",e)\n",
    "\n"
   ]
  },
  {
   "cell_type": "code",
   "execution_count": 84,
   "id": "c3711b8d",
   "metadata": {},
   "outputs": [
    {
     "data": {
      "text/plain": [
       "'Loves me, Loves me not, Loves me, Loves me not, Loves me, LOVES ME NOT'"
      ]
     },
     "execution_count": 84,
     "metadata": {},
     "output_type": "execute_result"
    }
   ],
   "source": [
    "loves_me(6)"
   ]
  },
  {
   "cell_type": "code",
   "execution_count": 85,
   "id": "8c5ace52",
   "metadata": {},
   "outputs": [
    {
     "data": {
      "text/plain": [
       "'LOVES ME'"
      ]
     },
     "execution_count": 85,
     "metadata": {},
     "output_type": "execute_result"
    }
   ],
   "source": [
    "loves_me(1)"
   ]
  },
  {
   "cell_type": "markdown",
   "id": "1e7dd602",
   "metadata": {},
   "source": [
    "### 4. Write a function that sorts each string in a list by the letter in alphabetic ascending order (a-z).\n",
    "\n",
    "Examples\n",
    "\n",
    "sort_by_letter([\"932c\", \"832u32\", \"2344b\"])\n",
    "➞ [\"2344b\", \"932c\", \"832u32\"]\n",
    "\n",
    "sort_by_letter([\"99a\", \"78b\", \"c2345\", \"11d\"])\n",
    "➞ [\"99a\", \"78b\", \"c2345\", \"11d\"]\n",
    "\n",
    "sort_by_letter([\"572z\", \"5y5\", \"304q2\"])\n",
    "➞ [\"304q2\", \"5y5\", \"572z\"]\n",
    "\n",
    "sort_by_letter([])\n",
    "➞ []\n"
   ]
  },
  {
   "cell_type": "code",
   "execution_count": 131,
   "id": "5e370415",
   "metadata": {},
   "outputs": [],
   "source": [
    "\n",
    "import re\n",
    "def sort_by_letter(lst):\n",
    "    try:\n",
    "        ans=[]\n",
    "        letters=sorted(re.findall(\"[a-zA-Z]+\",\" \".join(lst)))\n",
    "        for i in range(len(letters)):\n",
    "            for j in lst:\n",
    "                if re.search(letters[i],j):\n",
    "                    ans.append(j)\n",
    "        if len(ans)==len(lst):\n",
    "            print(ans)\n",
    "        else:\n",
    "            print(\"Invalid Input : Only 1 letter per element in the input list is allowed\")                    \n",
    "        \n",
    "    except Exception as e:\n",
    "        print(\"error occurred\",e)"
   ]
  },
  {
   "cell_type": "code",
   "execution_count": 135,
   "id": "8a2a89ff",
   "metadata": {},
   "outputs": [
    {
     "name": "stdout",
     "output_type": "stream",
     "text": [
      "['2344b', '932c', '832u32']\n"
     ]
    }
   ],
   "source": [
    "sort_by_letter([\"932c\", \"832u32\", \"2344b\"])"
   ]
  },
  {
   "cell_type": "code",
   "execution_count": 136,
   "id": "baa22418",
   "metadata": {},
   "outputs": [
    {
     "name": "stdout",
     "output_type": "stream",
     "text": [
      "['304q2', '5y5', '572z']\n"
     ]
    }
   ],
   "source": [
    "sort_by_letter([\"572z\", \"5y5\", \"304q2\"])"
   ]
  },
  {
   "cell_type": "code",
   "execution_count": 137,
   "id": "ee53db90",
   "metadata": {},
   "outputs": [
    {
     "name": "stdout",
     "output_type": "stream",
     "text": [
      "[]\n"
     ]
    }
   ],
   "source": [
    "sort_by_letter([])"
   ]
  },
  {
   "cell_type": "markdown",
   "id": "1b2dad40",
   "metadata": {},
   "source": [
    "### 5. There are three cups on a table, at positions A, B, and C. At the start, there is a ball hidden under the cup at position B.\n",
    "\n",
    "\n",
    "\n",
    "\n",
    "\n",
    "\n",
    "However, I perform several swaps on the cups, which is notated as two letters. For example, if I swap the cups at positions A and B, I could notate this as AB or BA.\n",
    "\n",
    "Create a function that returns the letter position that the ball is at, once I finish swapping the cups. The swaps will be given to you as a list.\n",
    "\n",
    "Example\n",
    "\n",
    "cup_swapping([\"AB\", \"CA\", \"AB\"]) ➞ \"C\"\n",
    "\n",
    "#### Ball begins at position B.\n",
    "#### Cups A and B swap, so the ball is at position A.\n",
    "#### Cups C and A swap, so the ball is at position C.\n",
    "#### Cups A and B swap, but the ball is at position C, so it doesn't move.\n"
   ]
  },
  {
   "cell_type": "code",
   "execution_count": 185,
   "id": "89353e64",
   "metadata": {},
   "outputs": [],
   "source": [
    "def cup_swapping(lst):\n",
    "    try:\n",
    "        pos=[\"A\",\"B\",\"C\"]\n",
    "        pos_final=np.copy(pos)\n",
    "        for i in lst:\n",
    "            swap=list(i)\n",
    "            index0 = pos.index(swap[0])\n",
    "            index1=pos.index(swap[1])\n",
    "            pos[index0]=swap[1]\n",
    "            pos[index1]=swap[0]\n",
    "        return pos_final[pos.index(\"B\")]\n",
    "        \n",
    "    except Exception as e:\n",
    "        print(\"error occurred\",e)    "
   ]
  },
  {
   "cell_type": "code",
   "execution_count": 186,
   "id": "b82235c0",
   "metadata": {},
   "outputs": [
    {
     "data": {
      "text/plain": [
       "'C'"
      ]
     },
     "execution_count": 186,
     "metadata": {},
     "output_type": "execute_result"
    }
   ],
   "source": [
    "cup_swapping([\"AB\", \"CA\", \"AB\"])"
   ]
  },
  {
   "cell_type": "code",
   "execution_count": 187,
   "id": "96008afc",
   "metadata": {},
   "outputs": [
    {
     "data": {
      "text/plain": [
       "'A'"
      ]
     },
     "execution_count": 187,
     "metadata": {},
     "output_type": "execute_result"
    }
   ],
   "source": [
    "cup_swapping([\"AB\", \"CA\", \"BA\",\"CA\",\"CB\"])"
   ]
  }
 ],
 "metadata": {
  "kernelspec": {
   "display_name": "Python 3",
   "language": "python",
   "name": "python3"
  },
  "language_info": {
   "codemirror_mode": {
    "name": "ipython",
    "version": 3
   },
   "file_extension": ".py",
   "mimetype": "text/x-python",
   "name": "python",
   "nbconvert_exporter": "python",
   "pygments_lexer": "ipython3",
   "version": "3.8.11"
  }
 },
 "nbformat": 4,
 "nbformat_minor": 5
}
